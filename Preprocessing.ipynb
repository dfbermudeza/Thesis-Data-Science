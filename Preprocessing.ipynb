{
  "cells": [
    {
      "cell_type": "markdown",
      "metadata": {
        "id": "onIhj0h20Mvg"
      },
      "source": [
        "**COMPARATIVE STUDY OF DECISION TREE-BASED AND DEEP LEARNING APPROACHES ON\n",
        "TABULAR DATA. PREDICTING STUDENT PERFORMANCE ON THE COLOMBIAN SABER PRO TEST**\n",
        "\n"
      ]
    },
    {
      "cell_type": "markdown",
      "metadata": {
        "id": "V56YOTbv9AJL"
      },
      "source": [
        "**PREPROCESSING**\n"
      ]
    },
    {
      "cell_type": "code",
      "execution_count": null,
      "metadata": {
        "id": "4zVgqIPv9tOJ"
      },
      "outputs": [],
      "source": [
        "#Imports\n",
        "import pandas as pd\n",
        "import numpy as np\n",
        "import os\n",
        "import matplotlib.pyplot as plt\n",
        "import seaborn as sns\n",
        "from sklearn.model_selection import train_test_split\n",
        "from scipy import stats\n",
        "from scipy.stats import norm\n",
        "from datetime import datetime\n",
        "from sklearn.preprocessing import OneHotEncoder\n",
        "from sklearn.compose import ColumnTransformer"
      ]
    },
    {
      "cell_type": "code",
      "execution_count": null,
      "metadata": {
        "colab": {
          "base_uri": "https://localhost:8080/"
        },
        "id": "88C0UW-F5jUv",
        "outputId": "767783cc-0497-4f37-b036-af3a6f83cb8d"
      },
      "outputs": [
        {
          "output_type": "stream",
          "name": "stdout",
          "text": [
            "Collecting autoimpute\n",
            "  Downloading autoimpute-0.14.1-py3-none-any.whl (98 kB)\n",
            "\u001b[?25l     \u001b[90m━━━━━━━━━━━━━━━━━━━━━━━━━━━━━━━━━━━━━━━━\u001b[0m \u001b[32m0.0/98.1 kB\u001b[0m \u001b[31m?\u001b[0m eta \u001b[36m-:--:--\u001b[0m\r\u001b[2K     \u001b[90m━━━━━━━━━━━━━━━━━━━━━━━━━━━━━━━━━━━━━━━━\u001b[0m \u001b[32m98.1/98.1 kB\u001b[0m \u001b[31m2.8 MB/s\u001b[0m eta \u001b[36m0:00:00\u001b[0m\n",
            "\u001b[?25hRequirement already satisfied: numpy in /usr/local/lib/python3.10/dist-packages (from autoimpute) (1.25.2)\n",
            "Requirement already satisfied: scipy in /usr/local/lib/python3.10/dist-packages (from autoimpute) (1.11.4)\n",
            "Requirement already satisfied: pandas in /usr/local/lib/python3.10/dist-packages (from autoimpute) (2.0.3)\n",
            "Requirement already satisfied: statsmodels in /usr/local/lib/python3.10/dist-packages (from autoimpute) (0.14.2)\n",
            "Requirement already satisfied: xgboost in /usr/local/lib/python3.10/dist-packages (from autoimpute) (2.0.3)\n",
            "Requirement already satisfied: scikit-learn in /usr/local/lib/python3.10/dist-packages (from autoimpute) (1.2.2)\n",
            "Requirement already satisfied: pymc in /usr/local/lib/python3.10/dist-packages (from autoimpute) (5.10.4)\n",
            "Requirement already satisfied: seaborn in /usr/local/lib/python3.10/dist-packages (from autoimpute) (0.13.1)\n",
            "Requirement already satisfied: missingno in /usr/local/lib/python3.10/dist-packages (from autoimpute) (0.5.2)\n",
            "Requirement already satisfied: matplotlib in /usr/local/lib/python3.10/dist-packages (from missingno->autoimpute) (3.7.1)\n",
            "Requirement already satisfied: python-dateutil>=2.8.2 in /usr/local/lib/python3.10/dist-packages (from pandas->autoimpute) (2.8.2)\n",
            "Requirement already satisfied: pytz>=2020.1 in /usr/local/lib/python3.10/dist-packages (from pandas->autoimpute) (2023.4)\n",
            "Requirement already satisfied: tzdata>=2022.1 in /usr/local/lib/python3.10/dist-packages (from pandas->autoimpute) (2024.1)\n",
            "Requirement already satisfied: arviz>=0.13.0 in /usr/local/lib/python3.10/dist-packages (from pymc->autoimpute) (0.15.1)\n",
            "Requirement already satisfied: cachetools>=4.2.1 in /usr/local/lib/python3.10/dist-packages (from pymc->autoimpute) (5.3.3)\n",
            "Requirement already satisfied: cloudpickle in /usr/local/lib/python3.10/dist-packages (from pymc->autoimpute) (2.2.1)\n",
            "Requirement already satisfied: fastprogress>=0.2.0 in /usr/local/lib/python3.10/dist-packages (from pymc->autoimpute) (1.0.3)\n",
            "Requirement already satisfied: pytensor<2.19,>=2.18.1 in /usr/local/lib/python3.10/dist-packages (from pymc->autoimpute) (2.18.6)\n",
            "Requirement already satisfied: typing-extensions>=3.7.4 in /usr/local/lib/python3.10/dist-packages (from pymc->autoimpute) (4.12.2)\n",
            "Requirement already satisfied: joblib>=1.1.1 in /usr/local/lib/python3.10/dist-packages (from scikit-learn->autoimpute) (1.4.2)\n",
            "Requirement already satisfied: threadpoolctl>=2.0.0 in /usr/local/lib/python3.10/dist-packages (from scikit-learn->autoimpute) (3.5.0)\n",
            "Requirement already satisfied: patsy>=0.5.6 in /usr/local/lib/python3.10/dist-packages (from statsmodels->autoimpute) (0.5.6)\n",
            "Requirement already satisfied: packaging>=21.3 in /usr/local/lib/python3.10/dist-packages (from statsmodels->autoimpute) (24.1)\n",
            "Requirement already satisfied: setuptools>=60.0.0 in /usr/local/lib/python3.10/dist-packages (from arviz>=0.13.0->pymc->autoimpute) (67.7.2)\n",
            "Requirement already satisfied: xarray>=0.21.0 in /usr/local/lib/python3.10/dist-packages (from arviz>=0.13.0->pymc->autoimpute) (2023.7.0)\n",
            "Requirement already satisfied: h5netcdf>=1.0.2 in /usr/local/lib/python3.10/dist-packages (from arviz>=0.13.0->pymc->autoimpute) (1.3.0)\n",
            "Requirement already satisfied: xarray-einstats>=0.3 in /usr/local/lib/python3.10/dist-packages (from arviz>=0.13.0->pymc->autoimpute) (0.7.0)\n",
            "Requirement already satisfied: contourpy>=1.0.1 in /usr/local/lib/python3.10/dist-packages (from matplotlib->missingno->autoimpute) (1.2.1)\n",
            "Requirement already satisfied: cycler>=0.10 in /usr/local/lib/python3.10/dist-packages (from matplotlib->missingno->autoimpute) (0.12.1)\n",
            "Requirement already satisfied: fonttools>=4.22.0 in /usr/local/lib/python3.10/dist-packages (from matplotlib->missingno->autoimpute) (4.53.0)\n",
            "Requirement already satisfied: kiwisolver>=1.0.1 in /usr/local/lib/python3.10/dist-packages (from matplotlib->missingno->autoimpute) (1.4.5)\n",
            "Requirement already satisfied: pillow>=6.2.0 in /usr/local/lib/python3.10/dist-packages (from matplotlib->missingno->autoimpute) (9.4.0)\n",
            "Requirement already satisfied: pyparsing>=2.3.1 in /usr/local/lib/python3.10/dist-packages (from matplotlib->missingno->autoimpute) (3.1.2)\n",
            "Requirement already satisfied: six in /usr/local/lib/python3.10/dist-packages (from patsy>=0.5.6->statsmodels->autoimpute) (1.16.0)\n",
            "Requirement already satisfied: filelock in /usr/local/lib/python3.10/dist-packages (from pytensor<2.19,>=2.18.1->pymc->autoimpute) (3.14.0)\n",
            "Requirement already satisfied: etuples in /usr/local/lib/python3.10/dist-packages (from pytensor<2.19,>=2.18.1->pymc->autoimpute) (0.3.9)\n",
            "Requirement already satisfied: logical-unification in /usr/local/lib/python3.10/dist-packages (from pytensor<2.19,>=2.18.1->pymc->autoimpute) (0.4.6)\n",
            "Requirement already satisfied: miniKanren in /usr/local/lib/python3.10/dist-packages (from pytensor<2.19,>=2.18.1->pymc->autoimpute) (1.0.3)\n",
            "Requirement already satisfied: cons in /usr/local/lib/python3.10/dist-packages (from pytensor<2.19,>=2.18.1->pymc->autoimpute) (0.4.6)\n",
            "Requirement already satisfied: h5py in /usr/local/lib/python3.10/dist-packages (from h5netcdf>=1.0.2->arviz>=0.13.0->pymc->autoimpute) (3.9.0)\n",
            "Requirement already satisfied: toolz in /usr/local/lib/python3.10/dist-packages (from logical-unification->pytensor<2.19,>=2.18.1->pymc->autoimpute) (0.12.1)\n",
            "Requirement already satisfied: multipledispatch in /usr/local/lib/python3.10/dist-packages (from logical-unification->pytensor<2.19,>=2.18.1->pymc->autoimpute) (1.0.0)\n",
            "Installing collected packages: autoimpute\n",
            "Successfully installed autoimpute-0.14.1\n"
          ]
        }
      ],
      "source": [
        "pip install autoimpute"
      ]
    },
    {
      "cell_type": "code",
      "execution_count": null,
      "metadata": {
        "colab": {
          "base_uri": "https://localhost:8080/"
        },
        "id": "QbQmBn498A9r",
        "outputId": "002af7af-5073-4704-ba3f-e8095ded5e19"
      },
      "outputs": [
        {
          "output_type": "stream",
          "name": "stdout",
          "text": [
            "Collecting category_encoders\n",
            "  Downloading category_encoders-2.6.3-py2.py3-none-any.whl (81 kB)\n",
            "\u001b[2K     \u001b[90m━━━━━━━━━━━━━━━━━━━━━━━━━━━━━━━━━━━━━━━━\u001b[0m \u001b[32m81.9/81.9 kB\u001b[0m \u001b[31m1.2 MB/s\u001b[0m eta \u001b[36m0:00:00\u001b[0m\n",
            "\u001b[?25hRequirement already satisfied: numpy>=1.14.0 in /usr/local/lib/python3.10/dist-packages (from category_encoders) (1.25.2)\n",
            "Requirement already satisfied: scikit-learn>=0.20.0 in /usr/local/lib/python3.10/dist-packages (from category_encoders) (1.2.2)\n",
            "Requirement already satisfied: scipy>=1.0.0 in /usr/local/lib/python3.10/dist-packages (from category_encoders) (1.11.4)\n",
            "Requirement already satisfied: statsmodels>=0.9.0 in /usr/local/lib/python3.10/dist-packages (from category_encoders) (0.14.2)\n",
            "Requirement already satisfied: pandas>=1.0.5 in /usr/local/lib/python3.10/dist-packages (from category_encoders) (2.0.3)\n",
            "Requirement already satisfied: patsy>=0.5.1 in /usr/local/lib/python3.10/dist-packages (from category_encoders) (0.5.6)\n",
            "Requirement already satisfied: python-dateutil>=2.8.2 in /usr/local/lib/python3.10/dist-packages (from pandas>=1.0.5->category_encoders) (2.8.2)\n",
            "Requirement already satisfied: pytz>=2020.1 in /usr/local/lib/python3.10/dist-packages (from pandas>=1.0.5->category_encoders) (2023.4)\n",
            "Requirement already satisfied: tzdata>=2022.1 in /usr/local/lib/python3.10/dist-packages (from pandas>=1.0.5->category_encoders) (2024.1)\n",
            "Requirement already satisfied: six in /usr/local/lib/python3.10/dist-packages (from patsy>=0.5.1->category_encoders) (1.16.0)\n",
            "Requirement already satisfied: joblib>=1.1.1 in /usr/local/lib/python3.10/dist-packages (from scikit-learn>=0.20.0->category_encoders) (1.4.2)\n",
            "Requirement already satisfied: threadpoolctl>=2.0.0 in /usr/local/lib/python3.10/dist-packages (from scikit-learn>=0.20.0->category_encoders) (3.5.0)\n",
            "Requirement already satisfied: packaging>=21.3 in /usr/local/lib/python3.10/dist-packages (from statsmodels>=0.9.0->category_encoders) (24.1)\n",
            "Installing collected packages: category_encoders\n",
            "Successfully installed category_encoders-2.6.3\n"
          ]
        }
      ],
      "source": [
        "!pip install category_encoders"
      ]
    },
    {
      "cell_type": "code",
      "execution_count": null,
      "metadata": {
        "id": "001wWA6Y-lFf"
      },
      "outputs": [],
      "source": [
        "from autoimpute.imputations import SingleImputer"
      ]
    },
    {
      "cell_type": "code",
      "execution_count": null,
      "metadata": {
        "id": "Uq_Lcl6fnjgE"
      },
      "outputs": [],
      "source": [
        "import pickle\n",
        "from category_encoders import LeaveOneOutEncoder\n",
        "from sklearn.preprocessing import LabelEncoder"
      ]
    },
    {
      "cell_type": "markdown",
      "metadata": {
        "id": "2-iekC-N2_0H"
      },
      "source": [
        "Saber 11 Merging"
      ]
    },
    {
      "cell_type": "code",
      "execution_count": null,
      "metadata": {
        "id": "Ru5_ld0v93qd"
      },
      "outputs": [],
      "source": [
        "def merge_txt_files(folder_path):\n",
        "    dfs = []\n",
        "\n",
        "    for filename in os.listdir(folder_path):\n",
        "        if filename.endswith('.txt'):\n",
        "            file_path = os.path.join(folder_path, filename)\n",
        "            df = pd.read_csv(file_path, sep=\"¬\", engine='python')\n",
        "            dfs.append(df)\n",
        "    combined_df = pd.concat(dfs, ignore_index=True)\n",
        "\n",
        "    return combined_df\n",
        "\n",
        "folder_path = '/Users/danielfelipebermudezarias/Downloads/Thesis Project/Thesis Icfes/ICFES DATA'\n",
        "merged_data = merge_txt_files(folder_path)"
      ]
    },
    {
      "cell_type": "markdown",
      "metadata": {
        "id": "3ZIs6v863QlY"
      },
      "source": [
        "Saber Pro Merging"
      ]
    },
    {
      "cell_type": "code",
      "execution_count": null,
      "metadata": {
        "id": "jSs0gstR-Ao4"
      },
      "outputs": [],
      "source": [
        "def merge_txt_files_2(folder_path):\n",
        "    dfs = []\n",
        "    for filename in os.listdir(folder_path):\n",
        "        if filename.endswith('.txt'):\n",
        "            file_path = os.path.join(folder_path, filename)\n",
        "            with open(file_path, 'r', encoding='utf-8') as file:\n",
        "                lines = file.readlines()\n",
        "            data = [line.strip().split(\"¬\") for line in lines]\n",
        "            df = pd.DataFrame(data)\n",
        "            dfs.append(df)\n",
        "    common_cols = set(dfs[0].columns)\n",
        "    for df in dfs[1:]:\n",
        "        common_cols = common_cols.intersection(df.columns)\n",
        "    common_cols = list(common_cols)\n",
        "    merged_df = pd.concat([df[common_cols] for df in dfs], ignore_index=True)\n",
        "\n",
        "    return merged_df\n",
        "\n"
      ]
    },
    {
      "cell_type": "code",
      "execution_count": null,
      "metadata": {
        "id": "gebDTWRi-7x3"
      },
      "outputs": [],
      "source": [
        "folder_path_2 = '/Users/danielfelipebermudezarias/Downloads/Thesis Project/Thesis Icfes/Saber Pro DAta/Prueba'\n",
        "folder_path_3 = '/Users/danielfelipebermudezarias/Downloads/Thesis Project/Thesis Icfes/Saber Pro DAta/Prueba 2'\n",
        "folder_path_4 = '/Users/danielfelipebermudezarias/Downloads/Thesis Project/Thesis Icfes/Saber Pro DAta/Prueba 3'\n",
        "folder_path_5 = '/Users/danielfelipebermudezarias/Downloads/Thesis Project/Thesis Icfes/Saber Pro DAta/Prueba 4'\n",
        "folder_path_6 = '/Users/danielfelipebermudezarias/Downloads/Thesis Project/Thesis Icfes/Saber Pro DAta/Prueba 5'\n",
        "\n",
        "\n",
        "saberpro_19 = merge_txt_files_2(folder_path_2)\n",
        "saberpro_19.columns = saberpro_19.iloc[0]\n",
        "saberpro_19 = saberpro_19.drop(0)\n",
        "saberpro_19.head()\n",
        "\n",
        "\n",
        "saberpro_20 = merge_txt_files_2(folder_path_3)\n",
        "saberpro_20.columns = saberpro_20.iloc[0]\n",
        "saberpro_20 = saberpro_20.drop(0)\n",
        "\n",
        "\n",
        "saberpro_21 = merge_txt_files_2(folder_path_4)\n",
        "saberpro_21.columns = saberpro_21.iloc[0]\n",
        "saberpro_21 = saberpro_21.drop(0)\n",
        "\n",
        "\n",
        "saberpro_22_1 = merge_txt_files_2(folder_path_5)\n",
        "saberpro_22_1.columns = saberpro_22_1.iloc[0]\n",
        "saberpro_22_1 = saberpro_22_1.drop(0)\n",
        "\n",
        "saberpro_22_2 = merge_txt_files_2(folder_path_6)\n",
        "saberpro_22_2.columns = saberpro_22_2.iloc[0]\n",
        "saberpro_22_2 = saberpro_22_2.drop(0)"
      ]
    },
    {
      "cell_type": "markdown",
      "metadata": {
        "id": "OVF5Bu8k4Ft2"
      },
      "source": [
        "Finding columns unique to each DataFrame to drop them"
      ]
    },
    {
      "cell_type": "code",
      "execution_count": null,
      "metadata": {
        "id": "bhIjNILH_ODj"
      },
      "outputs": [],
      "source": [
        "def compare_column_order(df1, df2, df3, df4, df5):\n",
        "\n",
        "    columns_dfs = [df.columns.tolist() for df in (df1, df2, df3, df4, df5)]\n",
        "\n",
        "\n",
        "    return all(columns_df == columns_dfs[0] for columns_df in columns_dfs[1:])\n",
        "if compare_column_order(saberpro_19, saberpro_20, saberpro_21, saberpro_22_1, saberpro_22_2):\n",
        "    print(\"The column orders are the same for all DataFrames.\")\n",
        "else:\n",
        "    print(\"The column orders are different for at least one pair of DataFrames.\")"
      ]
    },
    {
      "cell_type": "code",
      "execution_count": null,
      "metadata": {
        "id": "iQ4gRdVK_DB_"
      },
      "outputs": [],
      "source": [
        "def find_column_differences_and_drop(*dfs):\n",
        "    columns_dfs = [set(df.columns) for df in dfs]\n",
        "\n",
        "    unique_columns = []\n",
        "    for i, columns_df in enumerate(columns_dfs):\n",
        "        other_columns = set().union(*(columns_dfs[:i] + columns_dfs[i+1:]))\n",
        "        unique_to_df = columns_df - other_columns\n",
        "        unique_columns.append(unique_to_df)\n",
        "\n",
        "    for i, unique_to_df in enumerate(unique_columns, start=1):\n",
        "        print(f\"Columns dropped from df{i}:\", unique_to_df)\n",
        "\n",
        "    modified_dfs = []\n",
        "    for df, unique_to_df in zip(dfs, unique_columns):\n",
        "        modified_df = df.drop(columns=unique_to_df)\n",
        "        modified_dfs.append(modified_df)\n",
        "\n",
        "    return tuple(modified_dfs)\n",
        "\n",
        "saberpro_19, saberpro_20, saberpro_21, saberpro_22_1, saberpro_22_2 = find_column_differences_and_drop(saberpro_19, saberpro_20, saberpro_21, saberpro_22_1, saberpro_22_2)"
      ]
    },
    {
      "cell_type": "code",
      "execution_count": null,
      "metadata": {
        "id": "2Io1SMGN_iAa"
      },
      "outputs": [],
      "source": [
        "concatenated_df1 = pd.concat([saberpro_19, saberpro_20, saberpro_21], ignore_index=True)\n",
        "\n",
        "\n",
        "concatenated_df2 = pd.concat([concatenated_df1, saberpro_22_1, saberpro_22_2], ignore_index=True)\n",
        "\n",
        "for column in concatenated_df2.columns:\n",
        "    concatenated_df2.rename(columns={column: column + \"_pro\"}, inplace=True)"
      ]
    },
    {
      "cell_type": "code",
      "execution_count": null,
      "metadata": {
        "id": "be2ND62F_t-s"
      },
      "outputs": [],
      "source": [
        "key_df =  pd.read_csv('/Users/danielfelipebermudezarias/Downloads/Llave_Saber11_SaberPro.txt')"
      ]
    },
    {
      "cell_type": "code",
      "execution_count": null,
      "metadata": {
        "id": "C0NLD57n_zU-"
      },
      "outputs": [],
      "source": [
        "merged_data_with_key_2 = pd.merge(concatenated_df2, key_df, left_on='ESTU_CONSECUTIVO_pro', right_on='id_using', how='inner')"
      ]
    },
    {
      "cell_type": "code",
      "execution_count": null,
      "metadata": {
        "id": "FvWCkTU3_4RH"
      },
      "outputs": [],
      "source": [
        "merged_data_with_key = pd.merge(merged_data, key_df, left_on='ESTU_CONSECUTIVO', right_on='id_master', how='inner')\n",
        "merged_data_with_key.head ()"
      ]
    },
    {
      "cell_type": "code",
      "execution_count": null,
      "metadata": {
        "id": "o4cA16hH_7iT"
      },
      "outputs": [],
      "source": [
        "final_merged_data = pd.merge(merged_data_with_key_2, merged_data_with_key, left_on='id_using', right_on='id_using', how='inner')"
      ]
    },
    {
      "cell_type": "code",
      "execution_count": null,
      "metadata": {
        "id": "b0Ao9hS3ACAT"
      },
      "outputs": [],
      "source": [
        "final_without_na = final_merged_data.dropna(subset=['PUNT_GLOBAL_pro'])"
      ]
    },
    {
      "cell_type": "code",
      "execution_count": null,
      "metadata": {
        "id": "sdoNGwS4ASOi"
      },
      "outputs": [],
      "source": [
        "\n",
        "final_without_na['PUNT_GLOBAL_pro'] = pd.to_numeric(final_without_na['PUNT_GLOBAL_pro'], errors='coerce')\n",
        "final_without_na['PUNT_GLOBAL_pro'].describe()"
      ]
    },
    {
      "cell_type": "code",
      "execution_count": null,
      "metadata": {
        "id": "d2r2MVPEAMsl"
      },
      "outputs": [],
      "source": [
        "plt.figure(figsize=(8, 6))\n",
        "final_without_na['PUNT_GLOBAL_pro'].plot(kind='hist', bins=20, color='skyblue', edgecolor='black')\n",
        "plt.title('Distribution of Global Score SaberPro')\n",
        "plt.xlabel('')\n",
        "plt.ylabel('Frequency')\n",
        "plt.grid(True)\n",
        "plt.show()"
      ]
    },
    {
      "cell_type": "code",
      "execution_count": null,
      "metadata": {
        "id": "daUrHWpYAmWJ"
      },
      "outputs": [],
      "source": [
        "final_data = pd.read_csv('/content/drive/MyDrive/Thesis Dataset/final_final.csv',  low_memory=False)"
      ]
    },
    {
      "cell_type": "markdown",
      "metadata": {
        "id": "TmxWq6gE5IYi"
      },
      "source": [
        "Variables Selection"
      ]
    },
    {
      "cell_type": "code",
      "execution_count": null,
      "metadata": {
        "id": "9T11Tts2Hc4-"
      },
      "outputs": [],
      "source": [
        "thesis_data = final_data[['ESTU_CONSECUTIVO_pro','ESTU_NACIONALIDAD_pro', 'ESTU_GENERO_pro', 'ESTU_FECHANACIMIENTO_pro', 'PERIODO_pro',\n",
        "                          'ESTU_PAIS_RESIDE_pro', 'ESTU_ETNIA','ESTU_DEPTO_RESIDE_pro', 'ESTU_AREARESIDE_pro',\n",
        "                          'ESTU_VALORMATRICULAUNIVERSIDAD_pro', 'ESTU_PAGOMATRICULABECA_pro',\n",
        "                          'ESTU_PAGOMATRICULACREDITO_pro', 'ESTU_PAGOMATRICULAPADRES_pro',\n",
        "                          'ESTU_PAGOMATRICULAPROPIO_pro', 'FAMI_EDUCACIONPADRE_pro', 'FAMI_EDUCACIONMADRE_pro','FAMI_TRABAJOLABORPADRE_pro','FAMI_TRABAJOLABORMADRE_pro',\n",
        "                          'FAMI_ESTRATOVIVIENDA_pro', 'FAMI_TIENEINTERNET_pro', 'FAMI_TIENESERVICIOTV_pro',\n",
        "                          'FAMI_TIENECOMPUTADOR_pro', 'FAMI_TIENELAVADORA_pro', 'FAMI_TIENECONSOLAVIDEOJUEGOS_pro','FAMI_CUANTOSCOMPARTEBAÑO_pro',\n",
        "                          'FAMI_TIENEAUTOMOVIL_pro', 'ESTU_HORASSEMANATRABAJA_pro',\n",
        "                          'FAMI_TIENEMOTOCICLETA_pro', 'FAMI_ESTRATOVIVIENDA','FAMI_TIENEINTERNET', 'FAMI_TIENECOMPUTADOR', 'FAMI_TIENELAVADORA',\n",
        "                          'FAMI_TIENEAUTOMOVIL', 'ESTU_TRABAJAACTUALMENTE',\n",
        "                          'PUNT_GLOBAL_pro', 'ESTU_TIENEETNIA', 'INST_CARACTER_ACADEMICO_pro' ,'INST_ORIGEN_pro',\n",
        "                          'GRUPOREFERENCIA_pro', 'ESTU_METODO_PRGM_pro', 'ESTU_INST_DEPARTAMENTO_pro'\n",
        "                          ]]\n",
        "\n",
        "thesis_data.columns = ['ID', 'Nationality', 'Gender', 'Date_of_Birth', 'Period',\n",
        "                       'Country_of_Residence', 'Ethnicity', 'Residence_Department_pro',\n",
        "                       'Residence_Area_pro', 'University_Tuition_Fee_pro', 'Scholarship_Payment_pro',\n",
        "                       'Credit_Payment_pro', 'Parent_Payment_pro', 'Self_Payment_pro', 'Father_Education_pro',\n",
        "                       'Mother_Education_pro', 'Father_work_pro', 'Mother_work_pro', 'Housing_Stratum_pro', 'Internet_Access_pro',\n",
        "                       'TV_Service_pro', 'Computer_Access_pro', 'Washing_Machine_Access_pro',\n",
        "                       'Video_Game_Console_Access_pro', 'Shared_Bathroom_Count_pro',\n",
        "                       'Car_Access_pro', 'Weekly_Working_Hours_pro',\n",
        "                       'Motorcycle_Access_pro','Housing_Stratum',\n",
        "                       'Internet_Access', 'Computer_Access',\n",
        "                       'Washing_Machine_Access', 'Car_Access', 'Currently_Working',\n",
        "                       'Global_Score_pro', 'Student_Ethnicity', 'Institution_Academic_Character_pro',\n",
        "                       'Institution_Origin_pro', 'Group_Reference_pro', 'Student_Program_Method_pro', 'Institution_Department_pro'\n",
        "                       ]"
      ]
    },
    {
      "cell_type": "markdown",
      "metadata": {
        "id": "JoqJvKI85ZOl"
      },
      "source": [
        "Random Splitting"
      ]
    },
    {
      "cell_type": "code",
      "execution_count": null,
      "metadata": {
        "id": "JB2S3gNpHfFQ"
      },
      "outputs": [],
      "source": [
        "train_data, test_data = train_test_split(thesis_data, test_size=0.2, random_state=42)\n",
        "\n",
        "train_data_final, validation_data = train_test_split(train_data, test_size=0.2, random_state=42)"
      ]
    },
    {
      "cell_type": "code",
      "execution_count": null,
      "metadata": {
        "id": "emfhJL2MLbaI"
      },
      "outputs": [],
      "source": [
        "train_data_final.to_csv('/content/drive/MyDrive/Thesis Dataset/train_set.csv', index=False)\n",
        "validation_data.to_csv('/content/drive/MyDrive/Thesis Dataset/validation_set.csv', index=False)\n",
        "test_data.to_csv('/content/drive/MyDrive/Thesis Dataset/test_set', index=False)"
      ]
    },
    {
      "cell_type": "code",
      "execution_count": null,
      "metadata": {
        "id": "gZFsZ2gP76JA"
      },
      "outputs": [],
      "source": [
        "train_data = pd.read_csv('/content/drive/MyDrive/Thesis Dataset/train_set.csv')"
      ]
    },
    {
      "cell_type": "code",
      "execution_count": null,
      "metadata": {
        "id": "qvCI_iYOFWQy"
      },
      "outputs": [],
      "source": [
        "validation_data = pd.read_csv('/content/drive/MyDrive/Thesis Dataset/validation_set.csv')"
      ]
    },
    {
      "cell_type": "code",
      "execution_count": null,
      "metadata": {
        "id": "G6HVa9mQFWoZ"
      },
      "outputs": [],
      "source": [
        "test_data = pd.read_csv('/content/drive/MyDrive/Thesis Dataset/test_set')"
      ]
    },
    {
      "cell_type": "markdown",
      "metadata": {
        "id": "1pPIGRjn5iI2"
      },
      "source": [
        "EDA"
      ]
    },
    {
      "cell_type": "code",
      "execution_count": null,
      "metadata": {
        "colab": {
          "base_uri": "https://localhost:8080/",
          "height": 545
        },
        "id": "3ndtmgVkwvJL",
        "outputId": "59d09558-089f-4eb2-878e-8c7cde61949c"
      },
      "outputs": [
        {
          "output_type": "display_data",
          "data": {
            "text/plain": [
              "<Figure size 800x600 with 1 Axes>"
            ],
            "image/png": "[encoded data removed]"
          },
          "metadata": {}
        }
      ],
      "source": [
        "plt.figure(figsize=(8, 6))\n",
        "train_data['Global_Score_pro'].plot(kind='hist', bins=20, color='darkblue', edgecolor='black')\n",
        "plt.title('Distribution of Global Score SaberPro')\n",
        "plt.xlabel('')\n",
        "plt.ylabel('Frequency')\n",
        "plt.grid(True)\n",
        "plt.savefig('/content/drive/MyDrive/Images/Global_scoredistribution_1.jpg', dpi=300)\n",
        "plt.show()"
      ]
    },
    {
      "cell_type": "code",
      "execution_count": null,
      "metadata": {
        "colab": {
          "base_uri": "https://localhost:8080/"
        },
        "id": "stu6PApxZr8K",
        "outputId": "e29e69b6-9b34-413f-8f06-0561664b068c"
      },
      "outputs": [
        {
          "output_type": "execute_result",
          "data": {
            "text/plain": [
              "count    191359.000000\n",
              "mean        154.109475\n",
              "std          25.521501\n",
              "min           0.000000\n",
              "25%         137.000000\n",
              "50%         154.000000\n",
              "75%         172.000000\n",
              "max         268.000000\n",
              "Name: Global_Score_pro, dtype: float64"
            ]
          },
          "metadata": {},
          "execution_count": 10
        }
      ],
      "source": [
        "train_data['Global_Score_pro'].describe()"
      ]
    },
    {
      "cell_type": "markdown",
      "metadata": {
        "id": "ULxsIXK_5nfi"
      },
      "source": [
        "Normality check"
      ]
    },
    {
      "cell_type": "code",
      "execution_count": null,
      "metadata": {
        "colab": {
          "base_uri": "https://localhost:8080/"
        },
        "id": "1Sawxt1JDhRu",
        "outputId": "b7c96e70-7102-4a80-de3e-5f1b5562ae62"
      },
      "outputs": [
        {
          "name": "stdout",
          "output_type": "stream",
          "text": [
            "Kolmogorov-Smirnov test statistic: 0.999984322660549\n",
            "p-value: 0.0\n"
          ]
        }
      ],
      "source": [
        "variable = train_data['Global_Score_pro']\n",
        "\n",
        "kstest_result = stats.kstest(variable, 'norm')\n",
        "\n",
        "print(\"Kolmogorov-Smirnov test statistic:\", kstest_result.statistic)\n",
        "print(\"p-value:\", kstest_result.pvalue)"
      ]
    },
    {
      "cell_type": "code",
      "execution_count": null,
      "metadata": {
        "colab": {
          "base_uri": "https://localhost:8080/",
          "height": 550
        },
        "id": "xbQF1eBaGMTy",
        "outputId": "e7fa7b3e-5ca2-47f1-9776-615682437727"
      },
      "outputs": [
        {
          "data": {
            "image/png": "[encoded data removed]",
            "text/plain": [
              "<Figure size 800x600 with 1 Axes>"
            ]
          },
          "metadata": {},
          "output_type": "display_data"
        }
      ],
      "source": [
        "plt.figure(figsize=(8, 6))\n",
        "\n",
        "sns.boxplot(y=train_data['Global_Score_pro'], color='darkblue', medianprops=dict(color=\"white\"))\n",
        "\n",
        "plt.title('Distribution of Global_Score_pro')\n",
        "plt.xlabel('Score')\n",
        "\n",
        "\n",
        "plt.savefig('/content/drive/MyDrive/Images/Global_scoredboxplot_1.jpg', dpi=300)\n",
        "plt.show()"
      ]
    },
    {
      "cell_type": "code",
      "execution_count": null,
      "metadata": {
        "colab": {
          "base_uri": "https://localhost:8080/",
          "height": 564
        },
        "id": "CMmY4vBFMslJ",
        "outputId": "abc5315d-ca00-4d80-cb69-76f3ae6c14f5"
      },
      "outputs": [
        {
          "data": {
            "image/png": "[encoded data removed]",
            "text/plain": [
              "<Figure size 800x600 with 1 Axes>"
            ]
          },
          "metadata": {},
          "output_type": "display_data"
        }
      ],
      "source": [
        "variable = train_data['Global_Score_pro']\n",
        "\n",
        "plt.figure(figsize=(8, 6))\n",
        "sns.histplot(variable, bins=20, color='darkblue', edgecolor='black', kde=False, stat='density', label='Data Histogram')\n",
        "\n",
        "mean = np.mean(variable)\n",
        "std_dev = np.std(variable)\n",
        "\n",
        "x = np.linspace(min(variable), max(variable), 1000)\n",
        "\n",
        "pdf = norm.pdf(x, mean, std_dev)\n",
        "\n",
        "plt.plot(x, pdf, color='red', linestyle='--', label='Normal Distribution')\n",
        "\n",
        "plt.title('Histogram with Overlayed Normal Distribution')\n",
        "plt.xlabel('Global Score SaberPro')\n",
        "plt.ylabel('Probability Density')\n",
        "plt.legend()\n",
        "plt.grid(True)\n",
        "\n",
        "plt.savefig('/content/drive/MyDrive/Images/Global_scoredistribution_2.jpg', dpi=300)\n",
        "\n",
        "plt.show()"
      ]
    },
    {
      "cell_type": "markdown",
      "metadata": {
        "id": "UKwEqjM96mEL"
      },
      "source": [
        "Variable creation"
      ]
    },
    {
      "cell_type": "code",
      "execution_count": null,
      "metadata": {
        "id": "nscHD_0SZ1of"
      },
      "outputs": [],
      "source": [
        "mapping = {\n",
        "    20212: datetime(2021, 7, 11),\n",
        "    20203: datetime(2020, 10, 18),\n",
        "    20195: datetime(2019, 10, 20),\n",
        "    20194: datetime(2019, 10, 20),\n",
        "    20213: datetime(2021, 7, 11),\n",
        "    20202: datetime(2020, 10, 18),\n",
        "    20196: datetime(2019, 10, 20)\n",
        "}\n",
        "\n",
        "\n",
        "train_data['Period'] = train_data['Period'].map(mapping)"
      ]
    },
    {
      "cell_type": "code",
      "execution_count": null,
      "metadata": {
        "colab": {
          "base_uri": "https://localhost:8080/"
        },
        "id": "klwYMea5tNWH",
        "outputId": "c4d8675a-e6a3-452d-f434-4192d89e2166"
      },
      "outputs": [
        {
          "data": {
            "text/plain": [
              "Period\n",
              "2021-07-11    73685\n",
              "2020-10-18    69799\n",
              "2019-10-20    47875\n",
              "Name: count, dtype: int64"
            ]
          },
          "execution_count": 67,
          "metadata": {},
          "output_type": "execute_result"
        }
      ],
      "source": [
        "train_data['Period'].value_counts()"
      ]
    },
    {
      "cell_type": "code",
      "execution_count": null,
      "metadata": {
        "colab": {
          "base_uri": "https://localhost:8080/"
        },
        "id": "AQjA0er4tiJO",
        "outputId": "f993d56b-cbcc-46ec-e735-68b91bd0a04b"
      },
      "outputs": [
        {
          "data": {
            "text/plain": [
              "count         191356\n",
              "unique          3828\n",
              "top       15/09/1998\n",
              "freq             225\n",
              "Name: Date_of_Birth, dtype: object"
            ]
          },
          "execution_count": 68,
          "metadata": {},
          "output_type": "execute_result"
        }
      ],
      "source": [
        "train_data['Date_of_Birth'].describe()"
      ]
    },
    {
      "cell_type": "code",
      "execution_count": null,
      "metadata": {
        "id": "H7VDJvWTeChW"
      },
      "outputs": [],
      "source": [
        "from datetime import datetime\n",
        "train_data['Date_of_Birth'] = pd.to_datetime(train_data['Date_of_Birth'], format='%d/%m/%Y', errors='coerce')\n",
        "\n",
        "term_dates = {\n",
        "    '20194': datetime(2019, 10, 20),\n",
        "    '20196': datetime(2019, 10, 20),\n",
        "    '20195': datetime(2019, 10, 20),\n",
        "    '20203': datetime(2020, 10, 18),\n",
        "    '20202': datetime(2020, 10, 18),\n",
        "    '20212': datetime(2021, 7, 11),\n",
        "    '20213': datetime(2021, 7, 11)\n",
        "}\n",
        "\n",
        "def calculate_age(row):\n",
        "    today = term_dates.get(row['Period'], pd.to_datetime('today'))\n",
        "    return today.year - row['Date_of_Birth'].year - ((today.month, today.day) < (row['Date_of_Birth'].month, row['Date_of_Birth'].day))\n",
        "\n",
        "train_data['Age'] = train_data.apply(calculate_age, axis=1)"
      ]
    },
    {
      "cell_type": "code",
      "execution_count": null,
      "metadata": {
        "colab": {
          "base_uri": "https://localhost:8080/",
          "height": 550
        },
        "id": "WcxYoDZfBN2F",
        "outputId": "5efb2fd3-274d-449b-ccef-f4879d9bb183"
      },
      "outputs": [
        {
          "data": {
            "image/png": "[encoded data removed]",
            "text/plain": [
              "<Figure size 800x600 with 1 Axes>"
            ]
          },
          "metadata": {},
          "output_type": "display_data"
        }
      ],
      "source": [
        "plt.figure(figsize=(8, 6))\n",
        "sns.boxplot(y=train_data['Age'],  color='darkblue', medianprops=dict(color=\"white\"))\n",
        "plt.title('Distribution of Age')\n",
        "plt.xlabel('Age')\n",
        "plt.savefig('/content/drive/MyDrive/Images/Age_boxplot_1.jpg', dpi=300)\n",
        "plt.show()"
      ]
    },
    {
      "cell_type": "code",
      "execution_count": null,
      "metadata": {
        "colab": {
          "base_uri": "https://localhost:8080/"
        },
        "id": "2uA55oKK7OEq",
        "outputId": "c661f698-f58d-4543-8af7-554c6ef8110f"
      },
      "outputs": [
        {
          "data": {
            "text/plain": [
              "count    191352.000000\n",
              "mean         25.438140\n",
              "std           1.643823\n",
              "min           3.000000\n",
              "25%          25.000000\n",
              "50%          25.000000\n",
              "75%          26.000000\n",
              "max         124.000000\n",
              "Name: Age, dtype: float64"
            ]
          },
          "execution_count": 71,
          "metadata": {},
          "output_type": "execute_result"
        }
      ],
      "source": [
        "train_data['Age'].describe()"
      ]
    },
    {
      "cell_type": "code",
      "execution_count": null,
      "metadata": {
        "id": "Td4Yh23P_oyH"
      },
      "outputs": [],
      "source": [
        "mean_age = train_data['Age'].describe()['mean']"
      ]
    },
    {
      "cell_type": "code",
      "execution_count": null,
      "metadata": {
        "colab": {
          "base_uri": "https://localhost:8080/"
        },
        "id": "-YMvRrpLpBCt",
        "outputId": "3400dabd-16d3-46d0-9fe1-b670a6a2b245"
      },
      "outputs": [
        {
          "name": "stdout",
          "output_type": "stream",
          "text": [
            "20.438140181445714 30.438140181445714\n"
          ]
        }
      ],
      "source": [
        "lower_bound = mean_age - 5\n",
        "upper_bound = mean_age + 5\n",
        "print(lower_bound, upper_bound)"
      ]
    },
    {
      "cell_type": "code",
      "execution_count": null,
      "metadata": {
        "colab": {
          "base_uri": "https://localhost:8080/"
        },
        "id": "aRU8S2Ftf905",
        "outputId": "89884349-0929-46d6-a0c8-cec5115681a5"
      },
      "outputs": [
        {
          "name": "stdout",
          "output_type": "stream",
          "text": [
            "Number of instances above upper bound: 1168\n",
            "Number of instances below lower bound: 61\n"
          ]
        }
      ],
      "source": [
        "instances_above = sum(train_data['Age'] > upper_bound)\n",
        "instances_below = sum(train_data['Age'] < lower_bound)\n",
        "\n",
        "train_data = train_data[(train_data['Age'] >= lower_bound) & (train_data['Age'] <= upper_bound)]\n",
        "\n",
        "print(f\"Number of instances above upper bound: {instances_above}\")\n",
        "print(f\"Number of instances below lower bound: {instances_below}\")"
      ]
    },
    {
      "cell_type": "code",
      "execution_count": null,
      "metadata": {
        "id": "NxOjoFE0zxwl"
      },
      "outputs": [],
      "source": [
        "train_data.drop(['Period', 'Date_of_Birth'], axis=1, inplace=True)"
      ]
    },
    {
      "cell_type": "code",
      "execution_count": null,
      "metadata": {
        "colab": {
          "base_uri": "https://localhost:8080/",
          "height": 550
        },
        "id": "VCOFppEUjdJi",
        "outputId": "6c582da8-edeb-4c9c-b16e-f015d181d31c"
      },
      "outputs": [
        {
          "data": {
            "image/png": "[encoded data removed]",
            "text/plain": [
              "<Figure size 800x600 with 1 Axes>"
            ]
          },
          "metadata": {},
          "output_type": "display_data"
        }
      ],
      "source": [
        "plt.figure(figsize=(8, 6))\n",
        "\n",
        "sns.boxplot(y=train_data['Age'], color='darkblue', medianprops=dict(color=\"white\"), width=0.5)\n",
        "plt.title('Distribution of Age')\n",
        "plt.xlabel('Age')\n",
        "plt.savefig('/content/drive/MyDrive/Images/Age_boxplot_1.jpg', dpi=300)\n",
        "plt.show()"
      ]
    },
    {
      "cell_type": "code",
      "execution_count": null,
      "metadata": {
        "id": "fRbYixKdz3pv"
      },
      "outputs": [],
      "source": [
        "stratum_mapping = {\n",
        "    'Estrato 1': 1,\n",
        "    'Estrato 2': 2,\n",
        "    'Estrato 3': 3,\n",
        "    'Estrato 4': 4,\n",
        "    'Estrato 5': 5,\n",
        "    'Estrato 6': 6,\n",
        "    'Sin Estrato': 0\n",
        "}\n",
        "\n",
        "train_data['Housing_Stratum_pro_encode'] = train_data['Housing_Stratum_pro'].map(stratum_mapping)\n",
        "train_data['Housing_Stratum_encode'] = train_data['Housing_Stratum'].map(stratum_mapping)"
      ]
    },
    {
      "cell_type": "code",
      "execution_count": null,
      "metadata": {
        "id": "ZB3XXCJ0U3Ki"
      },
      "outputs": [],
      "source": [
        "train_data = train_data[train_data['Housing_Stratum_pro_encode'] != 0]\n",
        "#Droping 668 instances with no information about Stratum"
      ]
    },
    {
      "cell_type": "code",
      "execution_count": null,
      "metadata": {
        "colab": {
          "base_uri": "https://localhost:8080/"
        },
        "id": "6AQZ3pfQT_7b",
        "outputId": "1a0b9387-642b-417d-c880-840c76bc7d01"
      },
      "outputs": [
        {
          "data": {
            "text/plain": [
              "Stratum_Change\n",
              "0    125670\n",
              "1     42714\n",
              "2     21062\n",
              "Name: count, dtype: int64"
            ]
          },
          "execution_count": 79,
          "metadata": {},
          "output_type": "execute_result"
        }
      ],
      "source": [
        "train_data['Stratum_Change'] = 0\n",
        "\n",
        "train_data.loc[train_data['Housing_Stratum_encode'] < train_data['Housing_Stratum_pro_encode'], 'Stratum_Change'] = 1\n",
        "train_data.loc[train_data['Housing_Stratum_encode'] > train_data['Housing_Stratum_pro_encode'], 'Stratum_Change'] = 2\n",
        "\n",
        "train_data['Stratum_Change'].value_counts()"
      ]
    },
    {
      "cell_type": "code",
      "execution_count": null,
      "metadata": {
        "colab": {
          "base_uri": "https://localhost:8080/"
        },
        "id": "e5_zS3zEYXSs",
        "outputId": "ac4d7ef5-68ec-4251-88ae-8e5c4d236fdd"
      },
      "outputs": [
        {
          "name": "stdout",
          "output_type": "stream",
          "text": [
            "Computer_Access_Change\n",
            "0    157031\n",
            "1     25055\n",
            "2      7360\n",
            "Name: count, dtype: int64\n",
            "Washing_Machine_Access_Change\n",
            "0    156501\n",
            "1     21133\n",
            "2     11812\n",
            "Name: count, dtype: int64\n",
            "Car_Access_Change\n",
            "0    147497\n",
            "1     22380\n",
            "2     19569\n",
            "Name: count, dtype: int64\n",
            "Internet_Access_Change\n",
            "0    148657\n",
            "1     35389\n",
            "2      5400\n",
            "Name: count, dtype: int64\n"
          ]
        }
      ],
      "source": [
        "train_data['Computer_Access_Change'] = 0\n",
        "\n",
        "train_data.loc[(train_data['Computer_Access'] == 'No') & (train_data['Computer_Access_pro'] == 'Si'), 'Computer_Access_Change'] = 1\n",
        "train_data.loc[(train_data['Computer_Access'] == 'Si') & (train_data['Computer_Access_pro'] == 'No'), 'Computer_Access_Change'] = 2\n",
        "\n",
        "\n",
        "train_data['Washing_Machine_Access_Change'] = 0\n",
        "\n",
        "train_data.loc[(train_data['Washing_Machine_Access'] == 'No') & (train_data['Washing_Machine_Access_pro'] == 'Si'), 'Washing_Machine_Access_Change'] = 1\n",
        "train_data.loc[(train_data['Washing_Machine_Access'] == 'Si') & (train_data['Washing_Machine_Access_pro'] == 'No'), 'Washing_Machine_Access_Change'] = 2\n",
        "\n",
        "\n",
        "train_data['Car_Access_Change'] = 0\n",
        "\n",
        "train_data.loc[(train_data['Car_Access'] == 'No') & (train_data['Car_Access_pro'] == 'Si'), 'Car_Access_Change'] = 1\n",
        "train_data.loc[(train_data['Car_Access'] == 'Si') & (train_data['Car_Access_pro'] == 'No'), 'Car_Access_Change'] = 2\n",
        "\n",
        "train_data['Internet_Access_Change'] = 0\n",
        "\n",
        "train_data.loc[(train_data['Internet_Access'] == 'No') & (train_data['Internet_Access_pro'] == 'Si'), 'Internet_Access_Change'] = 1\n",
        "train_data.loc[(train_data['Internet_Access'] == 'Si') & (train_data['Internet_Access_pro'] == 'No'), 'Internet_Access_Change'] = 2\n",
        "\n",
        "print(train_data['Computer_Access_Change'].value_counts())\n",
        "print(train_data['Washing_Machine_Access_Change'].value_counts())\n",
        "print(train_data['Car_Access_Change'].value_counts())\n",
        "print (train_data['Internet_Access_Change'].value_counts())"
      ]
    },
    {
      "cell_type": "code",
      "execution_count": null,
      "metadata": {
        "colab": {
          "base_uri": "https://localhost:8080/"
        },
        "id": "ayCDXOSEXXH7",
        "outputId": "b83e1470-cd7d-4ec7-9106-d46f99ed02a7"
      },
      "outputs": [
        {
          "name": "stdout",
          "output_type": "stream",
          "text": [
            "Working_Hours_Change\n",
            "1    133515\n",
            "0     54234\n",
            "2      1697\n",
            "Name: count, dtype: int64\n"
          ]
        }
      ],
      "source": [
        "weekly_working_hours_mapping = {\n",
        "    'Más de 30 horas': 'Si, 20 horas o más a la semana',\n",
        "    'Entre 21 y 30 horas': 'Si, 20 horas o más a la semana',\n",
        "    '0': 'No',\n",
        "    'Entre 11 y 20 horas': 'Si, menos de 20 horas a la semana',\n",
        "    'Menos de 10 horas': 'Si, menos de 20 horas a la semana'\n",
        "}\n",
        "\n",
        "train_data['Weekly_Working_Hours_pro'] = train_data['Weekly_Working_Hours_pro'].map(weekly_working_hours_mapping)\n",
        "\n",
        "currently_working_mapping = {\n",
        "    'No': 0,\n",
        "    'Si, menos de 20 horas a la semana': 1,\n",
        "    'Si, 20 horas o más a la semana': 2\n",
        "}\n",
        "\n",
        "weekly_working_hours_mapping = {\n",
        "    'No': 0,\n",
        "    'Si, menos de 20 horas a la semana': 1,\n",
        "    'Si, 20 horas o más a la semana': 2\n",
        "}\n",
        "\n",
        "train_data['Currently_Working'] = train_data['Currently_Working'].map(currently_working_mapping)\n",
        "train_data['Weekly_Working_Hours_pro'] = train_data['Weekly_Working_Hours_pro'].map(weekly_working_hours_mapping)\n",
        "\n",
        "train_data['Working_Hours_Change'] = 0\n",
        "\n",
        "train_data.loc[train_data['Currently_Working'] < train_data['Weekly_Working_Hours_pro'], 'Working_Hours_Change'] = 1\n",
        "train_data.loc[train_data['Currently_Working'] > train_data['Weekly_Working_Hours_pro'], 'Working_Hours_Change'] = 2\n",
        "\n",
        "print (train_data['Working_Hours_Change'].value_counts())"
      ]
    },
    {
      "cell_type": "code",
      "execution_count": null,
      "metadata": {
        "id": "qCjSr2iza9sY"
      },
      "outputs": [],
      "source": [
        "# Drop the Saber 11 Columns columns\n",
        "train_data.drop(['Housing_Stratum_encode', 'Housing_Stratum_pro_encode', 'Housing_Stratum', 'Internet_Access', 'Computer_Access', 'Washing_Machine_Access', 'Car_Access', 'Currently_Working'], axis=1, inplace=True)\n"
      ]
    },
    {
      "cell_type": "markdown",
      "metadata": {
        "id": "iaukAouR8kdY"
      },
      "source": [
        "Missing Values"
      ]
    },
    {
      "cell_type": "code",
      "execution_count": null,
      "metadata": {
        "colab": {
          "base_uri": "https://localhost:8080/",
          "height": 892
        },
        "id": "_n5ZkYQ9Y_f1",
        "outputId": "83b7bc0b-071e-4e0e-c57d-fef4b36d18d0"
      },
      "outputs": [
        {
          "name": "stderr",
          "output_type": "stream",
          "text": [
            "<ipython-input-83-0435a6da2bbf>:5: FutureWarning: \n",
            "\n",
            "Passing `palette` without assigning `hue` is deprecated and will be removed in v0.14.0. Assign the `y` variable to `hue` and set `legend=False` for the same effect.\n",
            "\n",
            "  sns.barplot(x=missing_percentages_sorted.values, y=missing_percentages_sorted.index, palette='cividis')\n"
          ]
        },
        {
          "data": {
            "image/png": "[encoded data removed]",
            "text/plain": [
              "<Figure size 1200x800 with 1 Axes>"
            ]
          },
          "metadata": {},
          "output_type": "display_data"
        }
      ],
      "source": [
        "missing_percentages = (train_data.isnull().mean() * 100).round(2)\n",
        "missing_percentages_sorted = missing_percentages.sort_values(ascending=False)\n",
        "\n",
        "plt.figure(figsize=(12, 8))\n",
        "sns.barplot(x=missing_percentages_sorted.values, y=missing_percentages_sorted.index, palette='cividis')\n",
        "plt.xlabel('Percentage of Missing Values (%)')\n",
        "plt.ylabel('Variables')\n",
        "plt.title('Overview of Missing Values')\n",
        "\n",
        "plt.tight_layout()\n",
        "\n",
        "plt.savefig('/content/drive/MyDrive/Images/missing_values.jpg', dpi=300)\n",
        "plt.show()"
      ]
    },
    {
      "cell_type": "code",
      "execution_count": null,
      "metadata": {
        "colab": {
          "base_uri": "https://localhost:8080/"
        },
        "id": "1X0K8D5aVvDI",
        "outputId": "fa0deb9b-ec2b-4cfa-f946-8a8d33c9831d"
      },
      "outputs": [
        {
          "data": {
            "text/plain": [
              "Ethnicity\n",
              "Ninguno                          66472\n",
              "Otro grupo étnico minoritario     2581\n",
              "Comunidad afrodescendiente        2065\n",
              "Zenú                               785\n",
              "Pasto                              466\n",
              "Wayúu                              157\n",
              "Raizal                              76\n",
              "Paez                                57\n",
              "Emberá                              56\n",
              "Cancuamo                            54\n",
              "Pijao                               53\n",
              "Inga                                49\n",
              "Comunidades Rom (Gitanas)           21\n",
              "Cubeo                               15\n",
              "Huitoto                             12\n",
              "Guambiano                            9\n",
              "Arhuaco                              8\n",
              "Tucano                               7\n",
              "Palenquero                           6\n",
              "Sikuani                              5\n",
              "Name: count, dtype: int64"
            ]
          },
          "execution_count": 84,
          "metadata": {},
          "output_type": "execute_result"
        }
      ],
      "source": [
        "train_data ['Ethnicity'].value_counts()"
      ]
    },
    {
      "cell_type": "code",
      "execution_count": null,
      "metadata": {
        "colab": {
          "base_uri": "https://localhost:8080/"
        },
        "id": "T1Br2vdkp4-4",
        "outputId": "f95f2974-194c-4426-ccff-89e598bed2bd"
      },
      "outputs": [
        {
          "data": {
            "text/plain": [
              "116492"
            ]
          },
          "execution_count": 85,
          "metadata": {},
          "output_type": "execute_result"
        }
      ],
      "source": [
        "train_data['Ethnicity'].isnull().sum()"
      ]
    },
    {
      "cell_type": "code",
      "execution_count": null,
      "metadata": {
        "colab": {
          "base_uri": "https://localhost:8080/"
        },
        "id": "cppl09mabfQj",
        "outputId": "27b44a4c-21bc-4cb3-c126-96d7c057ffa3"
      },
      "outputs": [
        {
          "data": {
            "text/plain": [
              "Student_Ethnicity\n",
              "No    109669\n",
              "Si      3848\n",
              "Name: count, dtype: int64"
            ]
          },
          "execution_count": 86,
          "metadata": {},
          "output_type": "execute_result"
        }
      ],
      "source": [
        "train_data ['Student_Ethnicity'].value_counts()"
      ]
    },
    {
      "cell_type": "code",
      "execution_count": null,
      "metadata": {
        "colab": {
          "base_uri": "https://localhost:8080/"
        },
        "id": "vpRiyJ6jhnWr",
        "outputId": "c1dff577-05ea-47b2-8b63-72ae60ab1fe3"
      },
      "outputs": [
        {
          "name": "stdout",
          "output_type": "stream",
          "text": [
            "Number of matching missing values with 'No': 109523\n",
            "Proportion of missing values in Ethnicity that correspond to 'No' in Student 'Ethnicity':% 94.01761494351544\n"
          ]
        }
      ],
      "source": [
        "# Check if missing values in 'Ethnicity' match with 'No' in 'Student_Ethnicity'\n",
        "total_missing = train_data['Ethnicity'].isnull().sum()\n",
        "missing_ethnicity = train_data['Ethnicity'].isnull()\n",
        "no_student_ethnicity = train_data['Student_Ethnicity'] == 'No'\n",
        "\n",
        "missing_match_no = missing_ethnicity & no_student_ethnicity\n",
        "num_matching_missing_no = missing_match_no.sum()\n",
        "\n",
        "print(\"Number of matching missing values with 'No':\", num_matching_missing_no)\n",
        "\n",
        "print (\"Proportion of missing values in Ethnicity that correspond to 'No' in Student 'Ethnicity':%\", (num_matching_missing_no/ total_missing )*100)"
      ]
    },
    {
      "cell_type": "code",
      "execution_count": null,
      "metadata": {
        "id": "MC29n80uTSDC"
      },
      "outputs": [],
      "source": [
        "# Replace missing values in 'Ethnicity' with 'Ninguno'\n",
        "train_data ['Ethnicity'].fillna('Ninguno', inplace=True)\n",
        "\n",
        "train_data.drop(columns=['Student_Ethnicity'], inplace=True)"
      ]
    },
    {
      "cell_type": "code",
      "execution_count": null,
      "metadata": {
        "id": "dcrEXUl9ti9F"
      },
      "outputs": [],
      "source": [
        "train_data.to_csv('/content/drive/MyDrive/Thesis Dataset/train_set_checkpoint1.csv', index=False)"
      ]
    },
    {
      "cell_type": "code",
      "execution_count": null,
      "metadata": {
        "id": "fYf51x30uENi"
      },
      "outputs": [],
      "source": [
        "train_data = pd.read_csv('/content/drive/MyDrive/Thesis Dataset/train_set_checkpoint1.csv',  low_memory=False)"
      ]
    },
    {
      "cell_type": "code",
      "execution_count": null,
      "metadata": {
        "colab": {
          "base_uri": "https://localhost:8080/"
        },
        "id": "wv3TKEQxbV_8",
        "outputId": "446db753-eeb1-48f3-f3aa-7fcdc44d25f8"
      },
      "outputs": [
        {
          "name": "stdout",
          "output_type": "stream",
          "text": [
            "Instances dropped: 71\n"
          ]
        }
      ],
      "source": [
        "dropped_instances = train_data[train_data['Nationality'] != 'COLOMBIA']\n",
        "count_dropped = len(dropped_instances)\n",
        "# Keep only instances where Nationality is 'COLOMBIA'\n",
        "train_data = train_data[train_data['Nationality'] == 'COLOMBIA']\n",
        "print(\"Instances dropped:\", count_dropped)"
      ]
    },
    {
      "cell_type": "code",
      "execution_count": null,
      "metadata": {
        "colab": {
          "base_uri": "https://localhost:8080/"
        },
        "id": "iUOmNVogbwQS",
        "outputId": "bf17069c-a800-4776-87f8-c91f38643a6d"
      },
      "outputs": [
        {
          "name": "stdout",
          "output_type": "stream",
          "text": [
            "Instances dropped: 0\n"
          ]
        }
      ],
      "source": [
        "dropped_instances_residence = train_data[train_data['Country_of_Residence'] != 'COLOMBIA']\n",
        "count_dropped_residence = len(dropped_instances_residence)\n",
        "# Keep only instances where Nationality is 'COLOMBIA'\n",
        "train_data = train_data[train_data['Country_of_Residence'] == 'COLOMBIA']\n",
        "print(\"Instances dropped:\", count_dropped_residence)"
      ]
    },
    {
      "cell_type": "code",
      "execution_count": null,
      "metadata": {
        "colab": {
          "base_uri": "https://localhost:8080/"
        },
        "id": "QRUOFvGZX8CN",
        "outputId": "294b8f26-3cd0-4d35-d542-f72380268a07"
      },
      "outputs": [
        {
          "name": "stdout",
          "output_type": "stream",
          "text": [
            "Instances dropped: 39\n"
          ]
        }
      ],
      "source": [
        "# List of desired values/categories\n",
        "desired_categories = ['BOGOTÁ', 'ANTIOQUIA', 'VALLE', 'CUNDINAMARCA', 'ATLANTICO',\n",
        "                      'SANTANDER', 'BOLIVAR', 'NORTE SANTANDER', 'BOYACA', 'TOLIMA',\n",
        "                      'NARIÑO', 'CORDOBA', 'HUILA', 'META', 'CESAR', 'RISARALDA',\n",
        "                      'SUCRE', 'MAGDALENA', 'CALDAS', 'CAUCA', 'LA GUAJIRA',\n",
        "                      'QUINDIO', 'CASANARE', 'CAQUETA', 'CHOCO', 'PUTUMAYO',\n",
        "                      'ARAUCA', 'SAN ANDRES', 'GUAVIARE', 'VICHADA', 'AMAZONAS',\n",
        "                      'GUAINIA', 'VAUPES']\n",
        "filtered_data = train_data[train_data['Residence_Department_pro'].isin(desired_categories) | train_data['Residence_Department_pro'].isnull()]\n",
        "count_dropped = len(train_data) - len(filtered_data)\n",
        "train_data = filtered_data\n",
        "\n",
        "print(\"Instances dropped:\", count_dropped)"
      ]
    },
    {
      "cell_type": "markdown",
      "metadata": {
        "id": "um88Y1Dsnq9e"
      },
      "source": [
        "Imputing Missing Values"
      ]
    },
    {
      "cell_type": "code",
      "execution_count": null,
      "metadata": {
        "id": "WukGChpXr4zY"
      },
      "outputs": [],
      "source": [
        "train_data['Weekly_Working_Hours_pro'] = train_data['Weekly_Working_Hours_pro'].astype('object')"
      ]
    },
    {
      "cell_type": "code",
      "execution_count": null,
      "metadata": {
        "id": "zWd9IjkQfkQ0"
      },
      "outputs": [],
      "source": [
        "class CustomSingleImputer(SingleImputer):\n",
        "    def __init__(self, *args, **kwargs):\n",
        "        kwargs.setdefault(\"strategy\", \"categorical\")\n",
        "        super().__init__(*args, **kwargs)\n",
        "        self.custom_state = {\n",
        "            \"strategy\": kwargs.get(\"strategy\"),\n",
        "            \"seed\": kwargs.get(\"seed\", None),\n",
        "        }\n",
        "\n",
        "variables_to_impute = train_data.select_dtypes(include='object').columns[train_data.select_dtypes(include='object').isnull().any()]\n",
        "single_imputer = CustomSingleImputer(strategy={var: 'categorical' for var in variables_to_impute}, seed=123)\n",
        "\n",
        "train_final = single_imputer.fit_transform(train_data)\n",
        "\n",
        "with open('imputer.pkl', 'wb') as f:\n",
        "    pickle.dump(single_imputer.custom_state, f)\n",
        "\n",
        "with open('imputer.pkl', 'rb') as f:\n",
        "    imputer_state_loaded = pickle.load(f)\n",
        "\n",
        "single_imputer_loaded = CustomSingleImputer(strategy=imputer_state_loaded['strategy'], seed=imputer_state_loaded['seed'])\n",
        "\n",
        "train_final = single_imputer_loaded.fit_transform(train_data)"
      ]
    },
    {
      "cell_type": "code",
      "execution_count": null,
      "metadata": {
        "colab": {
          "base_uri": "https://localhost:8080/"
        },
        "id": "WP5JCDtSDx4H",
        "outputId": "d9bc979d-671f-4eb9-c3b5-dc3a12d73579"
      },
      "outputs": [
        {
          "name": "stdout",
          "output_type": "stream",
          "text": [
            "Missing Values:\n",
            "ID                                    0\n",
            "Nationality                           0\n",
            "Gender                                0\n",
            "Country_of_Residence                  0\n",
            "Ethnicity                             0\n",
            "Residence_Department_pro              0\n",
            "Residence_Area_pro                    0\n",
            "University_Tuition_Fee_pro            0\n",
            "Scholarship_Payment_pro               0\n",
            "Credit_Payment_pro                    0\n",
            "Parent_Payment_pro                    0\n",
            "Self_Payment_pro                      0\n",
            "Father_Education_pro                  0\n",
            "Mother_Education_pro                  0\n",
            "Father_work_pro                       0\n",
            "Mother_work_pro                       0\n",
            "Housing_Stratum_pro                   0\n",
            "Internet_Access_pro                   0\n",
            "TV_Service_pro                        0\n",
            "Computer_Access_pro                   0\n",
            "Washing_Machine_Access_pro            0\n",
            "Video_Game_Console_Access_pro         0\n",
            "Shared_Bathroom_Count_pro             0\n",
            "Car_Access_pro                        0\n",
            "Weekly_Working_Hours_pro              0\n",
            "Motorcycle_Access_pro                 0\n",
            "Global_Score_pro                      0\n",
            "Institution_Academic_Character_pro    0\n",
            "Institution_Origin_pro                0\n",
            "Group_Reference_pro                   0\n",
            "Student_Program_Method_pro            0\n",
            "Institution_Department_pro            0\n",
            "Age                                   0\n",
            "Stratum_Change                        0\n",
            "Computer_Access_Change                0\n",
            "Washing_Machine_Access_Change         0\n",
            "Car_Access_Change                     0\n",
            "Internet_Access_Change                0\n",
            "Working_Hours_Change                  0\n",
            "dtype: int64\n"
          ]
        }
      ],
      "source": [
        "missing_values = train_final.isnull().sum()\n",
        "print(\"Missing Values:\")\n",
        "print(missing_values)"
      ]
    },
    {
      "cell_type": "code",
      "execution_count": null,
      "metadata": {
        "id": "18LrfO0Bp2qs"
      },
      "outputs": [],
      "source": [
        "train_final.to_csv('/content/drive/MyDrive/Thesis Dataset/checkpoint_2.csv', index=False)"
      ]
    },
    {
      "cell_type": "code",
      "execution_count": null,
      "metadata": {
        "id": "o3UQh0mPElXV"
      },
      "outputs": [],
      "source": [
        "train_data = pd.read_csv('/content/drive/MyDrive/Thesis Dataset/checkpoint_2.csv')"
      ]
    },
    {
      "cell_type": "code",
      "execution_count": null,
      "metadata": {
        "colab": {
          "base_uri": "https://localhost:8080/",
          "height": 1000
        },
        "id": "nfzTvlO5dEXw",
        "outputId": "0ea1782d-c6aa-4e81-dfc0-00992650be2f"
      },
      "outputs": [
        {
          "output_type": "display_data",
          "data": {
            "text/plain": [
              "<Figure size 800x600 with 1 Axes>"
            ],
            "image/png": "[encoded data removed]"
          },
          "metadata": {}
        },
        {
          "output_type": "display_data",
          "data": {
            "text/plain": [
              "<Figure size 800x600 with 1 Axes>"
            ],
            "image/png": "[encoded data removed]"
          },
          "metadata": {}
        },
        {
          "output_type": "display_data",
          "data": {
            "text/plain": [
              "<Figure size 800x600 with 1 Axes>"
            ],
            "image/png": "[encoded data removed]"
          },
          "metadata": {}
        },
        {
          "output_type": "display_data",
          "data": {
            "text/plain": [
              "<Figure size 800x600 with 1 Axes>"
            ],
            "image/png": "[encoded data removed]"
          },
          "metadata": {}
        },
        {
          "output_type": "display_data",
          "data": {
            "text/plain": [
              "<Figure size 800x600 with 1 Axes>"
            ],
            "image/png": "[encoded data removed]"
          },
          "metadata": {}
        },
        {
          "output_type": "display_data",
          "data": {
            "text/plain": [
              "<Figure size 800x600 with 1 Axes>"
            ],
            "image/png": "[encoded data removed]"
          },
          "metadata": {}
        }
      ],
      "source": [
        "custom_labels = {0: 'No changes', 1: 'Positive Changes', 2: 'Negative Changes'}\n",
        "\n",
        "directory = '/content/drive/MyDrive/Images/'\n",
        "if not os.path.exists(directory):\n",
        "    os.makedirs(directory)\n",
        "\n",
        "for column in train_data.columns:\n",
        "    if 'Change' in column:\n",
        "        plt.figure(figsize=(8, 6))\n",
        "        ax = train_data[column].map(custom_labels).value_counts(normalize=True).plot(kind='bar', color='darkblue')\n",
        "        plt.title(f'Bar plot for {column}')\n",
        "        plt.xlabel('Values')\n",
        "        plt.ylabel('Percentage')\n",
        "        plt.xticks(rotation=45)\n",
        "\n",
        "        for p in ax.patches:\n",
        "            percentage = '{:.2f}%'.format(100 * p.get_height())\n",
        "            x = p.get_x() + p.get_width() / 2 - 0.1\n",
        "            y = p.get_height() + 0.01\n",
        "            ax.annotate(percentage, (x, y))\n",
        "\n",
        "        plt.savefig(os.path.join(directory, f'{column}_graph.jpg'), dpi=300)\n",
        "\n",
        "        plt.show()"
      ]
    },
    {
      "cell_type": "code",
      "execution_count": null,
      "metadata": {
        "colab": {
          "base_uri": "https://localhost:8080/"
        },
        "id": "LRYPkMx5-077",
        "outputId": "1291b7d6-6139-451e-c505-274096ae5e2e"
      },
      "outputs": [
        {
          "output_type": "stream",
          "name": "stdout",
          "text": [
            "<class 'pandas.core.frame.DataFrame'>\n",
            "RangeIndex: 189336 entries, 0 to 189335\n",
            "Data columns (total 39 columns):\n",
            " #   Column                              Non-Null Count   Dtype  \n",
            "---  ------                              --------------   -----  \n",
            " 0   ID                                  189336 non-null  object \n",
            " 1   Nationality                         189336 non-null  object \n",
            " 2   Gender                              189336 non-null  object \n",
            " 3   Country_of_Residence                189336 non-null  object \n",
            " 4   Ethnicity                           189336 non-null  object \n",
            " 5   Residence_Department_pro            189336 non-null  object \n",
            " 6   Residence_Area_pro                  189336 non-null  object \n",
            " 7   University_Tuition_Fee_pro          189336 non-null  object \n",
            " 8   Scholarship_Payment_pro             189336 non-null  object \n",
            " 9   Credit_Payment_pro                  189336 non-null  object \n",
            " 10  Parent_Payment_pro                  189336 non-null  object \n",
            " 11  Self_Payment_pro                    189336 non-null  object \n",
            " 12  Father_Education_pro                189336 non-null  object \n",
            " 13  Mother_Education_pro                189336 non-null  object \n",
            " 14  Father_work_pro                     189336 non-null  object \n",
            " 15  Mother_work_pro                     189336 non-null  object \n",
            " 16  Housing_Stratum_pro                 189336 non-null  object \n",
            " 17  Internet_Access_pro                 189336 non-null  object \n",
            " 18  TV_Service_pro                      189336 non-null  object \n",
            " 19  Computer_Access_pro                 189336 non-null  object \n",
            " 20  Washing_Machine_Access_pro          189336 non-null  object \n",
            " 21  Video_Game_Console_Access_pro       189336 non-null  object \n",
            " 22  Shared_Bathroom_Count_pro           189336 non-null  object \n",
            " 23  Car_Access_pro                      189336 non-null  object \n",
            " 24  Weekly_Working_Hours_pro            189336 non-null  float64\n",
            " 25  Motorcycle_Access_pro               189336 non-null  object \n",
            " 26  Global_Score_pro                    189336 non-null  int64  \n",
            " 27  Institution_Academic_Character_pro  189336 non-null  object \n",
            " 28  Institution_Origin_pro              189336 non-null  object \n",
            " 29  Group_Reference_pro                 189336 non-null  object \n",
            " 30  Student_Program_Method_pro          189336 non-null  object \n",
            " 31  Institution_Department_pro          189336 non-null  object \n",
            " 32  Age                                 189336 non-null  float64\n",
            " 33  Stratum_Change                      189336 non-null  int64  \n",
            " 34  Computer_Access_Change              189336 non-null  int64  \n",
            " 35  Washing_Machine_Access_Change       189336 non-null  int64  \n",
            " 36  Car_Access_Change                   189336 non-null  int64  \n",
            " 37  Internet_Access_Change              189336 non-null  int64  \n",
            " 38  Working_Hours_Change                189336 non-null  int64  \n",
            "dtypes: float64(2), int64(7), object(30)\n",
            "memory usage: 56.3+ MB\n"
          ]
        }
      ],
      "source": [
        "train_data.info()"
      ]
    },
    {
      "cell_type": "markdown",
      "metadata": {
        "id": "CCm-tM2ZAP4t"
      },
      "source": [
        "Encoding"
      ]
    },
    {
      "cell_type": "code",
      "execution_count": null,
      "metadata": {
        "id": "bYKTY1gZBLIc"
      },
      "outputs": [],
      "source": [
        "columns_to_encode = [col for col in train_data.columns if col not in ['ID', 'Age', 'Global_Score_pro']]\n",
        "\n",
        "column_transformer_oh = ColumnTransformer(\n",
        "    [('one_hot_encoder', OneHotEncoder(handle_unknown='ignore', drop=None), columns_to_encode)],\n",
        "    remainder='passthrough'\n",
        ")\n",
        "\n",
        "encoded_training_oh = column_transformer_oh.fit_transform(train_data.drop(columns=['ID', 'Age', 'Global_Score_pro']))\n",
        "feature_names_encoded = list(column_transformer_oh.get_feature_names_out(input_features=columns_to_encode))\n",
        "dense_matrix = encoded_training_oh.toarray()\n",
        "\n",
        "encoded_training_df = pd.DataFrame(dense_matrix, columns=feature_names_encoded)\n",
        "\n",
        "final_training_df = pd.concat([train_data[['ID', 'Age', 'Global_Score_pro']], encoded_training_df], axis=1)\n",
        "\n",
        "encoder_state = {\n",
        "    'categories': column_transformer_oh.named_transformers_['one_hot_encoder'].categories_,\n",
        "    'drop': None,\n",
        "    'sparse_output': False,\n",
        "    'dtype': np.float64\n",
        "}"
      ]
    },
    {
      "cell_type": "code",
      "execution_count": null,
      "metadata": {
        "colab": {
          "base_uri": "https://localhost:8080/"
        },
        "id": "a-1TtO2F_Wen",
        "outputId": "2e7b8b66-5fdf-4a8e-908a-14540017653e"
      },
      "outputs": [
        {
          "output_type": "stream",
          "name": "stdout",
          "text": [
            "Shape of final validation DataFrame: (189336, 235)\n"
          ]
        }
      ],
      "source": [
        "print(\"Shape of final validation DataFrame:\", final_training_df.shape)"
      ]
    },
    {
      "cell_type": "code",
      "execution_count": null,
      "metadata": {
        "colab": {
          "base_uri": "https://localhost:8080/"
        },
        "id": "4L4QdODfHZiE",
        "outputId": "a094348e-927c-4eb1-bba4-45841d5526b5"
      },
      "outputs": [
        {
          "output_type": "execute_result",
          "data": {
            "text/plain": [
              "ID                                           0\n",
              "Age                                          0\n",
              "Global_Score_pro                             0\n",
              "one_hot_encoder__Nationality_COLOMBIA        0\n",
              "one_hot_encoder__Gender_F                    0\n",
              "                                            ..\n",
              "one_hot_encoder__Internet_Access_Change_1    0\n",
              "one_hot_encoder__Internet_Access_Change_2    0\n",
              "one_hot_encoder__Working_Hours_Change_0      0\n",
              "one_hot_encoder__Working_Hours_Change_1      0\n",
              "one_hot_encoder__Working_Hours_Change_2      0\n",
              "Length: 235, dtype: int64"
            ]
          },
          "metadata": {},
          "execution_count": 170
        }
      ],
      "source": [
        "final_training_df.isnull().sum()"
      ]
    },
    {
      "cell_type": "code",
      "execution_count": null,
      "metadata": {
        "id": "Gy4p5Vr2Cp55"
      },
      "outputs": [],
      "source": [
        "final_training_df.to_csv('/content/drive/MyDrive/Thesis Dataset/training_OH.csv', index=False)"
      ]
    },
    {
      "cell_type": "markdown",
      "metadata": {
        "id": "x9cLlVO2UgB6"
      },
      "source": [
        "Validation Data Preprocessing"
      ]
    },
    {
      "cell_type": "code",
      "execution_count": null,
      "metadata": {
        "id": "fQNlU5SQvH8S"
      },
      "outputs": [],
      "source": [
        "validation_data = pd.read_csv('/content/drive/MyDrive/Thesis Dataset/validation_set.csv')"
      ]
    },
    {
      "cell_type": "code",
      "execution_count": null,
      "metadata": {
        "id": "jKuKRfGMnB4g"
      },
      "outputs": [],
      "source": [
        "mapping = {\n",
        "    20212: datetime(2021, 7, 11),\n",
        "    20203: datetime(2020, 10, 18),\n",
        "    20195: datetime(2019, 10, 20),\n",
        "    20194: datetime(2019, 10, 20),\n",
        "    20213: datetime(2021, 7, 11),\n",
        "    20202: datetime(2020, 10, 18),\n",
        "    20196: datetime(2019, 10, 20)\n",
        "}\n",
        "\n",
        "validation_data['Period'] = validation_data['Period'].map(mapping)"
      ]
    },
    {
      "cell_type": "code",
      "execution_count": null,
      "metadata": {
        "id": "4r5PHrYpJcD0"
      },
      "outputs": [],
      "source": [
        "from datetime import datetime\n",
        "validation_data['Date_of_Birth'] = pd.to_datetime(validation_data['Date_of_Birth'], format='%d/%m/%Y', errors='coerce')\n",
        "\n",
        "term_dates = {\n",
        "    '20194': datetime(2019, 10, 20),\n",
        "    '20196': datetime(2019, 10, 20),\n",
        "    '20195': datetime(2019, 10, 20),\n",
        "    '20203': datetime(2020, 10, 18),\n",
        "    '20202': datetime(2020, 10, 18),\n",
        "    '20212': datetime(2021, 7, 11),\n",
        "    '20213': datetime(2021, 7, 11)\n",
        "}\n",
        "\n",
        "def calculate_age(row):\n",
        "    today = term_dates.get(row['Period'], pd.to_datetime('today'))\n",
        "    return today.year - row['Date_of_Birth'].year - ((today.month, today.day) < (row['Date_of_Birth'].month, row['Date_of_Birth'].day))\n",
        "\n",
        "validation_data['Age'] = validation_data.apply(calculate_age, axis=1)"
      ]
    },
    {
      "cell_type": "code",
      "execution_count": null,
      "metadata": {
        "colab": {
          "base_uri": "https://localhost:8080/"
        },
        "id": "GzK9EYgWAy9D",
        "outputId": "d5c0cad6-4efb-4252-8088-fe4a6f2f8139"
      },
      "outputs": [
        {
          "output_type": "execute_result",
          "data": {
            "text/plain": [
              "count    47837.000000\n",
              "mean        25.439806\n",
              "std          1.643948\n",
              "min          3.000000\n",
              "25%         25.000000\n",
              "50%         25.000000\n",
              "75%         26.000000\n",
              "max        105.000000\n",
              "Name: Age, dtype: float64"
            ]
          },
          "metadata": {},
          "execution_count": 175
        }
      ],
      "source": [
        "validation_data['Age'].describe()"
      ]
    },
    {
      "cell_type": "code",
      "execution_count": null,
      "metadata": {
        "colab": {
          "base_uri": "https://localhost:8080/"
        },
        "id": "LAkqmWC0Bi6d",
        "outputId": "e4bf370b-83d8-4864-9eb6-c5ec20ff4653"
      },
      "outputs": [
        {
          "output_type": "stream",
          "name": "stdout",
          "text": [
            "Number of instances above upper bound: 276\n",
            "Number of instances below lower bound: 13\n"
          ]
        }
      ],
      "source": [
        "instances_above = sum(validation_data['Age'] > upper_bound)\n",
        "instances_below = sum(validation_data['Age'] < lower_bound)\n",
        "\n",
        "validation_data = validation_data[(validation_data['Age'] >= lower_bound) & (validation_data['Age'] <= upper_bound)]\n",
        "\n",
        "print(f\"Number of instances above upper bound: {instances_above}\")\n",
        "print(f\"Number of instances below lower bound: {instances_below}\")"
      ]
    },
    {
      "cell_type": "code",
      "execution_count": null,
      "metadata": {
        "colab": {
          "base_uri": "https://localhost:8080/"
        },
        "id": "ndMUn0pGowec",
        "outputId": "681e1c91-0230-495a-a7f0-d6853538c4e3"
      },
      "outputs": [
        {
          "output_type": "stream",
          "name": "stdout",
          "text": [
            "Housing_Stratum_encode\n",
            "2.0    16287\n",
            "3.0    13170\n",
            "1.0    10753\n",
            "4.0     4371\n",
            "5.0     1757\n",
            "6.0     1148\n",
            "Name: count, dtype: int64\n",
            "Housing_Stratum_pro_encode\n",
            "2.0    15156\n",
            "3.0    14201\n",
            "1.0     7994\n",
            "4.0     5285\n",
            "5.0     2080\n",
            "6.0     1212\n",
            "0.0      159\n",
            "Name: count, dtype: int64\n"
          ]
        }
      ],
      "source": [
        "stratum_mapping = {\n",
        "    'Estrato 1': 1,\n",
        "    'Estrato 2': 2,\n",
        "    'Estrato 3': 3,\n",
        "    'Estrato 4': 4,\n",
        "    'Estrato 5': 5,\n",
        "    'Estrato 6': 6,\n",
        "    'Sin Estrato': 0\n",
        "}\n",
        "validation_data['Housing_Stratum_pro_encode'] = validation_data['Housing_Stratum_pro'].map(stratum_mapping)\n",
        "validation_data['Housing_Stratum_encode'] = validation_data['Housing_Stratum'].map(stratum_mapping)\n",
        "print (validation_data['Housing_Stratum_encode'].value_counts())\n",
        "print (validation_data['Housing_Stratum_pro_encode'].value_counts())"
      ]
    },
    {
      "cell_type": "code",
      "execution_count": null,
      "metadata": {
        "id": "bPrLLhWyo8xG"
      },
      "outputs": [],
      "source": [
        "validation_data = validation_data[validation_data['Housing_Stratum_encode'] != 0]\n",
        "validation_data = validation_data[validation_data['Housing_Stratum_pro_encode'] != 0]"
      ]
    },
    {
      "cell_type": "code",
      "execution_count": null,
      "metadata": {
        "colab": {
          "base_uri": "https://localhost:8080/"
        },
        "id": "h0FyyODAo-O4",
        "outputId": "002e6d62-9ad7-4deb-c9b7-569f93034b47"
      },
      "outputs": [
        {
          "output_type": "execute_result",
          "data": {
            "text/plain": [
              "Stratum_Change\n",
              "0    31479\n",
              "1    10633\n",
              "2     5277\n",
              "Name: count, dtype: int64"
            ]
          },
          "metadata": {},
          "execution_count": 179
        }
      ],
      "source": [
        "validation_data['Stratum_Change'] = 0  # Initialize with 0\n",
        "\n",
        "validation_data.loc[validation_data['Housing_Stratum_encode'] < validation_data['Housing_Stratum_pro_encode'], 'Stratum_Change'] = 1\n",
        "validation_data.loc[validation_data['Housing_Stratum_encode'] > validation_data['Housing_Stratum_pro_encode'], 'Stratum_Change'] = 2\n",
        "\n",
        "\n",
        "validation_data['Stratum_Change'].value_counts()"
      ]
    },
    {
      "cell_type": "code",
      "execution_count": null,
      "metadata": {
        "colab": {
          "base_uri": "https://localhost:8080/"
        },
        "id": "iCNST8lcoyaF",
        "outputId": "095c4ac1-c7b9-4ba3-db92-c8bacbbf9eda"
      },
      "outputs": [
        {
          "output_type": "stream",
          "name": "stdout",
          "text": [
            "Computer_Access_Change\n",
            "0    39208\n",
            "1     6379\n",
            "2     1802\n",
            "Name: count, dtype: int64\n",
            "Washing_Machine_Access_Change\n",
            "0    39060\n",
            "1     5287\n",
            "2     3042\n",
            "Name: count, dtype: int64\n",
            "Car_Access_Change\n",
            "0    36797\n",
            "1     5673\n",
            "2     4919\n",
            "Name: count, dtype: int64\n",
            "Internet_Access_Change\n",
            "0    37246\n",
            "1     8794\n",
            "2     1349\n",
            "Name: count, dtype: int64\n"
          ]
        }
      ],
      "source": [
        "validation_data['Computer_Access_Change'] = 0\n",
        "\n",
        "validation_data.loc[(validation_data['Computer_Access'] == 'No') & (validation_data['Computer_Access_pro'] == 'Si'), 'Computer_Access_Change'] = 1\n",
        "validation_data.loc[(validation_data['Computer_Access'] == 'Si') & (validation_data['Computer_Access_pro'] == 'No'), 'Computer_Access_Change'] = 2\n",
        "\n",
        "\n",
        "validation_data['Washing_Machine_Access_Change'] = 0\n",
        "\n",
        "validation_data.loc[(validation_data['Washing_Machine_Access'] == 'No') & (validation_data['Washing_Machine_Access_pro'] == 'Si'), 'Washing_Machine_Access_Change'] = 1\n",
        "validation_data.loc[(validation_data['Washing_Machine_Access'] == 'Si') & (validation_data['Washing_Machine_Access_pro'] == 'No'), 'Washing_Machine_Access_Change'] = 2\n",
        "\n",
        "\n",
        "\n",
        "validation_data['Car_Access_Change'] = 0\n",
        "\n",
        "validation_data.loc[(validation_data['Car_Access'] == 'No') & (validation_data['Car_Access_pro'] == 'Si'), 'Car_Access_Change'] = 1\n",
        "validation_data.loc[(validation_data['Car_Access'] == 'Si') & (validation_data['Car_Access_pro'] == 'No'), 'Car_Access_Change'] = 2\n",
        "\n",
        "\n",
        "validation_data['Internet_Access_Change'] = 0\n",
        "validation_data.loc[(validation_data['Internet_Access'] == 'No') & (validation_data['Internet_Access_pro'] == 'Si'), 'Internet_Access_Change'] = 1\n",
        "validation_data.loc[(validation_data['Internet_Access'] == 'Si') & (validation_data['Internet_Access_pro'] == 'No'), 'Internet_Access_Change'] = 2\n",
        "\n",
        "\n",
        "\n",
        "print(validation_data['Computer_Access_Change'].value_counts())\n",
        "print(validation_data['Washing_Machine_Access_Change'].value_counts())\n",
        "print(validation_data['Car_Access_Change'].value_counts())\n",
        "print (validation_data['Internet_Access_Change'].value_counts())"
      ]
    },
    {
      "cell_type": "code",
      "execution_count": null,
      "metadata": {
        "colab": {
          "base_uri": "https://localhost:8080/"
        },
        "id": "hk3Ct8MkpMlH",
        "outputId": "1aa15738-9c4e-4655-952f-46987076d69f"
      },
      "outputs": [
        {
          "output_type": "stream",
          "name": "stdout",
          "text": [
            "Working_Hours_Change\n",
            "1    33356\n",
            "0    13629\n",
            "2      404\n",
            "Name: count, dtype: int64\n"
          ]
        }
      ],
      "source": [
        "weekly_working_hours_mapping = {\n",
        "    'Más de 30 horas': 'Si, 20 horas o más a la semana',\n",
        "    'Entre 21 y 30 horas': 'Si, 20 horas o más a la semana',\n",
        "    '0': 'No',\n",
        "    'Entre 11 y 20 horas': 'Si, menos de 20 horas a la semana',\n",
        "    'Menos de 10 horas': 'Si, menos de 20 horas a la semana'\n",
        "}\n",
        "\n",
        "validation_data['Weekly_Working_Hours_pro'] = validation_data['Weekly_Working_Hours_pro'].map(weekly_working_hours_mapping)\n",
        "\n",
        "currently_working_mapping = {\n",
        "    'No': 0,\n",
        "    'Si, menos de 20 horas a la semana': 1,\n",
        "    'Si, 20 horas o más a la semana': 2\n",
        "}\n",
        "\n",
        "weekly_working_hours_mapping = {\n",
        "    'No': 0,\n",
        "    'Si, menos de 20 horas a la semana': 1,\n",
        "    'Si, 20 horas o más a la semana': 2\n",
        "}\n",
        "\n",
        "validation_data['Currently_Working'] = validation_data['Currently_Working'].map(currently_working_mapping)\n",
        "validation_data['Weekly_Working_Hours_pro'] = validation_data['Weekly_Working_Hours_pro'].map(weekly_working_hours_mapping)\n",
        "\n",
        "\n",
        "validation_data['Working_Hours_Change'] = 0\n",
        "\n",
        "validation_data.loc[validation_data['Currently_Working'] < validation_data['Weekly_Working_Hours_pro'], 'Working_Hours_Change'] = 1\n",
        "validation_data.loc[validation_data['Currently_Working'] > validation_data['Weekly_Working_Hours_pro'], 'Working_Hours_Change'] = 2\n",
        "\n",
        "print (validation_data['Working_Hours_Change'].value_counts())"
      ]
    },
    {
      "cell_type": "code",
      "execution_count": null,
      "metadata": {
        "colab": {
          "base_uri": "https://localhost:8080/"
        },
        "id": "hSqr5XxNjilH",
        "outputId": "dd9dc8aa-5987-49e8-bdd2-e72fb14d5984"
      },
      "outputs": [
        {
          "output_type": "stream",
          "name": "stdout",
          "text": [
            "Instances dropped: 6\n",
            "Instances dropped: 23\n",
            "Instances dropped: 0\n"
          ]
        }
      ],
      "source": [
        "desired_categories_val = ['BOGOTÁ', 'ANTIOQUIA', 'VALLE', 'CUNDINAMARCA', 'ATLANTICO',\n",
        "                      'SANTANDER', 'BOLIVAR', 'NORTE SANTANDER', 'BOYACA', 'TOLIMA',\n",
        "                      'NARIÑO', 'CORDOBA', 'HUILA', 'META', 'CESAR', 'RISARALDA',\n",
        "                      'SUCRE', 'MAGDALENA', 'CALDAS', 'CAUCA', 'LA GUAJIRA',\n",
        "                      'QUINDIO', 'CASANARE', 'CAQUETA', 'CHOCO', 'PUTUMAYO',\n",
        "                      'ARAUCA', 'SAN ANDRES', 'GUAVIARE', 'VICHADA', 'AMAZONAS',\n",
        "                      'GUAINIA', 'VAUPES']\n",
        "\n",
        "filtered_data_val = validation_data[validation_data['Residence_Department_pro'].isin(desired_categories_val) | validation_data['Residence_Department_pro'].isnull()]\n",
        "\n",
        "count_dropped = len(validation_data) - len(filtered_data_val)\n",
        "\n",
        "validation_data = filtered_data_val\n",
        "\n",
        "print(\"Instances dropped:\", count_dropped)\n",
        "\n",
        "dropped_instances_residence_val = validation_data[validation_data['Country_of_Residence'] != 'COLOMBIA']\n",
        "count_dropped_residence_val = len(dropped_instances_residence_val)\n",
        "\n",
        "validation_data = validation_data[validation_data['Country_of_Residence'] == 'COLOMBIA']\n",
        "\n",
        "print(\"Instances dropped:\", count_dropped_residence_val)\n",
        "\n",
        "dropped_instances_val = validation_data[validation_data['Nationality'] != 'COLOMBIA']\n",
        "count_dropped_val = len(dropped_instances_val)\n",
        "\n",
        "validation_data = validation_data[validation_data['Nationality'] == 'COLOMBIA']\n",
        "print(\"Instances dropped:\", count_dropped_val)"
      ]
    },
    {
      "cell_type": "code",
      "execution_count": null,
      "metadata": {
        "id": "kTsFtxUaGpyV"
      },
      "outputs": [],
      "source": [
        "validation_data ['Ethnicity'].fillna('Ninguno', inplace=True)"
      ]
    },
    {
      "cell_type": "code",
      "execution_count": null,
      "metadata": {
        "id": "O7ki-pFfzK8s"
      },
      "outputs": [],
      "source": [
        "validation_data.drop(['Date_of_Birth','Period', 'Internet_Access', 'Computer_Access', 'Washing_Machine_Access', 'Car_Access', 'Currently_Working',\n",
        "                      'Student_Ethnicity', 'Housing_Stratum_encode', 'Housing_Stratum', 'Housing_Stratum_pro_encode'], axis=1, inplace=True)"
      ]
    },
    {
      "cell_type": "code",
      "execution_count": null,
      "metadata": {
        "id": "jhdof3-uEM3C"
      },
      "outputs": [],
      "source": [
        "validation_data['Weekly_Working_Hours_pro'] = validation_data['Weekly_Working_Hours_pro'].astype('object')"
      ]
    },
    {
      "cell_type": "code",
      "execution_count": null,
      "metadata": {
        "id": "LVleuD7ycn8Y"
      },
      "outputs": [],
      "source": [
        "variables_to_impute = validation_data.select_dtypes(include='object').columns[validation_data.select_dtypes(include='object').isnull().any()]\n",
        "single_imputer = SingleImputer(strategy={var: 'categorical' for var in variables_to_impute}, seed=123)\n",
        "validation_data = single_imputer.fit_transform(validation_data)"
      ]
    },
    {
      "cell_type": "code",
      "execution_count": null,
      "metadata": {
        "colab": {
          "base_uri": "https://localhost:8080/"
        },
        "id": "eVGYuMk_HR4K",
        "outputId": "4c951535-1683-4578-e781-a419b3af5cb9"
      },
      "outputs": [
        {
          "output_type": "stream",
          "name": "stdout",
          "text": [
            "Number of instances dropped: 0\n"
          ]
        }
      ],
      "source": [
        "num_instances_before = len(validation_data)\n",
        "validation_data.dropna(subset=['Age'], inplace=True)\n",
        "num_instances_after = len(validation_data)\n",
        "num_instances_dropped = num_instances_before - num_instances_after\n",
        "print(\"Number of instances dropped:\", num_instances_dropped)"
      ]
    },
    {
      "cell_type": "code",
      "execution_count": null,
      "metadata": {
        "id": "1tiB6PlTe4SB"
      },
      "outputs": [],
      "source": [
        "validation_data.to_csv('/content/drive/MyDrive/Thesis Dataset/validation_imputed.csv', index=False)"
      ]
    },
    {
      "cell_type": "code",
      "execution_count": null,
      "metadata": {
        "id": "jiLpnsi7fEl3"
      },
      "outputs": [],
      "source": [
        "validation_data = pd.read_csv('/content/drive/MyDrive/Thesis Dataset/validation_imputed.csv', low_memory=False)"
      ]
    },
    {
      "cell_type": "code",
      "execution_count": null,
      "metadata": {
        "colab": {
          "base_uri": "https://localhost:8080/"
        },
        "id": "SZXGsyIY_L-J",
        "outputId": "b1e8ce40-45c7-41e9-d183-1ebcfc33a02d"
      },
      "outputs": [
        {
          "output_type": "stream",
          "name": "stdout",
          "text": [
            "<class 'pandas.core.frame.DataFrame'>\n",
            "RangeIndex: 47360 entries, 0 to 47359\n",
            "Data columns (total 39 columns):\n",
            " #   Column                              Non-Null Count  Dtype  \n",
            "---  ------                              --------------  -----  \n",
            " 0   ID                                  47360 non-null  object \n",
            " 1   Nationality                         47360 non-null  object \n",
            " 2   Gender                              47360 non-null  object \n",
            " 3   Country_of_Residence                47360 non-null  object \n",
            " 4   Ethnicity                           47360 non-null  object \n",
            " 5   Residence_Department_pro            47360 non-null  object \n",
            " 6   Residence_Area_pro                  47360 non-null  object \n",
            " 7   University_Tuition_Fee_pro          47360 non-null  object \n",
            " 8   Scholarship_Payment_pro             47360 non-null  object \n",
            " 9   Credit_Payment_pro                  47360 non-null  object \n",
            " 10  Parent_Payment_pro                  47360 non-null  object \n",
            " 11  Self_Payment_pro                    47360 non-null  object \n",
            " 12  Father_Education_pro                47360 non-null  object \n",
            " 13  Mother_Education_pro                47360 non-null  object \n",
            " 14  Father_work_pro                     47360 non-null  object \n",
            " 15  Mother_work_pro                     47360 non-null  object \n",
            " 16  Housing_Stratum_pro                 47360 non-null  object \n",
            " 17  Internet_Access_pro                 47360 non-null  object \n",
            " 18  TV_Service_pro                      47360 non-null  object \n",
            " 19  Computer_Access_pro                 47360 non-null  object \n",
            " 20  Washing_Machine_Access_pro          47360 non-null  object \n",
            " 21  Video_Game_Console_Access_pro       47360 non-null  object \n",
            " 22  Shared_Bathroom_Count_pro           47360 non-null  object \n",
            " 23  Car_Access_pro                      47360 non-null  object \n",
            " 24  Weekly_Working_Hours_pro            47360 non-null  float64\n",
            " 25  Motorcycle_Access_pro               47360 non-null  object \n",
            " 26  Global_Score_pro                    47360 non-null  int64  \n",
            " 27  Institution_Academic_Character_pro  47360 non-null  object \n",
            " 28  Institution_Origin_pro              47360 non-null  object \n",
            " 29  Group_Reference_pro                 47360 non-null  object \n",
            " 30  Student_Program_Method_pro          47360 non-null  object \n",
            " 31  Institution_Department_pro          47360 non-null  object \n",
            " 32  Age                                 47360 non-null  float64\n",
            " 33  Stratum_Change                      47360 non-null  int64  \n",
            " 34  Computer_Access_Change              47360 non-null  int64  \n",
            " 35  Washing_Machine_Access_Change       47360 non-null  int64  \n",
            " 36  Car_Access_Change                   47360 non-null  int64  \n",
            " 37  Internet_Access_Change              47360 non-null  int64  \n",
            " 38  Working_Hours_Change                47360 non-null  int64  \n",
            "dtypes: float64(2), int64(7), object(30)\n",
            "memory usage: 14.1+ MB\n"
          ]
        }
      ],
      "source": [
        "validation_data.info()"
      ]
    },
    {
      "cell_type": "markdown",
      "metadata": {
        "id": "3JHfLT7upzt-"
      },
      "source": [
        "OneHotEncoding"
      ]
    },
    {
      "cell_type": "code",
      "execution_count": null,
      "metadata": {
        "colab": {
          "base_uri": "https://localhost:8080/"
        },
        "id": "go5fNorg_EPO",
        "outputId": "0990a258-0a87-4f80-e664-f64edc24b517"
      },
      "outputs": [
        {
          "output_type": "stream",
          "name": "stdout",
          "text": [
            "Shape of final validation DataFrame: (47360, 235)\n"
          ]
        }
      ],
      "source": [
        "columns_to_encode = [col for col in validation_data.columns if col not in ['ID', 'Age', 'Global_Score_pro']]\n",
        "\n",
        "column_transformer_oh = ColumnTransformer(\n",
        "    [('one_hot_encoder', OneHotEncoder(drop=None), columns_to_encode)],\n",
        "    remainder='passthrough'\n",
        ")\n",
        "\n",
        "encoded_validation_oh = column_transformer_oh.fit_transform(validation_data.drop(columns=['ID', 'Age', 'Global_Score_pro']))\n",
        "feature_names_encoded = list(column_transformer_oh.get_feature_names_out(input_features=columns_to_encode))\n",
        "dense_matrix = encoded_validation_oh.toarray()\n",
        "\n",
        "encoded_validation_df = pd.DataFrame(dense_matrix, columns=feature_names_encoded)\n",
        "final_validation_df = pd.concat([validation_data[['ID', 'Age', 'Global_Score_pro']], encoded_validation_df], axis=1)\n",
        "training_columns = set(final_training_df.columns)\n",
        "validation_columns = set(final_validation_df.columns)\n",
        "missing_in_validation = training_columns - validation_columns\n",
        "\n",
        "for col in missing_in_validation:\n",
        "    final_validation_df[col] = 0\n",
        "\n",
        "final_validation_df = final_validation_df[final_training_df.columns]\n",
        "print(\"Shape of final validation DataFrame:\", final_validation_df.shape)"
      ]
    },
    {
      "cell_type": "code",
      "execution_count": null,
      "metadata": {
        "colab": {
          "base_uri": "https://localhost:8080/"
        },
        "id": "KS_BaGKFIGXp",
        "outputId": "2643b82f-6268-4f31-862a-401d73c1889a"
      },
      "outputs": [
        {
          "output_type": "execute_result",
          "data": {
            "text/plain": [
              "ID                                           0\n",
              "Age                                          0\n",
              "Global_Score_pro                             0\n",
              "one_hot_encoder__Nationality_COLOMBIA        0\n",
              "one_hot_encoder__Gender_F                    0\n",
              "                                            ..\n",
              "one_hot_encoder__Internet_Access_Change_1    0\n",
              "one_hot_encoder__Internet_Access_Change_2    0\n",
              "one_hot_encoder__Working_Hours_Change_0      0\n",
              "one_hot_encoder__Working_Hours_Change_1      0\n",
              "one_hot_encoder__Working_Hours_Change_2      0\n",
              "Length: 235, dtype: int64"
            ]
          },
          "metadata": {},
          "execution_count": 192
        }
      ],
      "source": [
        "final_validation_df.isnull().sum()"
      ]
    },
    {
      "cell_type": "code",
      "execution_count": null,
      "metadata": {
        "id": "dQFHtXFx1C1B"
      },
      "outputs": [],
      "source": [
        "final_validation_df.to_csv('/content/drive/MyDrive/Thesis Dataset/validation_OH.csv', index=False)"
      ]
    },
    {
      "cell_type": "code",
      "execution_count": null,
      "metadata": {
        "id": "7RqiWbOklt7H"
      },
      "outputs": [],
      "source": [
        "validation_set = pd.read_csv('/content/drive/MyDrive/Thesis Dataset/validation_OH.csv')"
      ]
    },
    {
      "cell_type": "code",
      "execution_count": null,
      "metadata": {
        "id": "FWTJo7S4larS"
      },
      "outputs": [],
      "source": [
        " training_set = pd.read_csv('/content/drive/MyDrive/Thesis Dataset/training_OH.csv')"
      ]
    },
    {
      "cell_type": "markdown",
      "metadata": {
        "id": "gb-p6I7RgNF8"
      },
      "source": [
        "Test Set Processing"
      ]
    },
    {
      "cell_type": "code",
      "execution_count": null,
      "metadata": {
        "id": "L1CsHvSegT8_"
      },
      "outputs": [],
      "source": [
        "test_data = pd.read_csv('/content/drive/MyDrive/Thesis Dataset/test_set', low_memory=False)"
      ]
    },
    {
      "cell_type": "code",
      "execution_count": null,
      "metadata": {
        "id": "YlGlePoJtCW2"
      },
      "outputs": [],
      "source": [
        "mapping = {\n",
        "    20212: datetime(2021, 7, 11),\n",
        "    20203: datetime(2020, 10, 18),\n",
        "    20195: datetime(2019, 10, 20),\n",
        "    20194: datetime(2019, 10, 20),\n",
        "    20213: datetime(2021, 7, 11),\n",
        "    20202: datetime(2020, 10, 18),\n",
        "    20196: datetime(2019, 10, 20)\n",
        "}\n",
        "\n",
        "\n",
        "test_data['Period'] = test_data['Period'].map(mapping)"
      ]
    },
    {
      "cell_type": "code",
      "execution_count": null,
      "metadata": {
        "id": "23WAhbYLumNW"
      },
      "outputs": [],
      "source": [
        "\n",
        "test_data['Date_of_Birth'] = pd.to_datetime(test_data['Date_of_Birth'], format='%d/%m/%Y', errors='coerce')\n",
        "\n",
        "term_dates = {\n",
        "    '20194': datetime(2019, 10, 20),\n",
        "    '20196': datetime(2019, 10, 20),\n",
        "    '20195': datetime(2019, 10, 20),\n",
        "    '20203': datetime(2020, 10, 18),\n",
        "    '20202': datetime(2020, 10, 18),\n",
        "    '20212': datetime(2021, 7, 11),\n",
        "    '20213': datetime(2021, 7, 11)\n",
        "}\n",
        "\n",
        "def calculate_age(row):\n",
        "    today = term_dates.get(row['Period'], pd.to_datetime('today'))\n",
        "    return today.year - row['Date_of_Birth'].year - ((today.month, today.day) < (row['Date_of_Birth'].month, row['Date_of_Birth'].day))\n",
        "\n",
        "test_data['Age'] = test_data.apply(calculate_age, axis=1)"
      ]
    },
    {
      "cell_type": "code",
      "execution_count": null,
      "metadata": {
        "id": "lTYno3mDs36e"
      },
      "outputs": [],
      "source": [
        "test_data = test_data[(test_data['Age'] >= lower_bound) & (test_data['Age'] <= upper_bound)]"
      ]
    },
    {
      "cell_type": "code",
      "execution_count": null,
      "metadata": {
        "id": "xlHVUCKtvKyY"
      },
      "outputs": [],
      "source": [
        "stratum_mapping = {\n",
        "    'Estrato 1': 1,\n",
        "    'Estrato 2': 2,\n",
        "    'Estrato 3': 3,\n",
        "    'Estrato 4': 4,\n",
        "    'Estrato 5': 5,\n",
        "    'Estrato 6': 6,\n",
        "    'Sin Estrato': 0\n",
        "}\n",
        "\n",
        "test_data['Housing_Stratum_pro_encode'] = test_data['Housing_Stratum_pro'].map(stratum_mapping)\n",
        "test_data['Housing_Stratum_encode'] = test_data['Housing_Stratum'].map(stratum_mapping)"
      ]
    },
    {
      "cell_type": "code",
      "execution_count": null,
      "metadata": {
        "id": "fjRuSHVIvNKJ"
      },
      "outputs": [],
      "source": [
        "test_data = test_data[test_data['Housing_Stratum_pro_encode'] != 0]"
      ]
    },
    {
      "cell_type": "code",
      "execution_count": null,
      "metadata": {
        "colab": {
          "base_uri": "https://localhost:8080/"
        },
        "id": "w9WBWzjHvrJe",
        "outputId": "bf541325-ed98-41f7-fe4b-d591ca67a6fd"
      },
      "outputs": [
        {
          "output_type": "execute_result",
          "data": {
            "text/plain": [
              "Stratum_Change\n",
              "0    39353\n",
              "1    13299\n",
              "2     6548\n",
              "Name: count, dtype: int64"
            ]
          },
          "metadata": {},
          "execution_count": 227
        }
      ],
      "source": [
        "test_data['Stratum_Change'] = 0\n",
        "\n",
        "test_data.loc[test_data['Housing_Stratum_encode'] < test_data['Housing_Stratum_pro_encode'], 'Stratum_Change'] = 1\n",
        "test_data.loc[test_data['Housing_Stratum_encode'] > test_data['Housing_Stratum_pro_encode'], 'Stratum_Change'] = 2\n",
        "\n",
        "test_data['Stratum_Change'].value_counts()"
      ]
    },
    {
      "cell_type": "code",
      "execution_count": null,
      "metadata": {
        "colab": {
          "base_uri": "https://localhost:8080/"
        },
        "id": "Ua4qaRkuwOsF",
        "outputId": "267b8dbf-a409-4d71-8d75-4ee232e7340d"
      },
      "outputs": [
        {
          "output_type": "stream",
          "name": "stdout",
          "text": [
            "Computer_Access_Change\n",
            "0    48831\n",
            "1     7992\n",
            "2     2377\n",
            "Name: count, dtype: int64\n",
            "Washing_Machine_Access_Change\n",
            "0    48791\n",
            "1     6617\n",
            "2     3792\n",
            "Name: count, dtype: int64\n",
            "Car_Access_Change\n",
            "0    46025\n",
            "1     6948\n",
            "2     6227\n",
            "Name: count, dtype: int64\n",
            "Internet_Access_Change\n",
            "0    46463\n",
            "1    11123\n",
            "2     1614\n",
            "Name: count, dtype: int64\n"
          ]
        }
      ],
      "source": [
        "test_data['Computer_Access_Change'] = 0\n",
        "\n",
        "test_data.loc[(test_data['Computer_Access'] == 'No') & (test_data['Computer_Access_pro'] == 'Si'), 'Computer_Access_Change'] = 1\n",
        "test_data.loc[(test_data['Computer_Access'] == 'Si') & (test_data['Computer_Access_pro'] == 'No'), 'Computer_Access_Change'] = 2\n",
        "\n",
        "\n",
        "test_data['Washing_Machine_Access_Change'] = 0\n",
        "\n",
        "test_data.loc[(test_data['Washing_Machine_Access'] == 'No') & (test_data['Washing_Machine_Access_pro'] == 'Si'), 'Washing_Machine_Access_Change'] = 1\n",
        "test_data.loc[(test_data['Washing_Machine_Access'] == 'Si') & (test_data['Washing_Machine_Access_pro'] == 'No'), 'Washing_Machine_Access_Change'] = 2\n",
        "\n",
        "test_data['Car_Access_Change'] = 0\n",
        "\n",
        "test_data.loc[(test_data['Car_Access'] == 'No') & (test_data['Car_Access_pro'] == 'Si'), 'Car_Access_Change'] = 1\n",
        "test_data.loc[(test_data['Car_Access'] == 'Si') & (test_data['Car_Access_pro'] == 'No'), 'Car_Access_Change'] = 2\n",
        "\n",
        "\n",
        "test_data['Internet_Access_Change'] = 0\n",
        "\n",
        "test_data.loc[(test_data['Internet_Access'] == 'No') & (test_data['Internet_Access_pro'] == 'Si'), 'Internet_Access_Change'] = 1\n",
        "test_data.loc[(test_data['Internet_Access'] == 'Si') & (test_data['Internet_Access_pro'] == 'No'), 'Internet_Access_Change'] = 2\n",
        "\n",
        "print(test_data['Computer_Access_Change'].value_counts())\n",
        "print(test_data['Washing_Machine_Access_Change'].value_counts())\n",
        "print(test_data['Car_Access_Change'].value_counts())\n",
        "print (test_data['Internet_Access_Change'].value_counts())"
      ]
    },
    {
      "cell_type": "code",
      "execution_count": null,
      "metadata": {
        "colab": {
          "base_uri": "https://localhost:8080/"
        },
        "id": "K-CWdr2P57Fj",
        "outputId": "ebb2ff30-5fc1-471e-f160-c8a99ff2b279"
      },
      "outputs": [
        {
          "output_type": "stream",
          "name": "stdout",
          "text": [
            "Working_Hours_Change\n",
            "1    41770\n",
            "0    16900\n",
            "2      530\n",
            "Name: count, dtype: int64\n"
          ]
        }
      ],
      "source": [
        "\n",
        "weekly_working_hours_mapping = {\n",
        "    'Más de 30 horas': 'Si, 20 horas o más a la semana',\n",
        "    'Entre 21 y 30 horas': 'Si, 20 horas o más a la semana',\n",
        "    '0': 'No',\n",
        "    'Entre 11 y 20 horas': 'Si, menos de 20 horas a la semana',\n",
        "    'Menos de 10 horas': 'Si, menos de 20 horas a la semana'\n",
        "}\n",
        "\n",
        "test_data['Weekly_Working_Hours_pro'] = test_data['Weekly_Working_Hours_pro'].map(weekly_working_hours_mapping)\n",
        "\n",
        "currently_working_mapping = {\n",
        "    'No': 0,\n",
        "    'Si, menos de 20 horas a la semana': 1,\n",
        "    'Si, 20 horas o más a la semana': 2\n",
        "}\n",
        "\n",
        "weekly_working_hours_mapping = {\n",
        "    'No': 0,\n",
        "    'Si, menos de 20 horas a la semana': 1,\n",
        "    'Si, 20 horas o más a la semana': 2\n",
        "}\n",
        "\n",
        "test_data['Currently_Working'] = test_data['Currently_Working'].map(currently_working_mapping)\n",
        "test_data['Weekly_Working_Hours_pro'] = test_data['Weekly_Working_Hours_pro'].map(weekly_working_hours_mapping)\n",
        "\n",
        "\n",
        "test_data['Working_Hours_Change'] = 0\n",
        "\n",
        "test_data.loc[test_data['Currently_Working'] < test_data['Weekly_Working_Hours_pro'], 'Working_Hours_Change'] = 1\n",
        "test_data.loc[test_data['Currently_Working'] > test_data['Weekly_Working_Hours_pro'], 'Working_Hours_Change'] = 2\n",
        "\n",
        "print (test_data['Working_Hours_Change'].value_counts())"
      ]
    },
    {
      "cell_type": "code",
      "execution_count": null,
      "metadata": {
        "colab": {
          "base_uri": "https://localhost:8080/"
        },
        "id": "tVXNwfhwwhyX",
        "outputId": "6f099cbe-0391-41ef-b0da-592509927fe4"
      },
      "outputs": [
        {
          "output_type": "stream",
          "name": "stdout",
          "text": [
            "Instances dropped: 9\n",
            "Instances dropped: 31\n",
            "Instances dropped: 0\n"
          ]
        }
      ],
      "source": [
        "desired_categories_test = ['BOGOTÁ', 'ANTIOQUIA', 'VALLE', 'CUNDINAMARCA', 'ATLANTICO',\n",
        "                      'SANTANDER', 'BOLIVAR', 'NORTE SANTANDER', 'BOYACA', 'TOLIMA',\n",
        "                      'NARIÑO', 'CORDOBA', 'HUILA', 'META', 'CESAR', 'RISARALDA',\n",
        "                      'SUCRE', 'MAGDALENA', 'CALDAS', 'CAUCA', 'LA GUAJIRA',\n",
        "                      'QUINDIO', 'CASANARE', 'CAQUETA', 'CHOCO', 'PUTUMAYO',\n",
        "                      'ARAUCA', 'SAN ANDRES', 'GUAVIARE', 'VICHADA', 'AMAZONAS',\n",
        "                      'GUAINIA', 'VAUPES']\n",
        "\n",
        "filtered_data_test = test_data[test_data['Residence_Department_pro'].isin(desired_categories_test) | test_data['Residence_Department_pro'].isnull()]\n",
        "\n",
        "count_dropped = len(test_data) - len(filtered_data_test)\n",
        "\n",
        "\n",
        "test_data = filtered_data_test\n",
        "\n",
        "print(\"Instances dropped:\", count_dropped)\n",
        "\n",
        "dropped_instances_residence_test = test_data[test_data['Country_of_Residence'] != 'COLOMBIA']\n",
        "count_dropped_residence_val = len(dropped_instances_residence_test)\n",
        "\n",
        "test_data = test_data[test_data['Country_of_Residence'] == 'COLOMBIA']\n",
        "\n",
        "print(\"Instances dropped:\", count_dropped_residence_val)\n",
        "\n",
        "dropped_instances_val = test_data[test_data['Nationality'] != 'COLOMBIA']\n",
        "count_dropped_val = len(dropped_instances_val)\n",
        "\n",
        "test_data = test_data[test_data['Nationality'] == 'COLOMBIA']\n",
        "print(\"Instances dropped:\", count_dropped_val)"
      ]
    },
    {
      "cell_type": "code",
      "execution_count": null,
      "metadata": {
        "id": "p-h8Hoz-x2jQ"
      },
      "outputs": [],
      "source": [
        "test_data ['Ethnicity'].fillna('Ninguno', inplace=True)"
      ]
    },
    {
      "cell_type": "code",
      "execution_count": null,
      "metadata": {
        "id": "_bJlNe-QyxyQ"
      },
      "outputs": [],
      "source": [
        "test_data.drop(['Date_of_Birth','Period', 'Internet_Access', 'Computer_Access', 'Washing_Machine_Access', 'Car_Access', 'Currently_Working',\n",
        "                      'Student_Ethnicity', 'Housing_Stratum_encode', 'Housing_Stratum', 'Housing_Stratum_pro_encode'], axis=1, inplace=True)"
      ]
    },
    {
      "cell_type": "code",
      "execution_count": null,
      "metadata": {
        "id": "lyqxCkWVy4QU"
      },
      "outputs": [],
      "source": [
        "test_data['Weekly_Working_Hours_pro'] = test_data['Weekly_Working_Hours_pro'].astype('object')"
      ]
    },
    {
      "cell_type": "code",
      "execution_count": null,
      "metadata": {
        "id": "GCS8mD38hjyd"
      },
      "outputs": [],
      "source": [
        "test_final = single_imputer_loaded.transform(test_data)"
      ]
    },
    {
      "cell_type": "code",
      "execution_count": null,
      "metadata": {
        "id": "2xlKMR1mqyt-"
      },
      "outputs": [],
      "source": [
        "test_final.to_csv('/content/drive/MyDrive/Thesis Dataset/test_checkpoint.csv', index=False)"
      ]
    },
    {
      "cell_type": "code",
      "execution_count": null,
      "metadata": {
        "id": "xCsZQI3bq9js"
      },
      "outputs": [],
      "source": [
        "test_final = pd.read_csv('/content/drive/MyDrive/Thesis Dataset/test_checkpoint.csv', low_memory=False)"
      ]
    },
    {
      "cell_type": "code",
      "execution_count": null,
      "metadata": {
        "colab": {
          "base_uri": "https://localhost:8080/"
        },
        "id": "WTv0QDYCoEnB",
        "outputId": "bf25ba84-a41e-4fff-dc5f-0ad583aaf870"
      },
      "outputs": [
        {
          "output_type": "stream",
          "name": "stdout",
          "text": [
            "Shape of final test DataFrame: (59160, 235)\n"
          ]
        }
      ],
      "source": [
        "columns_to_encode_test = [col for col in test_final.columns if col not in ['ID', 'Age', 'Global_Score_pro']]\n",
        "\n",
        "columns_to_encode_test = [col for col in columns_to_encode_test if col in columns_to_encode]\n",
        "\n",
        "encoded_test_oh = column_transformer_oh.transform(test_final[columns_to_encode_test])\n",
        "\n",
        "feature_names_encoded = list(column_transformer_oh.get_feature_names_out(input_features=columns_to_encode_test))\n",
        "\n",
        "dense_matrix_test = encoded_test_oh.toarray()\n",
        "\n",
        "encoded_test_df = pd.DataFrame(dense_matrix_test, columns=feature_names_encoded)\n",
        "\n",
        "final_test_df = pd.concat([test_final[['ID', 'Age', 'Global_Score_pro']], encoded_test_df], axis=1)\n",
        "\n",
        "encoded_test_df = final_test_df[training_set.columns]\n",
        "\n",
        "print(\"Shape of final test DataFrame:\", final_test_df.shape)"
      ]
    },
    {
      "cell_type": "code",
      "execution_count": null,
      "metadata": {
        "colab": {
          "base_uri": "https://localhost:8080/"
        },
        "id": "lVtsKGTmCvTZ",
        "outputId": "74d83f4e-f6a7-449d-a1a1-9d8260104bf4"
      },
      "outputs": [
        {
          "output_type": "stream",
          "name": "stdout",
          "text": [
            "Columns present only in final_test_df:\n",
            "set()\n",
            "\n",
            "Columns present only in final_training_df:\n",
            "set()\n"
          ]
        }
      ],
      "source": [
        "training_columns = set(training_set.columns)\n",
        "test_columns = set(encoded_test_df.columns)\n",
        "\n",
        "columns_only_in_test = test_columns - training_columns\n",
        "\n",
        "columns_only_in_training = training_columns - test_columns\n",
        "\n",
        "print(\"Columns present only in final_test_df:\")\n",
        "print(columns_only_in_test)\n",
        "\n",
        "print(\"\\nColumns present only in final_training_df:\")\n",
        "print(columns_only_in_training)\n"
      ]
    },
    {
      "cell_type": "code",
      "execution_count": null,
      "metadata": {
        "id": "HJvkF57SvaxK"
      },
      "outputs": [],
      "source": [
        "encoded_test_df.to_csv('/content/drive/MyDrive/Thesis Dataset/test_OH.csv', index=False)"
      ]
    },
    {
      "cell_type": "code",
      "execution_count": null,
      "metadata": {
        "id": "7dLT_xj1dska"
      },
      "outputs": [],
      "source": [
        "train_data = pd.read_csv('/content/drive/MyDrive/Thesis Dataset/checkpoint_2.csv')"
      ]
    },
    {
      "cell_type": "code",
      "execution_count": null,
      "metadata": {
        "id": "Vkxo5TLGfiK5"
      },
      "outputs": [],
      "source": [
        "validation_data = pd.read_csv('/content/drive/MyDrive/Thesis Dataset/validation_imputed.csv', low_memory=False)"
      ]
    },
    {
      "cell_type": "code",
      "execution_count": null,
      "metadata": {
        "id": "FfqQqkZNfmRp"
      },
      "outputs": [],
      "source": [
        "def convert_columns_to_object(df):\n",
        "    columns_to_convert = [col for col in df.columns if col not in ['Age', 'Global_Score_pro']]\n",
        "    df[columns_to_convert] = df[columns_to_convert].astype('object')\n",
        "    return df\n",
        "\n",
        "train_data = convert_columns_to_object(train_data)\n",
        "test_final = convert_columns_to_object(test_final)\n",
        "validation_data = convert_columns_to_object(validation_data)\n"
      ]
    },
    {
      "cell_type": "code",
      "execution_count": null,
      "metadata": {
        "colab": {
          "base_uri": "https://localhost:8080/"
        },
        "id": "SmytPy45605l",
        "outputId": "36a392c8-2354-4f77-9c6c-4ed1c40dea9a"
      },
      "outputs": [
        {
          "output_type": "execute_result",
          "data": {
            "text/plain": [
              "count    189336.000000\n",
              "mean        154.257922\n",
              "std          25.464483\n",
              "min           0.000000\n",
              "25%         137.000000\n",
              "50%         154.000000\n",
              "75%         172.000000\n",
              "max         268.000000\n",
              "Name: Global_Score_pro, dtype: float64"
            ]
          },
          "metadata": {},
          "execution_count": 243
        }
      ],
      "source": [
        "train_data['Global_Score_pro'].describe()"
      ]
    },
    {
      "cell_type": "markdown",
      "metadata": {
        "id": "4ogsO1zlrAgo"
      },
      "source": [
        "**LeaveOneOutEncoding**"
      ]
    },
    {
      "cell_type": "code",
      "execution_count": null,
      "metadata": {
        "id": "nGNYVp17jiTn"
      },
      "outputs": [],
      "source": [
        "X_train = train_data\n",
        "X_valid = validation_data\n",
        "X_test = test_final\n",
        "\n",
        "\n",
        "y_train = X_train['Global_Score_pro']\n",
        "\n",
        "categorical_columns = [col for col in X_train.columns if col not in ['ID', 'Global_Score_pro', 'Age']]\n",
        "\n",
        "cat_encoder = LeaveOneOutEncoder()\n",
        "\n",
        "cat_encoder.fit(X_train[categorical_columns], y_train)\n",
        "\n",
        "X_train_encoded = X_train.copy()\n",
        "X_train_encoded[categorical_columns] = cat_encoder.transform(X_train[categorical_columns])\n",
        "\n",
        "X_valid_encoded = X_valid.copy()\n",
        "X_valid_encoded[categorical_columns] = cat_encoder.transform(X_valid[categorical_columns])\n",
        "\n",
        "X_test_encoded = X_test.copy()\n",
        "X_test_encoded[categorical_columns] = cat_encoder.transform(X_test[categorical_columns])\n"
      ]
    },
    {
      "cell_type": "code",
      "execution_count": null,
      "metadata": {
        "id": "K40OaSReHMBr"
      },
      "outputs": [],
      "source": [
        "X_train_encoded.to_csv(\"/content/drive/MyDrive/Thesis Dataset/train_OLeave.csv\", index=False)\n",
        "X_valid_encoded.to_csv(\"/content/drive/MyDrive/Thesis Dataset/valid_OLeave.csv\", index=False)\n",
        "X_test_encoded.to_csv(\"/content/drive/MyDrive/Thesis Dataset/test_OLeave.csv\", index=False)\n"
      ]
    },
    {
      "cell_type": "code",
      "execution_count": null,
      "metadata": {
        "id": "r5cH3dnhyW3u"
      },
      "outputs": [],
      "source": [
        "X_train_df = pd.read_csv('/content/drive/MyDrive/Thesis Dataset/train_OLeave.csv')\n",
        "X_valid_df = pd.read_csv('/content/drive/MyDrive/Thesis Dataset/valid_OLeave.csv')\n",
        "X_test_df = pd.read_csv('/content/drive/MyDrive/Thesis Dataset/test_OLeave.csv')"
      ]
    },
    {
      "cell_type": "markdown",
      "metadata": {
        "id": "3DNDgdvqr2LR"
      },
      "source": [
        "Label Encoding"
      ]
    },
    {
      "cell_type": "code",
      "execution_count": null,
      "metadata": {
        "colab": {
          "base_uri": "https://localhost:8080/"
        },
        "collapsed": true,
        "id": "qrZjlbpJCvA0",
        "outputId": "f2f06c03-ea6d-468c-d661-2d146264286e"
      },
      "outputs": [
        {
          "output_type": "stream",
          "name": "stdout",
          "text": [
            "Encoded Training Data:\n",
            "               ID  Nationality  Gender  Country_of_Residence  Ethnicity  \\\n",
            "0  EK202030087022            0       0                     0          9   \n",
            "1  EK202030093763            0       0                     0          9   \n",
            "2  EK202120215853            0       1                     0          9   \n",
            "3  EK202120292000            0       1                     0          9   \n",
            "4  EK202120185798            0       0                     0          9   \n",
            "\n",
            "   Residence_Department_pro  Residence_Area_pro  University_Tuition_Fee_pro  \\\n",
            "0                         3                   1                           6   \n",
            "1                         4                   1                           6   \n",
            "2                        20                   1                           3   \n",
            "3                         1                   1                           7   \n",
            "4                        14                   1                           1   \n",
            "\n",
            "   Scholarship_Payment_pro  Credit_Payment_pro  ...  Group_Reference_pro  \\\n",
            "0                        0                   0  ...                    0   \n",
            "1                        0                   0  ...                   16   \n",
            "2                        0                   1  ...                   16   \n",
            "3                        1                   0  ...                    0   \n",
            "4                        0                   1  ...                   12   \n",
            "\n",
            "   Student_Program_Method_pro  Institution_Department_pro   Age  \\\n",
            "0                           2                           1  26.0   \n",
            "1                           2                           2  25.0   \n",
            "2                           2                           2  25.0   \n",
            "3                           0                           2  24.0   \n",
            "4                           2                           2  23.0   \n",
            "\n",
            "   Stratum_Change  Computer_Access_Change  Washing_Machine_Access_Change  \\\n",
            "0               1                       0                              0   \n",
            "1               0                       0                              0   \n",
            "2               1                       1                              1   \n",
            "3               2                       0                              1   \n",
            "4               2                       0                              0   \n",
            "\n",
            "   Car_Access_Change  Internet_Access_Change  Working_Hours_Change  \n",
            "0                  0                       0                     1  \n",
            "1                  0                       0                     0  \n",
            "2                  1                       1                     1  \n",
            "3                  0                       0                     1  \n",
            "4                  0                       0                     1  \n",
            "\n",
            "[5 rows x 39 columns]\n",
            "\n",
            "Encoded Validation Data:\n",
            "               ID  Nationality  Gender  Country_of_Residence  Ethnicity  \\\n",
            "0  EK202120301205            0       0                     0          9   \n",
            "1  EK202030301245            0       0                     0          9   \n",
            "2  EK202120225963            0       0                     0          9   \n",
            "3  EK202030216988            0       0                     0          9   \n",
            "4  EK202120277853            0       1                     0          9   \n",
            "\n",
            "   Residence_Department_pro  Residence_Area_pro  University_Tuition_Fee_pro  \\\n",
            "0                         3                   1                           1   \n",
            "1                        30                   1                           4   \n",
            "2                         3                   1                           6   \n",
            "3                         3                   1                           5   \n",
            "4                        19                   0                           4   \n",
            "\n",
            "   Scholarship_Payment_pro  Credit_Payment_pro  ...  Group_Reference_pro  \\\n",
            "0                        1                   0  ...                   16   \n",
            "1                        1                   0  ...                    0   \n",
            "2                        0                   0  ...                   17   \n",
            "3                        1                   0  ...                    0   \n",
            "4                        0                   0  ...                   16   \n",
            "\n",
            "   Student_Program_Method_pro  Institution_Department_pro   Age  \\\n",
            "0                           2                           1  24.0   \n",
            "1                           2                          25  25.0   \n",
            "2                           2                           1  25.0   \n",
            "3                           2                           1  25.0   \n",
            "4                           2                          15  27.0   \n",
            "\n",
            "   Stratum_Change  Computer_Access_Change  Washing_Machine_Access_Change  \\\n",
            "0               0                       0                              0   \n",
            "1               1                       1                              0   \n",
            "2               0                       0                              0   \n",
            "3               0                       0                              0   \n",
            "4               0                       0                              0   \n",
            "\n",
            "   Car_Access_Change  Internet_Access_Change  Working_Hours_Change  \n",
            "0                  1                       0                     1  \n",
            "1                  0                       0                     1  \n",
            "2                  0                       0                     0  \n",
            "3                  0                       0                     1  \n",
            "4                  0                       0                     1  \n",
            "\n",
            "[5 rows x 39 columns]\n",
            "\n",
            "Encoded Test Data:\n",
            "               ID  Nationality  Gender  Country_of_Residence  Ethnicity  \\\n",
            "0  EK201950305865            0       1                     0          9   \n",
            "1  EK202120081754            0       1                     0          9   \n",
            "2  EK202120253533            0       0                     0          9   \n",
            "3  EK202120178093            0       0                     0          9   \n",
            "4  EK202120319959            0       0                     0          9   \n",
            "\n",
            "   Residence_Department_pro  Residence_Area_pro  University_Tuition_Fee_pro  \\\n",
            "0                        28                   1                           4   \n",
            "1                         2                   1                           5   \n",
            "2                         1                   0                           7   \n",
            "3                        19                   1                           2   \n",
            "4                         5                   1                           1   \n",
            "\n",
            "   Scholarship_Payment_pro  Credit_Payment_pro  ...  Group_Reference_pro  \\\n",
            "0                        0                   0  ...                   16   \n",
            "1                        1                   1  ...                   12   \n",
            "2                        1                   0  ...                   12   \n",
            "3                        0                   0  ...                    9   \n",
            "4                        0                   0  ...                    0   \n",
            "\n",
            "   Student_Program_Method_pro  Institution_Department_pro   Age  \\\n",
            "0                           2                          23  25.0   \n",
            "1                           2                          18  25.0   \n",
            "2                           2                           0  26.0   \n",
            "3                           2                          15  25.0   \n",
            "4                           2                           2  24.0   \n",
            "\n",
            "   Stratum_Change  Computer_Access_Change  Washing_Machine_Access_Change  \\\n",
            "0               1                       0                              0   \n",
            "1               0                       1                              0   \n",
            "2               2                       0                              0   \n",
            "3               0                       1                              1   \n",
            "4               0                       0                              0   \n",
            "\n",
            "   Car_Access_Change  Internet_Access_Change  Working_Hours_Change  \n",
            "0                  0                       0                     0  \n",
            "1                  1                       1                     1  \n",
            "2                  0                       0                     0  \n",
            "3                  0                       0                     0  \n",
            "4                  0                       0                     1  \n",
            "\n",
            "[5 rows x 39 columns]\n"
          ]
        }
      ],
      "source": [
        "X_train_label = train_data\n",
        "X_valid_label = validation_data\n",
        "X_test_label = test_final\n",
        "\n",
        "y_train_label = X_train_label['Global_Score_pro']\n",
        "\n",
        "categorical_columns = [col for col in X_train_label.columns if col not in ['ID', 'Global_Score_pro', 'Age']]\n",
        "\n",
        "label_encoder = LabelEncoder()\n",
        "\n",
        "for col in categorical_columns:\n",
        "    X_train_label[col] = label_encoder.fit_transform(X_train_label[col])\n",
        "    X_valid_label[col] = label_encoder.transform(X_valid_label[col])\n",
        "    X_test_label[col] = label_encoder.transform(X_test_label[col])\n",
        "\n",
        "\n",
        "print(\"Encoded Training Data:\")\n",
        "print(X_train_label.head())\n",
        "print(\"\\nEncoded Validation Data:\")\n",
        "print(X_valid_label.head())\n",
        "print(\"\\nEncoded Test Data:\")\n",
        "print(X_test_label.head())"
      ]
    },
    {
      "cell_type": "code",
      "execution_count": null,
      "metadata": {
        "id": "2cM_rzWnK8Hk"
      },
      "outputs": [],
      "source": [
        "X_train_label.to_csv(\"/content/drive/MyDrive/Thesis Dataset/train_label.csv\", index=False)\n",
        "X_valid_label.to_csv(\"/content/drive/MyDrive/Thesis Dataset/valid_label.csv\", index=False)\n",
        "X_test_label.to_csv(\"/content/drive/MyDrive/Thesis Dataset/test_label.csv\", index=False)"
      ]
    },
    {
      "cell_type": "markdown",
      "metadata": {
        "id": "FBd94Vjew4GH"
      },
      "source": [
        "Distribution checking"
      ]
    },
    {
      "cell_type": "code",
      "execution_count": null,
      "metadata": {
        "id": "NGuMPjQSwzxp"
      },
      "outputs": [],
      "source": []
    },
    {
      "cell_type": "code",
      "execution_count": null,
      "metadata": {
        "id": "_83OIh03EBay"
      },
      "outputs": [],
      "source": [
        "train_check =  pd.read_csv('/content/drive/MyDrive/Thesis Dataset/checkpoint_2.csv')"
      ]
    },
    {
      "cell_type": "code",
      "execution_count": null,
      "metadata": {
        "id": "E0YaaoPM5f39"
      },
      "outputs": [],
      "source": [
        "validation_check = pd.read_csv('/content/drive/MyDrive/Thesis Dataset/validation_imputed.csv', low_memory=False)"
      ]
    },
    {
      "cell_type": "code",
      "execution_count": null,
      "metadata": {
        "colab": {
          "base_uri": "https://localhost:8080/"
        },
        "id": "YlRtaBsi5szr",
        "outputId": "a79a9891-71c4-476f-d9ff-e331d4053e1d"
      },
      "outputs": [
        {
          "output_type": "execute_result",
          "data": {
            "text/plain": [
              "count    189336.000000\n",
              "mean        154.257922\n",
              "std          25.464483\n",
              "min           0.000000\n",
              "25%         137.000000\n",
              "50%         154.000000\n",
              "75%         172.000000\n",
              "max         268.000000\n",
              "Name: Global_Score_pro, dtype: float64"
            ]
          },
          "metadata": {},
          "execution_count": 5
        }
      ],
      "source": [
        "train_check ['Global_Score_pro'].describe()"
      ]
    },
    {
      "cell_type": "code",
      "execution_count": null,
      "metadata": {
        "colab": {
          "base_uri": "https://localhost:8080/"
        },
        "id": "ANeyC9gQ54-K",
        "outputId": "93fc7f86-9ca1-43ff-b4d8-e04e400dace4"
      },
      "outputs": [
        {
          "output_type": "execute_result",
          "data": {
            "text/plain": [
              "count    47360.000000\n",
              "mean       154.521685\n",
              "std         25.528526\n",
              "min         13.000000\n",
              "25%        137.000000\n",
              "50%        155.000000\n",
              "75%        172.000000\n",
              "max        268.000000\n",
              "Name: Global_Score_pro, dtype: float64"
            ]
          },
          "metadata": {},
          "execution_count": 6
        }
      ],
      "source": [
        "validation_check ['Global_Score_pro'].describe()"
      ]
    },
    {
      "cell_type": "code",
      "execution_count": null,
      "metadata": {
        "id": "lACZk2OS6KHz",
        "colab": {
          "base_uri": "https://localhost:8080/"
        },
        "outputId": "a053cbcf-0789-4e16-ea34-802cd654754c"
      },
      "outputs": [
        {
          "output_type": "execute_result",
          "data": {
            "text/plain": [
              "count    189336.000000\n",
              "mean        154.257922\n",
              "std          25.464483\n",
              "min           0.000000\n",
              "25%         137.000000\n",
              "50%         154.000000\n",
              "75%         172.000000\n",
              "max         268.000000\n",
              "Name: Global_Score_pro, dtype: float64"
            ]
          },
          "metadata": {},
          "execution_count": 7
        }
      ],
      "source": [
        "train_check ['Global_Score_pro'].describe()"
      ]
    },
    {
      "cell_type": "code",
      "execution_count": null,
      "metadata": {
        "id": "J1gmLzgs8p5J"
      },
      "outputs": [],
      "source": [
        "validation_counts_change = validation_check['Stratum_Change'].value_counts(normalize=True) * 100\n",
        "train_counts_change = train_check['Stratum_Change'].value_counts(normalize=True) * 100\n"
      ]
    },
    {
      "cell_type": "code",
      "source": [
        "fig, ax = plt.subplots(figsize=(10, 6))\n",
        "\n",
        "# Plot validation percentages\n",
        "validation_counts_change.plot(kind='bar', alpha=0.7, color='blue', position=0, width=0.4, label='Validation', ax=ax)\n",
        "\n",
        "# Plot train percentages\n",
        "train_counts_change.plot(kind='bar', alpha=0.7, color='green', position=1, width=0.4, label='Train', ax=ax)\n",
        "\n",
        "# Customizing the plot\n",
        "plt.title('Percentage Distribution of Stratum_Change in Validation and Train Sets')\n",
        "plt.xlabel('Stratum_Change')\n",
        "plt.ylabel('Percentage')\n",
        "plt.xticks(rotation=0)\n",
        "plt.legend(title='Dataset')\n",
        "\n",
        "plt.show()"
      ],
      "metadata": {
        "colab": {
          "base_uri": "https://localhost:8080/",
          "height": 564
        },
        "id": "6KDCBZI6CrHu",
        "outputId": "fc35f5bc-b111-44e4-f096-80eb3a41f26d"
      },
      "execution_count": null,
      "outputs": [
        {
          "output_type": "display_data",
          "data": {
            "text/plain": [
              "<Figure size 1000x600 with 1 Axes>"
            ],
            "image/png": "[encoded data removed]"
          },
          "metadata": {}
        }
      ]
    },
    {
      "cell_type": "code",
      "source": [
        "validation_counts= validation_check['Housing_Stratum_pro'].value_counts(normalize=True) * 100\n",
        "train_counts= train_check['Housing_Stratum_pro'].value_counts(normalize=True) * 100\n"
      ],
      "metadata": {
        "id": "L9qSJGjLKitd"
      },
      "execution_count": null,
      "outputs": []
    },
    {
      "cell_type": "code",
      "source": [
        "fig, ax = plt.subplots(figsize=(10, 6))\n",
        "\n",
        "# Plot validation percentages\n",
        "validation_counts.plot(kind='bar', alpha=0.7, color='blue', position=0, width=0.4, label='Validation', ax=ax)\n",
        "\n",
        "# Plot train percentages\n",
        "train_counts.plot(kind='bar', alpha=0.7, color='green', position=1, width=0.4, label='Train', ax=ax)\n",
        "\n",
        "# Customizing the plot\n",
        "plt.title('Percentage Distribution of Stratum in Validation and Train Sets')\n",
        "plt.xlabel('Housing_Stratum_pro')\n",
        "plt.ylabel('Percentage')\n",
        "plt.xticks(rotation=0)\n",
        "plt.legend(title='Dataset')\n",
        "\n",
        "plt.show()"
      ],
      "metadata": {
        "colab": {
          "base_uri": "https://localhost:8080/",
          "height": 564
        },
        "id": "LxsZdV-dK9zD",
        "outputId": "6061b00c-799b-452f-da80-6e75d3ba4dc9"
      },
      "execution_count": null,
      "outputs": [
        {
          "output_type": "display_data",
          "data": {
            "text/plain": [
              "<Figure size 1000x600 with 1 Axes>"
            ],
            "image/png": "[encoded data removed]"
          },
          "metadata": {}
        }
      ]
    },
    {
      "cell_type": "code",
      "execution_count": null,
      "metadata": {
        "colab": {
          "base_uri": "https://localhost:8080/",
          "height": 564
        },
        "id": "vVn21Youx6zo",
        "outputId": "83cabfa6-8daa-4361-ab8a-e0608abb5080"
      },
      "outputs": [
        {
          "output_type": "display_data",
          "data": {
            "text/plain": [
              "<Figure size 1000x600 with 1 Axes>"
            ],
            "image/png": "[encoded data removed]"
          },
          "metadata": {}
        }
      ],
      "source": [
        "# Target Variable distributions\n",
        "plt.figure(figsize=(10, 6))\n",
        "\n",
        "sns.kdeplot(train_check['Global_Score_pro'], color='blue', label='Train', fill=False)\n",
        "sns.kdeplot(validation_check['Global_Score_pro'], color='orange', label='Validation', fill=False)\n",
        "\n",
        "plt.title('Density Plot of Global_Score_pro in Train and Validation Sets')\n",
        "plt.xlabel('Global_Score_pro')\n",
        "plt.ylabel('Density')\n",
        "plt.legend(title='Set')\n",
        "plt.show()"
      ]
    },
    {
      "cell_type": "code",
      "execution_count": null,
      "metadata": {
        "colab": {
          "base_uri": "https://localhost:8080/"
        },
        "id": "TnU0zSJ_1Wa4",
        "outputId": "46598dfe-d0ac-4a9b-8f31-29a47633688e"
      },
      "outputs": [
        {
          "data": {
            "text/plain": [
              "count    47643.000000\n",
              "mean        25.361039\n",
              "std          1.642819\n",
              "min          2.000000\n",
              "25%         25.000000\n",
              "50%         25.000000\n",
              "75%         26.000000\n",
              "max        105.000000\n",
              "Name: Age, dtype: float64"
            ]
          },
          "execution_count": 7,
          "metadata": {},
          "output_type": "execute_result"
        }
      ],
      "source": [
        "validation_check ['Age'].describe()"
      ]
    },
    {
      "cell_type": "markdown",
      "source": [
        "Stratified Splitting"
      ],
      "metadata": {
        "id": "Cmh2CCbVbZ7O"
      }
    },
    {
      "cell_type": "code",
      "source": [
        "thesis_data.isna().sum()"
      ],
      "metadata": {
        "colab": {
          "base_uri": "https://localhost:8080/"
        },
        "id": "v0PnTT-7dD2T",
        "outputId": "c24004dc-c1e8-498c-ed50-c58bbfd3c42a"
      },
      "execution_count": null,
      "outputs": [
        {
          "output_type": "execute_result",
          "data": {
            "text/plain": [
              "ID                                         0\n",
              "Nationality                                0\n",
              "Gender                                    14\n",
              "Date_of_Birth                              4\n",
              "Period                                     0\n",
              "Country_of_Residence                       0\n",
              "Ethnicity                             183500\n",
              "Residence_Department_pro                 508\n",
              "Residence_Area_pro                      2711\n",
              "University_Tuition_Fee_pro              2889\n",
              "Scholarship_Payment_pro                 2983\n",
              "Credit_Payment_pro                      2967\n",
              "Parent_Payment_pro                      2926\n",
              "Self_Payment_pro                        2991\n",
              "Father_Education_pro                    6716\n",
              "Mother_Education_pro                    7055\n",
              "Father_work_pro                        23805\n",
              "Mother_work_pro                        15555\n",
              "Housing_Stratum_pro                     9510\n",
              "Internet_Access_pro                     8555\n",
              "TV_Service_pro                          8612\n",
              "Computer_Access_pro                    15042\n",
              "Washing_Machine_Access_pro             15959\n",
              "Video_Game_Console_Access_pro          18222\n",
              "Shared_Bathroom_Count_pro               9836\n",
              "Car_Access_pro                         17867\n",
              "Weekly_Working_Hours_pro               10543\n",
              "Motorcycle_Access_pro                  18322\n",
              "Housing_Stratum                          412\n",
              "Internet_Access                          688\n",
              "Computer_Access                          688\n",
              "Washing_Machine_Access                   688\n",
              "Car_Access                               688\n",
              "Currently_Working                        719\n",
              "Global_Score_pro                           0\n",
              "Student_Ethnicity                     120171\n",
              "Institution_Academic_Character_pro         0\n",
              "Institution_Origin_pro                     0\n",
              "Group_Reference_pro                    75028\n",
              "Student_Program_Method_pro                 0\n",
              "Institution_Department_pro                 0\n",
              "dtype: int64"
            ]
          },
          "metadata": {},
          "execution_count": 47
        }
      ]
    },
    {
      "cell_type": "code",
      "source": [
        "# Replace missing values in 'Ethnicity' with 'Ninguno'\n",
        "thesis_data ['Ethnicity'].fillna('Ninguno', inplace=True)\n",
        "\n",
        "thesis_data.drop(columns=['Student_Ethnicity'], inplace=True)"
      ],
      "metadata": {
        "colab": {
          "base_uri": "https://localhost:8080/"
        },
        "id": "9DRtNuLadNTy",
        "outputId": "bcff5326-414c-4208-89e9-eda12e5766d5"
      },
      "execution_count": null,
      "outputs": [
        {
          "output_type": "stream",
          "name": "stderr",
          "text": [
            "<ipython-input-48-6d21cb6059d3>:2: SettingWithCopyWarning: \n",
            "A value is trying to be set on a copy of a slice from a DataFrame\n",
            "\n",
            "See the caveats in the documentation: https://pandas.pydata.org/pandas-docs/stable/user_guide/indexing.html#returning-a-view-versus-a-copy\n",
            "  thesis_data ['Ethnicity'].fillna('Ninguno', inplace=True)\n",
            "<ipython-input-48-6d21cb6059d3>:4: SettingWithCopyWarning: \n",
            "A value is trying to be set on a copy of a slice from a DataFrame\n",
            "\n",
            "See the caveats in the documentation: https://pandas.pydata.org/pandas-docs/stable/user_guide/indexing.html#returning-a-view-versus-a-copy\n",
            "  thesis_data.drop(columns=['Student_Ethnicity'], inplace=True)\n"
          ]
        }
      ]
    },
    {
      "cell_type": "code",
      "source": [
        "dropped_instances = thesis_data[thesis_data['Nationality'] != 'COLOMBIA']\n",
        "count_dropped = len(dropped_instances)\n",
        "# Keep only instances where Nationality is 'COLOMBIA'\n",
        "thesis_data = thesis_data[thesis_data['Nationality'] == 'COLOMBIA']\n",
        "print(\"Instances dropped:\", count_dropped)"
      ],
      "metadata": {
        "colab": {
          "base_uri": "https://localhost:8080/"
        },
        "id": "UA5ytobCds62",
        "outputId": "a5045bbb-d006-4ae6-c5ef-671f6ad7736c"
      },
      "execution_count": null,
      "outputs": [
        {
          "output_type": "stream",
          "name": "stdout",
          "text": [
            "Instances dropped: 128\n"
          ]
        }
      ]
    },
    {
      "cell_type": "code",
      "source": [
        "dropped_instances_residence = thesis_data[thesis_data['Country_of_Residence'] != 'COLOMBIA']\n",
        "count_dropped_residence = len(dropped_instances_residence)\n",
        "# Keep only instances where Nationality is 'COLOMBIA'\n",
        "thesis_data = thesis_data[thesis_data['Country_of_Residence'] == 'COLOMBIA']\n",
        "print(\"Instances dropped:\", count_dropped_residence)"
      ],
      "metadata": {
        "colab": {
          "base_uri": "https://localhost:8080/"
        },
        "id": "d-jhOmTqeZNz",
        "outputId": "17c3f286-3f2c-4c5b-87ee-f55da6e693f3"
      },
      "execution_count": null,
      "outputs": [
        {
          "output_type": "stream",
          "name": "stdout",
          "text": [
            "Instances dropped: 0\n"
          ]
        }
      ]
    },
    {
      "cell_type": "code",
      "source": [
        "# List of desired values/categories\n",
        "desired_categories = ['BOGOTÁ', 'ANTIOQUIA', 'VALLE', 'CUNDINAMARCA', 'ATLANTICO',\n",
        "                      'SANTANDER', 'BOLIVAR', 'NORTE SANTANDER', 'BOYACA', 'TOLIMA',\n",
        "                      'NARIÑO', 'CORDOBA', 'HUILA', 'META', 'CESAR', 'RISARALDA',\n",
        "                      'SUCRE', 'MAGDALENA', 'CALDAS', 'CAUCA', 'LA GUAJIRA',\n",
        "                      'QUINDIO', 'CASANARE', 'CAQUETA', 'CHOCO', 'PUTUMAYO',\n",
        "                      'ARAUCA', 'SAN ANDRES', 'GUAVIARE', 'VICHADA', 'AMAZONAS',\n",
        "                      'GUAINIA', 'VAUPES']\n",
        "filtered_data = thesis_data[thesis_data['Residence_Department_pro'].isin(desired_categories) | thesis_data['Residence_Department_pro'].isnull()]\n",
        "count_dropped = len(thesis_data) - len(filtered_data)\n",
        "thesis_data = filtered_data\n",
        "\n",
        "print(\"Instances dropped:\", count_dropped)"
      ],
      "metadata": {
        "colab": {
          "base_uri": "https://localhost:8080/"
        },
        "id": "6bd8Sjmvemfc",
        "outputId": "258251ae-8892-4cda-b6b3-606028672edc"
      },
      "execution_count": null,
      "outputs": [
        {
          "output_type": "stream",
          "name": "stdout",
          "text": [
            "Instances dropped: 58\n"
          ]
        }
      ]
    },
    {
      "cell_type": "code",
      "source": [
        "thesis_data.info()\n"
      ],
      "metadata": {
        "colab": {
          "base_uri": "https://localhost:8080/"
        },
        "id": "H9fggGZwf07-",
        "outputId": "25e14784-a126-4dc0-bf11-e1f26b2fe6a3"
      },
      "execution_count": null,
      "outputs": [
        {
          "output_type": "stream",
          "name": "stdout",
          "text": [
            "<class 'pandas.core.frame.DataFrame'>\n",
            "Index: 298813 entries, 34 to 298998\n",
            "Data columns (total 40 columns):\n",
            " #   Column                              Non-Null Count   Dtype \n",
            "---  ------                              --------------   ----- \n",
            " 0   ID                                  298813 non-null  object\n",
            " 1   Nationality                         298813 non-null  object\n",
            " 2   Gender                              298799 non-null  object\n",
            " 3   Date_of_Birth                       298809 non-null  object\n",
            " 4   Period                              298813 non-null  int64 \n",
            " 5   Country_of_Residence                298813 non-null  object\n",
            " 6   Ethnicity                           298813 non-null  object\n",
            " 7   Residence_Department_pro            298305 non-null  object\n",
            " 8   Residence_Area_pro                  296162 non-null  object\n",
            " 9   University_Tuition_Fee_pro          295984 non-null  object\n",
            " 10  Scholarship_Payment_pro             295890 non-null  object\n",
            " 11  Credit_Payment_pro                  295906 non-null  object\n",
            " 12  Parent_Payment_pro                  295947 non-null  object\n",
            " 13  Self_Payment_pro                    295882 non-null  object\n",
            " 14  Father_Education_pro                292102 non-null  object\n",
            " 15  Mother_Education_pro                291763 non-null  object\n",
            " 16  Father_work_pro                     275021 non-null  object\n",
            " 17  Mother_work_pro                     283266 non-null  object\n",
            " 18  Housing_Stratum_pro                 289313 non-null  object\n",
            " 19  Internet_Access_pro                 290264 non-null  object\n",
            " 20  TV_Service_pro                      290207 non-null  object\n",
            " 21  Computer_Access_pro                 283777 non-null  object\n",
            " 22  Washing_Machine_Access_pro          282860 non-null  object\n",
            " 23  Video_Game_Console_Access_pro       280599 non-null  object\n",
            " 24  Shared_Bathroom_Count_pro           288983 non-null  object\n",
            " 25  Car_Access_pro                      280952 non-null  object\n",
            " 26  Weekly_Working_Hours_pro            288277 non-null  object\n",
            " 27  Motorcycle_Access_pro               280500 non-null  object\n",
            " 28  Housing_Stratum                     298401 non-null  object\n",
            " 29  Internet_Access                     298125 non-null  object\n",
            " 30  Computer_Access                     298125 non-null  object\n",
            " 31  Washing_Machine_Access              298125 non-null  object\n",
            " 32  Car_Access                          298125 non-null  object\n",
            " 33  Currently_Working                   298094 non-null  object\n",
            " 34  Global_Score_pro                    298813 non-null  int64 \n",
            " 35  Institution_Academic_Character_pro  298813 non-null  object\n",
            " 36  Institution_Origin_pro              298813 non-null  object\n",
            " 37  Group_Reference_pro                 223831 non-null  object\n",
            " 38  Student_Program_Method_pro          298813 non-null  object\n",
            " 39  Institution_Department_pro          298813 non-null  object\n",
            "dtypes: int64(2), object(38)\n",
            "memory usage: 93.5+ MB\n"
          ]
        }
      ]
    },
    {
      "cell_type": "code",
      "source": [
        "class CustomSingleImputer(SingleImputer):\n",
        "    def __init__(self, *args, **kwargs):\n",
        "        kwargs.setdefault(\"strategy\", \"categorical\")\n",
        "        super().__init__(*args, **kwargs)\n",
        "        self.custom_state = {\n",
        "            \"strategy\": kwargs.get(\"strategy\"),\n",
        "            \"seed\": kwargs.get(\"seed\", None),\n",
        "        }\n",
        "\n",
        "variables_to_impute = thesis_data.select_dtypes(include='object').columns[thesis_data.select_dtypes(include='object').isnull().any()]\n",
        "single_imputer = CustomSingleImputer(strategy={var: 'categorical' for var in variables_to_impute}, seed=123)\n",
        "\n",
        "thesis_data = single_imputer.fit_transform(thesis_data)\n",
        "\n",
        "with open('imputer.pkl', 'wb') as f:\n",
        "    pickle.dump(single_imputer.custom_state, f)\n",
        "\n",
        "with open('imputer.pkl', 'rb') as f:\n",
        "    imputer_state_loaded = pickle.load(f)\n",
        "\n",
        "single_imputer_loaded = CustomSingleImputer(strategy=imputer_state_loaded['strategy'], seed=imputer_state_loaded['seed'])\n",
        "\n",
        "thesis_data_final = single_imputer_loaded.fit_transform(thesis_data)"
      ],
      "metadata": {
        "id": "yz8OA4Hiff1f"
      },
      "execution_count": null,
      "outputs": []
    },
    {
      "cell_type": "code",
      "source": [
        "from sklearn.model_selection import train_test_split\n",
        "\n",
        "# Perform initial train-test split\n",
        "train_data, test_data = train_test_split(thesis_data, test_size=0.2, stratify=thesis_data['Housing_Stratum'], random_state=42)\n",
        "\n",
        "# Further split the training data into train_data_final and validation_data\n",
        "train_data_final, validation_data = train_test_split(train_data, test_size=0.2, stratify=train_data['Housing_Stratum'], random_state=42)\n",
        "\n",
        "# Print the shapes to verify the split\n",
        "print(f\"train_data_final shape: {train_data_final.shape}, validation_data shape: {validation_data.shape}, test_data shape: {test_data.shape}\")"
      ],
      "metadata": {
        "id": "SfgzOi8865Bo",
        "colab": {
          "base_uri": "https://localhost:8080/"
        },
        "outputId": "40cd11db-130f-43ef-ee05-74223b423683"
      },
      "execution_count": null,
      "outputs": [
        {
          "output_type": "stream",
          "name": "stdout",
          "text": [
            "train_data_final shape: (191240, 40), validation_data shape: (47810, 40), test_data shape: (59763, 40)\n"
          ]
        }
      ]
    },
    {
      "cell_type": "code",
      "source": [
        "train_data_final.to_csv('/content/drive/MyDrive/Thesis Dataset/stratified_train.csv', index=False)\n",
        "validation_data.to_csv('/content/drive/MyDrive/Thesis Dataset/stratified_val.csv', index=False)\n",
        "test_data.to_csv('/content/drive/MyDrive/Thesis Dataset/stratified_test.csv', index=False)"
      ],
      "metadata": {
        "id": "BThMGYMOgwaJ"
      },
      "execution_count": null,
      "outputs": []
    },
    {
      "cell_type": "code",
      "source": [
        "train_data = pd.read_csv('/content/drive/MyDrive/Thesis Dataset/stratified_train.csv')\n",
        "validation_data = pd.read_csv('/content/drive/MyDrive/Thesis Dataset/stratified_val.csv')\n",
        "test_data = pd.read_csv('/content/drive/MyDrive/Thesis Dataset/stratified_test.csv')"
      ],
      "metadata": {
        "id": "LzPI82nphZl4"
      },
      "execution_count": null,
      "outputs": []
    },
    {
      "cell_type": "markdown",
      "source": [
        "Train Data Preprocessing"
      ],
      "metadata": {
        "id": "g6GyQQpGiHRR"
      }
    },
    {
      "cell_type": "code",
      "source": [
        "mapping = {\n",
        "    20212: datetime(2021, 7, 11),\n",
        "    20203: datetime(2020, 10, 18),\n",
        "    20195: datetime(2019, 10, 20),\n",
        "    20194: datetime(2019, 10, 20),\n",
        "    20213: datetime(2021, 7, 11),\n",
        "    20202: datetime(2020, 10, 18),\n",
        "    20196: datetime(2019, 10, 20)\n",
        "}\n",
        "\n",
        "train_data['Period'] = train_data['Period'].map(mapping)"
      ],
      "metadata": {
        "id": "Yn6oSJiKhj9Z"
      },
      "execution_count": null,
      "outputs": []
    },
    {
      "cell_type": "code",
      "source": [
        "from datetime import datetime\n",
        "train_data['Date_of_Birth'] = pd.to_datetime(train_data['Date_of_Birth'], format='%d/%m/%Y', errors='coerce')\n",
        "\n",
        "term_dates = {\n",
        "    '20194': datetime(2019, 10, 20),\n",
        "    '20196': datetime(2019, 10, 20),\n",
        "    '20195': datetime(2019, 10, 20),\n",
        "    '20203': datetime(2020, 10, 18),\n",
        "    '20202': datetime(2020, 10, 18),\n",
        "    '20212': datetime(2021, 7, 11),\n",
        "    '20213': datetime(2021, 7, 11)\n",
        "}\n",
        "\n",
        "def calculate_age(row):\n",
        "    today = term_dates.get(row['Period'], pd.to_datetime('today'))\n",
        "    return today.year - row['Date_of_Birth'].year - ((today.month, today.day) < (row['Date_of_Birth'].month, row['Date_of_Birth'].day))\n",
        "\n",
        "train_data['Age'] = train_data.apply(calculate_age, axis=1)"
      ],
      "metadata": {
        "id": "iSav0sgviOsb"
      },
      "execution_count": null,
      "outputs": []
    },
    {
      "cell_type": "code",
      "source": [
        "mean_age = train_data['Age'].describe()['mean']"
      ],
      "metadata": {
        "id": "k83C7fY9oSk-"
      },
      "execution_count": null,
      "outputs": []
    },
    {
      "cell_type": "code",
      "source": [
        "lower_bound = mean_age - 5\n",
        "upper_bound = mean_age + 5\n",
        "print(lower_bound, upper_bound)"
      ],
      "metadata": {
        "id": "Wa10Urbkj5Si",
        "colab": {
          "base_uri": "https://localhost:8080/"
        },
        "outputId": "1647cfbe-ae1d-4322-d603-439edd92fe18"
      },
      "execution_count": null,
      "outputs": [
        {
          "output_type": "stream",
          "name": "stdout",
          "text": [
            "20.396889954680386 30.396889954680386\n"
          ]
        }
      ]
    },
    {
      "cell_type": "code",
      "source": [
        "instances_above = sum(train_data['Age'] > upper_bound)\n",
        "instances_below = sum(train_data['Age'] < lower_bound)\n",
        "\n",
        "train_data = train_data[(train_data['Age'] >= lower_bound) & (train_data['Age'] <= upper_bound)]\n",
        "\n",
        "print(f\"Number of instances above upper bound: {instances_above}\")\n",
        "print(f\"Number of instances below lower bound: {instances_below}\")"
      ],
      "metadata": {
        "id": "S6Wwr-z1kLy9",
        "colab": {
          "base_uri": "https://localhost:8080/"
        },
        "outputId": "cbe32f0b-87ab-4d97-95ea-9ee71b45f664"
      },
      "execution_count": null,
      "outputs": [
        {
          "output_type": "stream",
          "name": "stdout",
          "text": [
            "Number of instances above upper bound: 1145\n",
            "Number of instances below lower bound: 52\n"
          ]
        }
      ]
    },
    {
      "cell_type": "code",
      "source": [
        "train_data.drop(['Period', 'Date_of_Birth'], axis=1, inplace=True)"
      ],
      "metadata": {
        "id": "OPDCshcNlQKw"
      },
      "execution_count": null,
      "outputs": []
    },
    {
      "cell_type": "code",
      "source": [
        "stratum_mapping = {\n",
        "    'Estrato 1': 1,\n",
        "    'Estrato 2': 2,\n",
        "    'Estrato 3': 3,\n",
        "    'Estrato 4': 4,\n",
        "    'Estrato 5': 5,\n",
        "    'Estrato 6': 6,\n",
        "    'Sin Estrato': 0\n",
        "}\n",
        "\n",
        "train_data['Housing_Stratum_pro_encode'] = train_data['Housing_Stratum_pro'].map(stratum_mapping)\n",
        "train_data['Housing_Stratum_encode'] = train_data['Housing_Stratum'].map(stratum_mapping)"
      ],
      "metadata": {
        "id": "eS3ki_L3mZ8X"
      },
      "execution_count": null,
      "outputs": []
    },
    {
      "cell_type": "code",
      "source": [
        "train_data = train_data[train_data['Housing_Stratum_pro_encode'] != 0]"
      ],
      "metadata": {
        "id": "OfhjcYoXmiAn"
      },
      "execution_count": null,
      "outputs": []
    },
    {
      "cell_type": "code",
      "source": [
        "train_data['Stratum_Change'] = 0\n",
        "\n",
        "train_data.loc[train_data['Housing_Stratum_encode'] < train_data['Housing_Stratum_pro_encode'], 'Stratum_Change'] = 1\n",
        "train_data.loc[train_data['Housing_Stratum_encode'] > train_data['Housing_Stratum_pro_encode'], 'Stratum_Change'] = 2\n",
        "\n",
        "train_data['Stratum_Change'].value_counts()"
      ],
      "metadata": {
        "colab": {
          "base_uri": "https://localhost:8080/"
        },
        "id": "2sYR1X8umz2X",
        "outputId": "bb823c3d-a521-4304-9312-5f4704e043e2"
      },
      "execution_count": null,
      "outputs": [
        {
          "output_type": "execute_result",
          "data": {
            "text/plain": [
              "Stratum_Change\n",
              "0    120977\n",
              "1     45333\n",
              "2     23012\n",
              "Name: count, dtype: int64"
            ]
          },
          "metadata": {},
          "execution_count": 65
        }
      ]
    },
    {
      "cell_type": "code",
      "source": [
        "train_data['Computer_Access_Change'] = 0\n",
        "\n",
        "train_data.loc[(train_data['Computer_Access'] == 'No') & (train_data['Computer_Access_pro'] == 'Si'), 'Computer_Access_Change'] = 1\n",
        "train_data.loc[(train_data['Computer_Access'] == 'Si') & (train_data['Computer_Access_pro'] == 'No'), 'Computer_Access_Change'] = 2\n",
        "\n",
        "\n",
        "train_data['Washing_Machine_Access_Change'] = 0\n",
        "\n",
        "train_data.loc[(train_data['Washing_Machine_Access'] == 'No') & (train_data['Washing_Machine_Access_pro'] == 'Si'), 'Washing_Machine_Access_Change'] = 1\n",
        "train_data.loc[(train_data['Washing_Machine_Access'] == 'Si') & (train_data['Washing_Machine_Access_pro'] == 'No'), 'Washing_Machine_Access_Change'] = 2\n",
        "\n",
        "\n",
        "train_data['Car_Access_Change'] = 0\n",
        "\n",
        "train_data.loc[(train_data['Car_Access'] == 'No') & (train_data['Car_Access_pro'] == 'Si'), 'Car_Access_Change'] = 1\n",
        "train_data.loc[(train_data['Car_Access'] == 'Si') & (train_data['Car_Access_pro'] == 'No'), 'Car_Access_Change'] = 2\n",
        "\n",
        "train_data['Internet_Access_Change'] = 0\n",
        "\n",
        "train_data.loc[(train_data['Internet_Access'] == 'No') & (train_data['Internet_Access_pro'] == 'Si'), 'Internet_Access_Change'] = 1\n",
        "train_data.loc[(train_data['Internet_Access'] == 'Si') & (train_data['Internet_Access_pro'] == 'No'), 'Internet_Access_Change'] = 2\n",
        "\n",
        "print(train_data['Computer_Access_Change'].value_counts())\n",
        "print(train_data['Washing_Machine_Access_Change'].value_counts())\n",
        "print(train_data['Car_Access_Change'].value_counts())\n",
        "print (train_data['Internet_Access_Change'].value_counts())"
      ],
      "metadata": {
        "colab": {
          "base_uri": "https://localhost:8080/"
        },
        "id": "chWIAfmOm_nk",
        "outputId": "c15fdd2c-197d-4209-e552-3d9deb1189bc"
      },
      "execution_count": null,
      "outputs": [
        {
          "output_type": "stream",
          "name": "stdout",
          "text": [
            "Computer_Access_Change\n",
            "0    154365\n",
            "1     26966\n",
            "2      7991\n",
            "Name: count, dtype: int64\n",
            "Washing_Machine_Access_Change\n",
            "0    153250\n",
            "1     22908\n",
            "2     13164\n",
            "Name: count, dtype: int64\n",
            "Car_Access_Change\n",
            "0    141723\n",
            "1     25577\n",
            "2     22022\n",
            "Name: count, dtype: int64\n",
            "Internet_Access_Change\n",
            "0    146987\n",
            "1     36720\n",
            "2      5615\n",
            "Name: count, dtype: int64\n"
          ]
        }
      ]
    },
    {
      "cell_type": "code",
      "source": [
        "weekly_working_hours_mapping = {\n",
        "    'Más de 30 horas': 'Si, 20 horas o más a la semana',\n",
        "    'Entre 21 y 30 horas': 'Si, 20 horas o más a la semana',\n",
        "    '0': 'No',\n",
        "    'Entre 11 y 20 horas': 'Si, menos de 20 horas a la semana',\n",
        "    'Menos de 10 horas': 'Si, menos de 20 horas a la semana'\n",
        "}\n",
        "\n",
        "train_data['Weekly_Working_Hours_pro'] = train_data['Weekly_Working_Hours_pro'].map(weekly_working_hours_mapping)\n",
        "\n",
        "currently_working_mapping = {\n",
        "    'No': 0,\n",
        "    'Si, menos de 20 horas a la semana': 1,\n",
        "    'Si, 20 horas o más a la semana': 2\n",
        "}\n",
        "\n",
        "weekly_working_hours_mapping = {\n",
        "    'No': 0,\n",
        "    'Si, menos de 20 horas a la semana': 1,\n",
        "    'Si, 20 horas o más a la semana': 2\n",
        "}\n",
        "\n",
        "train_data['Currently_Working'] = train_data['Currently_Working'].map(currently_working_mapping)\n",
        "train_data['Weekly_Working_Hours_pro'] = train_data['Weekly_Working_Hours_pro'].map(weekly_working_hours_mapping)\n",
        "\n",
        "train_data['Working_Hours_Change'] = 0\n",
        "\n",
        "train_data.loc[train_data['Currently_Working'] < train_data['Weekly_Working_Hours_pro'], 'Working_Hours_Change'] = 1\n",
        "train_data.loc[train_data['Currently_Working'] > train_data['Weekly_Working_Hours_pro'], 'Working_Hours_Change'] = 2\n",
        "\n",
        "print (train_data['Working_Hours_Change'].value_counts())"
      ],
      "metadata": {
        "colab": {
          "base_uri": "https://localhost:8080/"
        },
        "id": "ycL-IZpvncOF",
        "outputId": "b37efd8d-88aa-4844-a646-af7bf6f2c72b"
      },
      "execution_count": null,
      "outputs": [
        {
          "output_type": "stream",
          "name": "stdout",
          "text": [
            "Working_Hours_Change\n",
            "1    138509\n",
            "0     49000\n",
            "2      1813\n",
            "Name: count, dtype: int64\n"
          ]
        }
      ]
    },
    {
      "cell_type": "code",
      "source": [
        "# Drop the Saber 11 Columns columns\n",
        "train_data.drop(['Housing_Stratum_encode', 'Housing_Stratum_pro_encode', 'Housing_Stratum', 'Internet_Access', 'Computer_Access', 'Washing_Machine_Access', 'Car_Access', 'Currently_Working'], axis=1, inplace=True)"
      ],
      "metadata": {
        "id": "5nyOFXtdndve"
      },
      "execution_count": null,
      "outputs": []
    },
    {
      "cell_type": "code",
      "source": [
        "train_data.to_csv('/content/drive/MyDrive/Thesis Dataset/stratified_train_checkpoint.csv', index=False)"
      ],
      "metadata": {
        "id": "ac-94Nvtofsz"
      },
      "execution_count": null,
      "outputs": []
    },
    {
      "cell_type": "markdown",
      "source": [
        "Validation Data Preprocessing"
      ],
      "metadata": {
        "id": "qcjFTIHIp3Wf"
      }
    },
    {
      "cell_type": "code",
      "source": [
        "mapping = {\n",
        "    20212: datetime(2021, 7, 11),\n",
        "    20203: datetime(2020, 10, 18),\n",
        "    20195: datetime(2019, 10, 20),\n",
        "    20194: datetime(2019, 10, 20),\n",
        "    20213: datetime(2021, 7, 11),\n",
        "    20202: datetime(2020, 10, 18),\n",
        "    20196: datetime(2019, 10, 20)\n",
        "}\n",
        "\n",
        "validation_data['Period'] = validation_data['Period'].map(mapping)"
      ],
      "metadata": {
        "id": "1pjZD6vdpz2F"
      },
      "execution_count": null,
      "outputs": []
    },
    {
      "cell_type": "code",
      "source": [
        "from datetime import datetime\n",
        "validation_data['Date_of_Birth'] = pd.to_datetime(validation_data['Date_of_Birth'], format='%d/%m/%Y', errors='coerce')\n",
        "\n",
        "term_dates = {\n",
        "    '20194': datetime(2019, 10, 20),\n",
        "    '20196': datetime(2019, 10, 20),\n",
        "    '20195': datetime(2019, 10, 20),\n",
        "    '20203': datetime(2020, 10, 18),\n",
        "    '20202': datetime(2020, 10, 18),\n",
        "    '20212': datetime(2021, 7, 11),\n",
        "    '20213': datetime(2021, 7, 11)\n",
        "}\n",
        "\n",
        "def calculate_age(row):\n",
        "    today = term_dates.get(row['Period'], pd.to_datetime('today'))\n",
        "    return today.year - row['Date_of_Birth'].year - ((today.month, today.day) < (row['Date_of_Birth'].month, row['Date_of_Birth'].day))\n",
        "\n",
        "validation_data['Age'] = validation_data.apply(calculate_age, axis=1)"
      ],
      "metadata": {
        "id": "Ffl6Qt3WqNv2"
      },
      "execution_count": null,
      "outputs": []
    },
    {
      "cell_type": "code",
      "source": [
        "mean_age = validation_data['Age'].describe()['mean']"
      ],
      "metadata": {
        "id": "27vbBM-2qSPn"
      },
      "execution_count": null,
      "outputs": []
    },
    {
      "cell_type": "code",
      "source": [
        "lower_bound = mean_age - 5\n",
        "upper_bound = mean_age + 5\n",
        "print(lower_bound, upper_bound)"
      ],
      "metadata": {
        "id": "aRtdUAeurQ9f",
        "colab": {
          "base_uri": "https://localhost:8080/"
        },
        "outputId": "69d14bb6-7d3b-43dd-fea3-660a06a55d55"
      },
      "execution_count": null,
      "outputs": [
        {
          "output_type": "stream",
          "name": "stdout",
          "text": [
            "20.468740195360706 30.468740195360706\n"
          ]
        }
      ]
    },
    {
      "cell_type": "code",
      "source": [
        "instances_above = sum(validation_data['Age'] > upper_bound)\n",
        "instances_below = sum(validation_data['Age'] < lower_bound)\n",
        "\n",
        "validation_data = validation_data[(validation_data['Age'] >= lower_bound) & (validation_data['Age'] <= upper_bound)]\n",
        "\n",
        "print(f\"Number of instances above upper bound: {instances_above}\")\n",
        "print(f\"Number of instances below lower bound: {instances_below}\")"
      ],
      "metadata": {
        "id": "ps_rmbzuraIh",
        "colab": {
          "base_uri": "https://localhost:8080/"
        },
        "outputId": "84aa076d-d30b-4a09-e73c-781c5f8c55b2"
      },
      "execution_count": null,
      "outputs": [
        {
          "output_type": "stream",
          "name": "stdout",
          "text": [
            "Number of instances above upper bound: 310\n",
            "Number of instances below lower bound: 11\n"
          ]
        }
      ]
    },
    {
      "cell_type": "code",
      "source": [
        "validation_data.drop(['Period', 'Date_of_Birth'], axis=1, inplace=True)"
      ],
      "metadata": {
        "id": "L9R1-SXdrfux"
      },
      "execution_count": null,
      "outputs": []
    },
    {
      "cell_type": "code",
      "source": [
        "stratum_mapping = {\n",
        "    'Estrato 1': 1,\n",
        "    'Estrato 2': 2,\n",
        "    'Estrato 3': 3,\n",
        "    'Estrato 4': 4,\n",
        "    'Estrato 5': 5,\n",
        "    'Estrato 6': 6,\n",
        "    'Sin Estrato': 0\n",
        "}\n",
        "\n",
        "validation_data['Housing_Stratum_pro_encode'] = validation_data['Housing_Stratum_pro'].map(stratum_mapping)\n",
        "validation_data['Housing_Stratum_encode'] = validation_data['Housing_Stratum'].map(stratum_mapping)"
      ],
      "metadata": {
        "id": "z18kRchCrltI"
      },
      "execution_count": null,
      "outputs": []
    },
    {
      "cell_type": "code",
      "source": [
        "validation_data = validation_data[validation_data['Housing_Stratum_pro_encode'] != 0]"
      ],
      "metadata": {
        "id": "uh3wgBqCryLi"
      },
      "execution_count": null,
      "outputs": []
    },
    {
      "cell_type": "code",
      "source": [
        "validation_data['Stratum_Change'] = 0\n",
        "\n",
        "validation_data.loc[validation_data['Housing_Stratum_encode'] < validation_data['Housing_Stratum_pro_encode'], 'Stratum_Change'] = 1\n",
        "validation_data.loc[validation_data['Housing_Stratum_encode'] > validation_data['Housing_Stratum_pro_encode'], 'Stratum_Change'] = 2\n",
        "\n",
        "validation_data['Stratum_Change'].value_counts()"
      ],
      "metadata": {
        "id": "mNg82v_Qr28A",
        "colab": {
          "base_uri": "https://localhost:8080/"
        },
        "outputId": "583abc0b-9e5a-4996-d991-0b4766bad49f"
      },
      "execution_count": null,
      "outputs": [
        {
          "output_type": "execute_result",
          "data": {
            "text/plain": [
              "Stratum_Change\n",
              "0    30279\n",
              "1    11374\n",
              "2     5689\n",
              "Name: count, dtype: int64"
            ]
          },
          "metadata": {},
          "execution_count": 78
        }
      ]
    },
    {
      "cell_type": "code",
      "source": [
        "validation_data['Computer_Access_Change'] = 0\n",
        "\n",
        "validation_data.loc[(validation_data['Computer_Access'] == 'No') & (validation_data['Computer_Access_pro'] == 'Si'), 'Computer_Access_Change'] = 1\n",
        "validation_data.loc[(validation_data['Computer_Access'] == 'Si') & (validation_data['Computer_Access_pro'] == 'No'), 'Computer_Access_Change'] = 2\n",
        "\n",
        "\n",
        "validation_data['Washing_Machine_Access_Change'] = 0\n",
        "\n",
        "validation_data.loc[(validation_data['Washing_Machine_Access'] == 'No') & (validation_data['Washing_Machine_Access_pro'] == 'Si'), 'Washing_Machine_Access_Change'] = 1\n",
        "validation_data.loc[(validation_data['Washing_Machine_Access'] == 'Si') & (validation_data['Washing_Machine_Access_pro'] == 'No'), 'Washing_Machine_Access_Change'] = 2\n",
        "\n",
        "\n",
        "validation_data['Car_Access_Change'] = 0\n",
        "\n",
        "validation_data.loc[(validation_data['Car_Access'] == 'No') & (validation_data['Car_Access_pro'] == 'Si'), 'Car_Access_Change'] = 1\n",
        "validation_data.loc[(validation_data['Car_Access'] == 'Si') & (validation_data['Car_Access_pro'] == 'No'), 'Car_Access_Change'] = 2\n",
        "\n",
        "validation_data['Internet_Access_Change'] = 0\n",
        "\n",
        "validation_data.loc[(validation_data['Internet_Access'] == 'No') & (validation_data['Internet_Access_pro'] == 'Si'), 'Internet_Access_Change'] = 1\n",
        "validation_data.loc[(validation_data['Internet_Access'] == 'Si') & (validation_data['Internet_Access_pro'] == 'No'), 'Internet_Access_Change'] = 2\n",
        "\n",
        "print(validation_data['Computer_Access_Change'].value_counts())\n",
        "print(validation_data['Washing_Machine_Access_Change'].value_counts())\n",
        "print(validation_data['Car_Access_Change'].value_counts())\n",
        "print (validation_data['Internet_Access_Change'].value_counts())"
      ],
      "metadata": {
        "id": "pymQPHYGr8pJ",
        "colab": {
          "base_uri": "https://localhost:8080/"
        },
        "outputId": "7f19a9c2-2106-4171-fe18-aa8ff61d54a7"
      },
      "execution_count": null,
      "outputs": [
        {
          "output_type": "stream",
          "name": "stdout",
          "text": [
            "Computer_Access_Change\n",
            "0    38519\n",
            "1     6841\n",
            "2     1982\n",
            "Name: count, dtype: int64\n",
            "Washing_Machine_Access_Change\n",
            "0    38235\n",
            "1     5921\n",
            "2     3186\n",
            "Name: count, dtype: int64\n",
            "Car_Access_Change\n",
            "0    35344\n",
            "1     6534\n",
            "2     5464\n",
            "Name: count, dtype: int64\n",
            "Internet_Access_Change\n",
            "0    36718\n",
            "1     9209\n",
            "2     1415\n",
            "Name: count, dtype: int64\n"
          ]
        }
      ]
    },
    {
      "cell_type": "code",
      "source": [
        "weekly_working_hours_mapping = {\n",
        "    'Más de 30 horas': 'Si, 20 horas o más a la semana',\n",
        "    'Entre 21 y 30 horas': 'Si, 20 horas o más a la semana',\n",
        "    '0': 'No',\n",
        "    'Entre 11 y 20 horas': 'Si, menos de 20 horas a la semana',\n",
        "    'Menos de 10 horas': 'Si, menos de 20 horas a la semana'\n",
        "}\n",
        "\n",
        "validation_data['Weekly_Working_Hours_pro'] = validation_data['Weekly_Working_Hours_pro'].map(weekly_working_hours_mapping)\n",
        "\n",
        "currently_working_mapping = {\n",
        "    'No': 0,\n",
        "    'Si, menos de 20 horas a la semana': 1,\n",
        "    'Si, 20 horas o más a la semana': 2\n",
        "}\n",
        "\n",
        "weekly_working_hours_mapping = {\n",
        "    'No': 0,\n",
        "    'Si, menos de 20 horas a la semana': 1,\n",
        "    'Si, 20 horas o más a la semana': 2\n",
        "}\n",
        "\n",
        "validation_data['Currently_Working'] = validation_data['Currently_Working'].map(currently_working_mapping)\n",
        "validation_data['Weekly_Working_Hours_pro'] = validation_data['Weekly_Working_Hours_pro'].map(weekly_working_hours_mapping)\n",
        "\n",
        "validation_data['Working_Hours_Change'] = 0\n",
        "\n",
        "validation_data.loc[validation_data['Currently_Working'] < validation_data['Weekly_Working_Hours_pro'], 'Working_Hours_Change'] = 1\n",
        "validation_data.loc[validation_data['Currently_Working'] > validation_data['Weekly_Working_Hours_pro'], 'Working_Hours_Change'] = 2\n",
        "\n",
        "print (validation_data['Working_Hours_Change'].value_counts())"
      ],
      "metadata": {
        "id": "bVzIXzh-sOlE",
        "colab": {
          "base_uri": "https://localhost:8080/"
        },
        "outputId": "036f9c20-417b-425e-b385-0909862a8c15"
      },
      "execution_count": null,
      "outputs": [
        {
          "output_type": "stream",
          "name": "stdout",
          "text": [
            "Working_Hours_Change\n",
            "1    34734\n",
            "0    12161\n",
            "2      447\n",
            "Name: count, dtype: int64\n"
          ]
        }
      ]
    },
    {
      "cell_type": "code",
      "source": [
        "# Drop the Saber 11 Columns columns\n",
        "validation_data.drop(['Housing_Stratum_encode', 'Housing_Stratum_pro_encode', 'Housing_Stratum', 'Internet_Access', 'Computer_Access', 'Washing_Machine_Access', 'Car_Access', 'Currently_Working'], axis=1, inplace=True)"
      ],
      "metadata": {
        "id": "GrXjeOL0xXab"
      },
      "execution_count": null,
      "outputs": []
    },
    {
      "cell_type": "code",
      "source": [
        "validation_data.to_csv('/content/drive/MyDrive/Thesis Dataset/stratified_val_checkpoint.csv', index=False)"
      ],
      "metadata": {
        "id": "-Ug_y5rTxM70"
      },
      "execution_count": null,
      "outputs": []
    },
    {
      "cell_type": "markdown",
      "source": [
        "Test set Preprocessing"
      ],
      "metadata": {
        "id": "QJ0k8GSuxtN0"
      }
    },
    {
      "cell_type": "code",
      "source": [
        "mapping = {\n",
        "    20212: datetime(2021, 7, 11),\n",
        "    20203: datetime(2020, 10, 18),\n",
        "    20195: datetime(2019, 10, 20),\n",
        "    20194: datetime(2019, 10, 20),\n",
        "    20213: datetime(2021, 7, 11),\n",
        "    20202: datetime(2020, 10, 18),\n",
        "    20196: datetime(2019, 10, 20)\n",
        "}\n",
        "\n",
        "\n",
        "test_data['Period'] = test_data['Period'].map(mapping)"
      ],
      "metadata": {
        "id": "rsDrAb-Kx1ev"
      },
      "execution_count": null,
      "outputs": []
    },
    {
      "cell_type": "code",
      "source": [
        "test_data['Date_of_Birth'] = pd.to_datetime(test_data['Date_of_Birth'], format='%d/%m/%Y', errors='coerce')\n",
        "\n",
        "term_dates = {\n",
        "    '20194': datetime(2019, 10, 20),\n",
        "    '20196': datetime(2019, 10, 20),\n",
        "    '20195': datetime(2019, 10, 20),\n",
        "    '20203': datetime(2020, 10, 18),\n",
        "    '20202': datetime(2020, 10, 18),\n",
        "    '20212': datetime(2021, 7, 11),\n",
        "    '20213': datetime(2021, 7, 11)\n",
        "}\n",
        "\n",
        "def calculate_age(row):\n",
        "    today = term_dates.get(row['Period'], pd.to_datetime('today'))\n",
        "    return today.year - row['Date_of_Birth'].year - ((today.month, today.day) < (row['Date_of_Birth'].month, row['Date_of_Birth'].day))\n",
        "\n",
        "test_data['Age'] = test_data.apply(calculate_age, axis=1)"
      ],
      "metadata": {
        "id": "Alv-H9JfyBMr"
      },
      "execution_count": null,
      "outputs": []
    },
    {
      "cell_type": "code",
      "source": [
        "test_data.drop(['Period', 'Date_of_Birth'], axis=1, inplace=True)"
      ],
      "metadata": {
        "id": "2ALlvuDL1Hkg"
      },
      "execution_count": null,
      "outputs": []
    },
    {
      "cell_type": "code",
      "source": [
        "test_data = test_data[(test_data['Age'] >= lower_bound) & (test_data['Age'] <= upper_bound)]"
      ],
      "metadata": {
        "id": "-bMtbO3vyIen"
      },
      "execution_count": null,
      "outputs": []
    },
    {
      "cell_type": "code",
      "source": [
        "stratum_mapping = {\n",
        "    'Estrato 1': 1,\n",
        "    'Estrato 2': 2,\n",
        "    'Estrato 3': 3,\n",
        "    'Estrato 4': 4,\n",
        "    'Estrato 5': 5,\n",
        "    'Estrato 6': 6,\n",
        "    'Sin Estrato': 0\n",
        "}\n",
        "\n",
        "test_data['Housing_Stratum_pro_encode'] = test_data['Housing_Stratum_pro'].map(stratum_mapping)\n",
        "test_data['Housing_Stratum_encode'] = test_data['Housing_Stratum'].map(stratum_mapping)"
      ],
      "metadata": {
        "id": "Y2xs8mO0y50T"
      },
      "execution_count": null,
      "outputs": []
    },
    {
      "cell_type": "code",
      "source": [
        "test_data = test_data[test_data['Housing_Stratum_pro_encode'] != 0]"
      ],
      "metadata": {
        "id": "LcHn4MZazQOT"
      },
      "execution_count": null,
      "outputs": []
    },
    {
      "cell_type": "code",
      "source": [
        "test_data['Stratum_Change'] = 0\n",
        "\n",
        "test_data.loc[test_data['Housing_Stratum_encode'] < test_data['Housing_Stratum_pro_encode'], 'Stratum_Change'] = 1\n",
        "test_data.loc[test_data['Housing_Stratum_encode'] > test_data['Housing_Stratum_pro_encode'], 'Stratum_Change'] = 2\n",
        "\n",
        "test_data['Stratum_Change'].value_counts()"
      ],
      "metadata": {
        "colab": {
          "base_uri": "https://localhost:8080/"
        },
        "id": "v-HJmyhyzVzh",
        "outputId": "16363776-36d9-4098-ef30-501ffefa8226"
      },
      "execution_count": null,
      "outputs": [
        {
          "output_type": "execute_result",
          "data": {
            "text/plain": [
              "Stratum_Change\n",
              "0    37856\n",
              "1    14042\n",
              "2     7246\n",
              "Name: count, dtype: int64"
            ]
          },
          "metadata": {},
          "execution_count": 93
        }
      ]
    },
    {
      "cell_type": "code",
      "source": [
        "test_data['Computer_Access_Change'] = 0\n",
        "\n",
        "test_data.loc[(test_data['Computer_Access'] == 'No') & (test_data['Computer_Access_pro'] == 'Si'), 'Computer_Access_Change'] = 1\n",
        "test_data.loc[(test_data['Computer_Access'] == 'Si') & (test_data['Computer_Access_pro'] == 'No'), 'Computer_Access_Change'] = 2\n",
        "\n",
        "\n",
        "test_data['Washing_Machine_Access_Change'] = 0\n",
        "\n",
        "test_data.loc[(test_data['Washing_Machine_Access'] == 'No') & (test_data['Washing_Machine_Access_pro'] == 'Si'), 'Washing_Machine_Access_Change'] = 1\n",
        "test_data.loc[(test_data['Washing_Machine_Access'] == 'Si') & (test_data['Washing_Machine_Access_pro'] == 'No'), 'Washing_Machine_Access_Change'] = 2\n",
        "\n",
        "\n",
        "test_data['Car_Access_Change'] = 0\n",
        "\n",
        "test_data.loc[(test_data['Car_Access'] == 'No') & (test_data['Car_Access_pro'] == 'Si'), 'Car_Access_Change'] = 1\n",
        "test_data.loc[(test_data['Car_Access'] == 'Si') & (test_data['Car_Access_pro'] == 'No'), 'Car_Access_Change'] = 2\n",
        "\n",
        "test_data['Internet_Access_Change'] = 0\n",
        "\n",
        "test_data.loc[(test_data['Internet_Access'] == 'No') & (test_data['Internet_Access_pro'] == 'Si'), 'Internet_Access_Change'] = 1\n",
        "test_data.loc[(test_data['Internet_Access'] == 'Si') & (test_data['Internet_Access_pro'] == 'No'), 'Internet_Access_Change'] = 2\n",
        "\n",
        "print(test_data['Computer_Access_Change'].value_counts())\n",
        "print(test_data['Washing_Machine_Access_Change'].value_counts())\n",
        "print(test_data['Car_Access_Change'].value_counts())\n",
        "print (test_data['Internet_Access_Change'].value_counts())"
      ],
      "metadata": {
        "colab": {
          "base_uri": "https://localhost:8080/"
        },
        "id": "rAmVDgjOzaxL",
        "outputId": "54ab7c4e-cd78-4ab8-cbfb-22c46510f26b"
      },
      "execution_count": null,
      "outputs": [
        {
          "output_type": "stream",
          "name": "stdout",
          "text": [
            "Computer_Access_Change\n",
            "0    48248\n",
            "1     8405\n",
            "2     2491\n",
            "Name: count, dtype: int64\n",
            "Washing_Machine_Access_Change\n",
            "0    47968\n",
            "1     7190\n",
            "2     3986\n",
            "Name: count, dtype: int64\n",
            "Car_Access_Change\n",
            "0    44376\n",
            "1     7935\n",
            "2     6833\n",
            "Name: count, dtype: int64\n",
            "Internet_Access_Change\n",
            "0    45728\n",
            "1    11537\n",
            "2     1879\n",
            "Name: count, dtype: int64\n"
          ]
        }
      ]
    },
    {
      "cell_type": "code",
      "source": [
        "weekly_working_hours_mapping = {\n",
        "    'Más de 30 horas': 'Si, 20 horas o más a la semana',\n",
        "    'Entre 21 y 30 horas': 'Si, 20 horas o más a la semana',\n",
        "    '0': 'No',\n",
        "    'Entre 11 y 20 horas': 'Si, menos de 20 horas a la semana',\n",
        "    'Menos de 10 horas': 'Si, menos de 20 horas a la semana'\n",
        "}\n",
        "\n",
        "test_data['Weekly_Working_Hours_pro'] = test_data['Weekly_Working_Hours_pro'].map(weekly_working_hours_mapping)\n",
        "\n",
        "currently_working_mapping = {\n",
        "    'No': 0,\n",
        "    'Si, menos de 20 horas a la semana': 1,\n",
        "    'Si, 20 horas o más a la semana': 2\n",
        "}\n",
        "\n",
        "weekly_working_hours_mapping = {\n",
        "    'No': 0,\n",
        "    'Si, menos de 20 horas a la semana': 1,\n",
        "    'Si, 20 horas o más a la semana': 2\n",
        "}\n",
        "\n",
        "test_data['Currently_Working'] = test_data['Currently_Working'].map(currently_working_mapping)\n",
        "test_data['Weekly_Working_Hours_pro'] = test_data['Weekly_Working_Hours_pro'].map(weekly_working_hours_mapping)\n",
        "\n",
        "test_data['Working_Hours_Change'] = 0\n",
        "\n",
        "test_data.loc[test_data['Currently_Working'] < test_data['Weekly_Working_Hours_pro'], 'Working_Hours_Change'] = 1\n",
        "test_data.loc[test_data['Currently_Working'] > test_data['Weekly_Working_Hours_pro'], 'Working_Hours_Change'] = 2\n",
        "\n",
        "print (test_data['Working_Hours_Change'].value_counts())"
      ],
      "metadata": {
        "colab": {
          "base_uri": "https://localhost:8080/"
        },
        "id": "7IDufk6azgZn",
        "outputId": "b2b13243-42d4-4985-81c0-8d19d109ee54"
      },
      "execution_count": null,
      "outputs": [
        {
          "output_type": "stream",
          "name": "stdout",
          "text": [
            "Working_Hours_Change\n",
            "1    43394\n",
            "0    15216\n",
            "2      534\n",
            "Name: count, dtype: int64\n"
          ]
        }
      ]
    },
    {
      "cell_type": "code",
      "source": [
        "# Drop the Saber 11 Columns columns\n",
        "test_data.drop(['Housing_Stratum_encode', 'Housing_Stratum_pro_encode', 'Housing_Stratum', 'Internet_Access', 'Computer_Access', 'Washing_Machine_Access', 'Car_Access', 'Currently_Working'], axis=1, inplace=True)"
      ],
      "metadata": {
        "id": "XSXuU_XLznde"
      },
      "execution_count": null,
      "outputs": []
    },
    {
      "cell_type": "code",
      "source": [
        "test_data.to_csv('/content/drive/MyDrive/Thesis Dataset/stratified_test_checkpoint.csv', index=False)"
      ],
      "metadata": {
        "id": "0r18MUmP07-v"
      },
      "execution_count": null,
      "outputs": []
    },
    {
      "cell_type": "markdown",
      "source": [
        "Encoding"
      ],
      "metadata": {
        "id": "6R5yQVVa1YJz"
      }
    },
    {
      "cell_type": "markdown",
      "source": [
        "One Hot Encoding"
      ],
      "metadata": {
        "id": "afozc9dU2K5s"
      }
    },
    {
      "cell_type": "code",
      "source": [
        "train_data = pd.read_csv('/content/drive/MyDrive/Thesis Dataset/stratified_train_checkpoint.csv')\n",
        "validation_data = pd.read_csv('/content/drive/MyDrive/Thesis Dataset/stratified_val_checkpoint.csv')\n",
        "test_data = pd.read_csv('/content/drive/MyDrive/Thesis Dataset/stratified_test_checkpoint.csv')"
      ],
      "metadata": {
        "id": "BBp-yRiF2Tio"
      },
      "execution_count": null,
      "outputs": []
    },
    {
      "cell_type": "markdown",
      "source": [],
      "metadata": {
        "id": "43CG2UtLntxk"
      }
    },
    {
      "cell_type": "code",
      "source": [
        "columns_to_encode = [col for col in train_data.columns if col not in ['ID', 'Age', 'Global_Score_pro']]\n",
        "\n",
        "column_transformer_oh = ColumnTransformer(\n",
        "    [('one_hot_encoder', OneHotEncoder(handle_unknown='ignore', drop=None), columns_to_encode)],\n",
        "    remainder='passthrough'\n",
        ")\n",
        "\n",
        "encoded_training_oh = column_transformer_oh.fit_transform(train_data.drop(columns=['ID', 'Age', 'Global_Score_pro']))\n",
        "feature_names_encoded = list(column_transformer_oh.get_feature_names_out(input_features=columns_to_encode))\n",
        "dense_matrix = encoded_training_oh.toarray()\n",
        "\n",
        "encoded_training_df = pd.DataFrame(dense_matrix, columns=feature_names_encoded)\n",
        "\n",
        "final_training_df = pd.concat([train_data[['ID', 'Age', 'Global_Score_pro']], encoded_training_df], axis=1)\n",
        "\n",
        "encoder_state = {\n",
        "    'categories': column_transformer_oh.named_transformers_['one_hot_encoder'].categories_,\n",
        "    'drop': None,\n",
        "    'sparse_output': False,\n",
        "    'dtype': np.float64\n",
        "}"
      ],
      "metadata": {
        "id": "zNy9XFXM1Z5j"
      },
      "execution_count": null,
      "outputs": []
    },
    {
      "cell_type": "code",
      "source": [
        "columns_to_encode = [col for col in validation_data.columns if col not in ['ID', 'Age', 'Global_Score_pro']]\n",
        "\n",
        "column_transformer_oh = ColumnTransformer(\n",
        "    [('one_hot_encoder', OneHotEncoder(drop=None), columns_to_encode)],\n",
        "    remainder='passthrough'\n",
        ")\n",
        "\n",
        "encoded_validation_oh = column_transformer_oh.fit_transform(validation_data.drop(columns=['ID', 'Age', 'Global_Score_pro']))\n",
        "feature_names_encoded = list(column_transformer_oh.get_feature_names_out(input_features=columns_to_encode))\n",
        "dense_matrix = encoded_validation_oh.toarray()\n",
        "\n",
        "encoded_validation_df = pd.DataFrame(dense_matrix, columns=feature_names_encoded)\n",
        "final_validation_df = pd.concat([validation_data[['ID', 'Age', 'Global_Score_pro']], encoded_validation_df], axis=1)\n",
        "training_columns = set(final_training_df.columns)\n",
        "validation_columns = set(final_validation_df.columns)\n",
        "missing_in_validation = training_columns - validation_columns\n",
        "\n",
        "for col in missing_in_validation:\n",
        "    final_validation_df[col] = 0\n",
        "\n",
        "final_validation_df = final_validation_df[final_training_df.columns]\n",
        "print(\"Shape of final validation DataFrame:\", final_validation_df.shape)"
      ],
      "metadata": {
        "colab": {
          "base_uri": "https://localhost:8080/"
        },
        "id": "MMfqkpwB3E4h",
        "outputId": "0055e7d6-5f5a-4e04-cce7-26c66d70d710"
      },
      "execution_count": null,
      "outputs": [
        {
          "output_type": "stream",
          "name": "stdout",
          "text": [
            "Shape of final validation DataFrame: (47342, 235)\n"
          ]
        }
      ]
    },
    {
      "cell_type": "code",
      "source": [
        "columns_to_encode_test = [col for col in test_data.columns if col not in ['ID', 'Age', 'Global_Score_pro']]\n",
        "\n",
        "columns_to_encode_test = [col for col in columns_to_encode_test if col in columns_to_encode]\n",
        "\n",
        "encoded_test_oh = column_transformer_oh.transform(test_data[columns_to_encode_test])\n",
        "\n",
        "feature_names_encoded = list(column_transformer_oh.get_feature_names_out(input_features=columns_to_encode_test))\n",
        "\n",
        "dense_matrix_test = encoded_test_oh.toarray()\n",
        "\n",
        "encoded_test_df = pd.DataFrame(dense_matrix_test, columns=feature_names_encoded)\n",
        "\n",
        "final_test_df = pd.concat([test_data[['ID', 'Age', 'Global_Score_pro']], encoded_test_df], axis=1)\n",
        "\n",
        "encoded_test_df = final_test_df[final_training_df.columns]\n",
        "\n",
        "print(\"Shape of final test DataFrame:\", final_test_df.shape)"
      ],
      "metadata": {
        "colab": {
          "base_uri": "https://localhost:8080/"
        },
        "id": "vB-NA4yD3o9b",
        "outputId": "73843062-c86c-416c-bc2d-906161f1048b"
      },
      "execution_count": null,
      "outputs": [
        {
          "output_type": "stream",
          "name": "stdout",
          "text": [
            "Shape of final test DataFrame: (59144, 235)\n"
          ]
        }
      ]
    },
    {
      "cell_type": "code",
      "source": [
        "final_training_df.to_csv('/content/drive/MyDrive/Thesis Dataset/stratified_train_oh.csv', index=False)\n",
        "final_validation_df.to_csv('/content/drive/MyDrive/Thesis Dataset/stratified_val_oh.csv', index=False)\n",
        "final_test_df.to_csv('/content/drive/MyDrive/Thesis Dataset/stratified_test_oh.csv', index=False)"
      ],
      "metadata": {
        "id": "fdALLkHF6hkl"
      },
      "execution_count": null,
      "outputs": []
    },
    {
      "cell_type": "markdown",
      "source": [
        "Leave One Out Encoding"
      ],
      "metadata": {
        "id": "G0uxwOLR7Ta0"
      }
    },
    {
      "cell_type": "code",
      "source": [
        "train_data = pd.read_csv('/content/drive/MyDrive/Thesis Dataset/stratified_train_checkpoint.csv')\n",
        "validation_data = pd.read_csv('/content/drive/MyDrive/Thesis Dataset/stratified_val_checkpoint.csv')\n",
        "test_data = pd.read_csv('/content/drive/MyDrive/Thesis Dataset/stratified_test_checkpoint.csv')"
      ],
      "metadata": {
        "id": "5K4sifQL87jg"
      },
      "execution_count": null,
      "outputs": []
    },
    {
      "cell_type": "code",
      "source": [
        "X_train = train_data\n",
        "X_valid = validation_data\n",
        "X_test = test_data\n",
        "\n",
        "\n",
        "y_train = X_train['Global_Score_pro']\n",
        "\n",
        "categorical_columns = [col for col in X_train.columns if col not in ['ID', 'Global_Score_pro', 'Age']]\n",
        "\n",
        "cat_encoder = LeaveOneOutEncoder()\n",
        "\n",
        "cat_encoder.fit(X_train[categorical_columns], y_train)\n",
        "\n",
        "X_train_encoded = X_train.copy()\n",
        "X_train_encoded[categorical_columns] = cat_encoder.transform(X_train[categorical_columns])\n",
        "\n",
        "X_valid_encoded = X_valid.copy()\n",
        "X_valid_encoded[categorical_columns] = cat_encoder.transform(X_valid[categorical_columns])\n",
        "\n",
        "X_test_encoded = X_test.copy()\n",
        "X_test_encoded[categorical_columns] = cat_encoder.transform(X_test[categorical_columns])"
      ],
      "metadata": {
        "id": "Yc0ZLne56yDk"
      },
      "execution_count": null,
      "outputs": []
    },
    {
      "cell_type": "code",
      "source": [
        "X_train_encoded.to_csv(\"/content/drive/MyDrive/Thesis Dataset/stratified_train_OLeave.csv\", index=False)\n",
        "X_valid_encoded.to_csv(\"/content/drive/MyDrive/Thesis Dataset/stratified_valid_OLeave.csv\", index=False)\n",
        "X_test_encoded.to_csv(\"/content/drive/MyDrive/Thesis Dataset/stratified_test_OLeave.csv\", index=False)\n"
      ],
      "metadata": {
        "id": "2XP1N9Ln96ut"
      },
      "execution_count": null,
      "outputs": []
    },
    {
      "cell_type": "markdown",
      "source": [
        "Label Encoding"
      ],
      "metadata": {
        "id": "d_-vLgak-VoF"
      }
    },
    {
      "cell_type": "code",
      "source": [
        "train_data = pd.read_csv('/content/drive/MyDrive/Thesis Dataset/stratified_train_checkpoint.csv')\n",
        "validation_data = pd.read_csv('/content/drive/MyDrive/Thesis Dataset/stratified_val_checkpoint.csv')\n",
        "test_data = pd.read_csv('/content/drive/MyDrive/Thesis Dataset/stratified_test_checkpoint.csv')"
      ],
      "metadata": {
        "id": "2FPRwIJS-YhC"
      },
      "execution_count": null,
      "outputs": []
    },
    {
      "cell_type": "code",
      "source": [
        "X_train_label = train_data\n",
        "X_valid_label = validation_data\n",
        "X_test_label = test_data\n",
        "\n",
        "y_train_label = X_train_label['Global_Score_pro']\n",
        "\n",
        "categorical_columns = [col for col in X_train_label.columns if col not in ['ID', 'Global_Score_pro', 'Age']]\n",
        "\n",
        "label_encoder = LabelEncoder()\n",
        "\n",
        "for col in categorical_columns:\n",
        "    X_train_label[col] = label_encoder.fit_transform(X_train_label[col])\n",
        "    X_valid_label[col] = label_encoder.transform(X_valid_label[col])\n",
        "    X_test_label[col] = label_encoder.transform(X_test_label[col])\n",
        "\n",
        "\n",
        "print(\"Encoded Training Data:\")\n",
        "print(X_train_label.head())\n",
        "print(\"\\nEncoded Validation Data:\")\n",
        "print(X_valid_label.head())\n",
        "print(\"\\nEncoded Test Data:\")\n",
        "print(X_test_label.head())"
      ],
      "metadata": {
        "colab": {
          "base_uri": "https://localhost:8080/"
        },
        "collapsed": true,
        "id": "8vZhjsk2-jFZ",
        "outputId": "e3aaf9f2-6150-4c70-e748-e337cf7d13be"
      },
      "execution_count": null,
      "outputs": [
        {
          "output_type": "stream",
          "name": "stdout",
          "text": [
            "Encoded Training Data:\n",
            "               ID  Nationality  Gender  Country_of_Residence  Ethnicity  \\\n",
            "0  EK202120199967            0       1                     0          9   \n",
            "1  EK202120152152            0       1                     0          9   \n",
            "2  EK202030121757            0       0                     0          9   \n",
            "3  EK202030084451            0       1                     0          9   \n",
            "4  EK202120224897            0       1                     0          9   \n",
            "\n",
            "   Residence_Department_pro  Residence_Area_pro  University_Tuition_Fee_pro  \\\n",
            "0                         4                   1                           2   \n",
            "1                         1                   1                           3   \n",
            "2                         4                   1                           6   \n",
            "3                         4                   1                           1   \n",
            "4                        27                   1                           0   \n",
            "\n",
            "   Scholarship_Payment_pro  Credit_Payment_pro  ...  Group_Reference_pro  \\\n",
            "0                        1                   0  ...                   20   \n",
            "1                        1                   0  ...                    2   \n",
            "2                        0                   0  ...                    2   \n",
            "3                        0                   0  ...                    8   \n",
            "4                        0                   0  ...                   16   \n",
            "\n",
            "   Student_Program_Method_pro  Institution_Department_pro   Age  \\\n",
            "0                           2                           2  25.0   \n",
            "1                           2                           0  26.0   \n",
            "2                           2                           2  25.0   \n",
            "3                           2                           2  26.0   \n",
            "4                           2                          22  25.0   \n",
            "\n",
            "   Stratum_Change  Computer_Access_Change  Washing_Machine_Access_Change  \\\n",
            "0               0                       0                              0   \n",
            "1               0                       0                              0   \n",
            "2               0                       1                              0   \n",
            "3               1                       0                              1   \n",
            "4               2                       0                              0   \n",
            "\n",
            "   Car_Access_Change  Internet_Access_Change  Working_Hours_Change  \n",
            "0                  0                       0                     0  \n",
            "1                  0                       0                     0  \n",
            "2                  0                       1                     1  \n",
            "3                  0                       1                     1  \n",
            "4                  2                       0                     0  \n",
            "\n",
            "[5 rows x 39 columns]\n",
            "\n",
            "Encoded Validation Data:\n",
            "               ID  Nationality  Gender  Country_of_Residence  Ethnicity  \\\n",
            "0  EK202030111254            0       0                     0          9   \n",
            "1  EK202120270746            0       0                     0          2   \n",
            "2  EK201950256776            0       1                     0          9   \n",
            "3  EK202120067769            0       1                     0          9   \n",
            "4  EK201950196523            0       0                     0          9   \n",
            "\n",
            "   Residence_Department_pro  Residence_Area_pro  University_Tuition_Fee_pro  \\\n",
            "0                        22                   1                           5   \n",
            "1                        13                   1                           7   \n",
            "2                         1                   1                           5   \n",
            "3                        17                   0                           0   \n",
            "4                        27                   1                           1   \n",
            "\n",
            "   Scholarship_Payment_pro  Credit_Payment_pro  ...  Group_Reference_pro  \\\n",
            "0                        0                   0  ...                   12   \n",
            "1                        0                   0  ...                    5   \n",
            "2                        0                   0  ...                    0   \n",
            "3                        1                   0  ...                    3   \n",
            "4                        0                   0  ...                    0   \n",
            "\n",
            "   Student_Program_Method_pro  Institution_Department_pro   Age  \\\n",
            "0                           2                          18  25.0   \n",
            "1                           2                          11  24.0   \n",
            "2                           2                           0  26.0   \n",
            "3                           2                           6  24.0   \n",
            "4                           2                          22  26.0   \n",
            "\n",
            "   Stratum_Change  Computer_Access_Change  Washing_Machine_Access_Change  \\\n",
            "0               1                       0                              1   \n",
            "1               1                       0                              0   \n",
            "2               0                       0                              0   \n",
            "3               2                       1                              0   \n",
            "4               2                       1                              0   \n",
            "\n",
            "   Car_Access_Change  Internet_Access_Change  Working_Hours_Change  \n",
            "0                  1                       0                     1  \n",
            "1                  0                       1                     1  \n",
            "2                  0                       0                     1  \n",
            "3                  0                       1                     1  \n",
            "4                  0                       1                     1  \n",
            "\n",
            "[5 rows x 39 columns]\n",
            "\n",
            "Encoded Test Data:\n",
            "               ID  Nationality  Gender  Country_of_Residence  Ethnicity  \\\n",
            "0  EK201950087577            0       1                     0          9   \n",
            "1  EK202030276111            0       1                     0          9   \n",
            "2  EK202030179056            0       0                     0          9   \n",
            "3  EK202030100459            0       0                     0          9   \n",
            "4  EK202030195904            0       1                     0          9   \n",
            "\n",
            "   Residence_Department_pro  Residence_Area_pro  University_Tuition_Fee_pro  \\\n",
            "0                         4                   1                           6   \n",
            "1                        20                   1                           2   \n",
            "2                        17                   1                           5   \n",
            "3                        14                   0                           0   \n",
            "4                         4                   1                           3   \n",
            "\n",
            "   Scholarship_Payment_pro  Credit_Payment_pro  ...  Group_Reference_pro  \\\n",
            "0                        0                   0  ...                    5   \n",
            "1                        0                   1  ...                    0   \n",
            "2                        0                   0  ...                    0   \n",
            "3                        0                   0  ...                    0   \n",
            "4                        0                   0  ...                   16   \n",
            "\n",
            "   Student_Program_Method_pro  Institution_Department_pro   Age  \\\n",
            "0                           2                           2  28.0   \n",
            "1                           2                          22  24.0   \n",
            "2                           2                          13  25.0   \n",
            "3                           0                           2  25.0   \n",
            "4                           2                           2  25.0   \n",
            "\n",
            "   Stratum_Change  Computer_Access_Change  Washing_Machine_Access_Change  \\\n",
            "0               1                       0                              0   \n",
            "1               1                       0                              0   \n",
            "2               0                       2                              0   \n",
            "3               1                       0                              1   \n",
            "4               0                       0                              0   \n",
            "\n",
            "   Car_Access_Change  Internet_Access_Change  Working_Hours_Change  \n",
            "0                  1                       0                     1  \n",
            "1                  0                       0                     1  \n",
            "2                  0                       0                     1  \n",
            "3                  0                       1                     1  \n",
            "4                  0                       0                     0  \n",
            "\n",
            "[5 rows x 39 columns]\n"
          ]
        }
      ]
    },
    {
      "cell_type": "code",
      "source": [
        "X_train_label.to_csv(\"/content/drive/MyDrive/Thesis Dataset/stratified_train_label.csv\", index=False)\n",
        "X_valid_label.to_csv(\"/content/drive/MyDrive/Thesis Dataset/stratifiedvalid_label.csv\", index=False)\n",
        "X_test_label.to_csv(\"/content/drive/MyDrive/Thesis Dataset/stratifiedtest_label.csv\", index=False)"
      ],
      "metadata": {
        "id": "nj0Cf6lj_e9g"
      },
      "execution_count": null,
      "outputs": []
    }
  ],
  "metadata": {
    "colab": {
      "provenance": []
    },
    "kernelspec": {
      "display_name": "Python 3",
      "name": "python3"
    },
    "language_info": {
      "name": "python"
    }
  },
  "nbformat": 4,
  "nbformat_minor": 0
}